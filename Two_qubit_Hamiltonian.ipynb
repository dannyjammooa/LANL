{
  "nbformat": 4,
  "nbformat_minor": 0,
  "metadata": {
    "colab": {
      "name": "Two qubit Hamiltonian.ipynb",
      "provenance": [],
      "collapsed_sections": [],
      "toc_visible": true,
      "authorship_tag": "ABX9TyN4eRsKy04D/QrbUm6Gklyy",
      "include_colab_link": true
    },
    "kernelspec": {
      "name": "python3",
      "display_name": "Python 3"
    },
    "language_info": {
      "name": "python"
    },
    "widgets": {
      "application/vnd.jupyter.widget-state+json": {
        "d4e48576116144af8da26215e3771c2c": {
          "model_module": "@jupyter-widgets/controls",
          "model_name": "HBoxModel",
          "state": {
            "_view_name": "HBoxView",
            "_dom_classes": [],
            "_model_name": "HBoxModel",
            "_view_module": "@jupyter-widgets/controls",
            "_model_module_version": "1.5.0",
            "_view_count": null,
            "_view_module_version": "1.5.0",
            "box_style": "",
            "layout": "IPY_MODEL_e8a13c73f026410c81cc44d3fa9910ed",
            "_model_module": "@jupyter-widgets/controls",
            "children": [
              "IPY_MODEL_8b507bf40a0c455ca259cce77f56c319",
              "IPY_MODEL_cacb8c613f164d4888e4d4a85fe412b6"
            ]
          }
        },
        "e8a13c73f026410c81cc44d3fa9910ed": {
          "model_module": "@jupyter-widgets/base",
          "model_name": "LayoutModel",
          "state": {
            "_view_name": "LayoutView",
            "grid_template_rows": null,
            "right": null,
            "justify_content": null,
            "_view_module": "@jupyter-widgets/base",
            "overflow": null,
            "_model_module_version": "1.2.0",
            "_view_count": null,
            "flex_flow": null,
            "width": null,
            "min_width": null,
            "border": null,
            "align_items": null,
            "bottom": null,
            "_model_module": "@jupyter-widgets/base",
            "top": null,
            "grid_column": null,
            "overflow_y": null,
            "overflow_x": null,
            "grid_auto_flow": null,
            "grid_area": null,
            "grid_template_columns": null,
            "flex": null,
            "_model_name": "LayoutModel",
            "justify_items": null,
            "grid_row": null,
            "max_height": null,
            "align_content": null,
            "visibility": null,
            "align_self": null,
            "height": null,
            "min_height": null,
            "padding": null,
            "grid_auto_rows": null,
            "grid_gap": null,
            "max_width": null,
            "order": null,
            "_view_module_version": "1.2.0",
            "grid_template_areas": null,
            "object_position": null,
            "object_fit": null,
            "grid_auto_columns": null,
            "margin": null,
            "display": null,
            "left": null
          }
        },
        "8b507bf40a0c455ca259cce77f56c319": {
          "model_module": "@jupyter-widgets/controls",
          "model_name": "FloatProgressModel",
          "state": {
            "_view_name": "ProgressView",
            "style": "IPY_MODEL_484b76a254b94274820749e4c00bb0d0",
            "_dom_classes": [],
            "description": "100%",
            "_model_name": "FloatProgressModel",
            "bar_style": "success",
            "max": 299,
            "_view_module": "@jupyter-widgets/controls",
            "_model_module_version": "1.5.0",
            "value": 299,
            "_view_count": null,
            "_view_module_version": "1.5.0",
            "orientation": "horizontal",
            "min": 0,
            "description_tooltip": null,
            "_model_module": "@jupyter-widgets/controls",
            "layout": "IPY_MODEL_cffe9cf34dbc401a9a55858e77f23407"
          }
        },
        "cacb8c613f164d4888e4d4a85fe412b6": {
          "model_module": "@jupyter-widgets/controls",
          "model_name": "HTMLModel",
          "state": {
            "_view_name": "HTMLView",
            "style": "IPY_MODEL_53c010563d4247ab9a15b60f54062ae1",
            "_dom_classes": [],
            "description": "",
            "_model_name": "HTMLModel",
            "placeholder": "​",
            "_view_module": "@jupyter-widgets/controls",
            "_model_module_version": "1.5.0",
            "value": " 299/299 [05:26&lt;00:00,  1.09s/it]",
            "_view_count": null,
            "_view_module_version": "1.5.0",
            "description_tooltip": null,
            "_model_module": "@jupyter-widgets/controls",
            "layout": "IPY_MODEL_5ce04577ecfc4a5da60c6de752c4c869"
          }
        },
        "484b76a254b94274820749e4c00bb0d0": {
          "model_module": "@jupyter-widgets/controls",
          "model_name": "ProgressStyleModel",
          "state": {
            "_view_name": "StyleView",
            "_model_name": "ProgressStyleModel",
            "description_width": "initial",
            "_view_module": "@jupyter-widgets/base",
            "_model_module_version": "1.5.0",
            "_view_count": null,
            "_view_module_version": "1.2.0",
            "bar_color": null,
            "_model_module": "@jupyter-widgets/controls"
          }
        },
        "cffe9cf34dbc401a9a55858e77f23407": {
          "model_module": "@jupyter-widgets/base",
          "model_name": "LayoutModel",
          "state": {
            "_view_name": "LayoutView",
            "grid_template_rows": null,
            "right": null,
            "justify_content": null,
            "_view_module": "@jupyter-widgets/base",
            "overflow": null,
            "_model_module_version": "1.2.0",
            "_view_count": null,
            "flex_flow": null,
            "width": null,
            "min_width": null,
            "border": null,
            "align_items": null,
            "bottom": null,
            "_model_module": "@jupyter-widgets/base",
            "top": null,
            "grid_column": null,
            "overflow_y": null,
            "overflow_x": null,
            "grid_auto_flow": null,
            "grid_area": null,
            "grid_template_columns": null,
            "flex": null,
            "_model_name": "LayoutModel",
            "justify_items": null,
            "grid_row": null,
            "max_height": null,
            "align_content": null,
            "visibility": null,
            "align_self": null,
            "height": null,
            "min_height": null,
            "padding": null,
            "grid_auto_rows": null,
            "grid_gap": null,
            "max_width": null,
            "order": null,
            "_view_module_version": "1.2.0",
            "grid_template_areas": null,
            "object_position": null,
            "object_fit": null,
            "grid_auto_columns": null,
            "margin": null,
            "display": null,
            "left": null
          }
        },
        "53c010563d4247ab9a15b60f54062ae1": {
          "model_module": "@jupyter-widgets/controls",
          "model_name": "DescriptionStyleModel",
          "state": {
            "_view_name": "StyleView",
            "_model_name": "DescriptionStyleModel",
            "description_width": "",
            "_view_module": "@jupyter-widgets/base",
            "_model_module_version": "1.5.0",
            "_view_count": null,
            "_view_module_version": "1.2.0",
            "_model_module": "@jupyter-widgets/controls"
          }
        },
        "5ce04577ecfc4a5da60c6de752c4c869": {
          "model_module": "@jupyter-widgets/base",
          "model_name": "LayoutModel",
          "state": {
            "_view_name": "LayoutView",
            "grid_template_rows": null,
            "right": null,
            "justify_content": null,
            "_view_module": "@jupyter-widgets/base",
            "overflow": null,
            "_model_module_version": "1.2.0",
            "_view_count": null,
            "flex_flow": null,
            "width": null,
            "min_width": null,
            "border": null,
            "align_items": null,
            "bottom": null,
            "_model_module": "@jupyter-widgets/base",
            "top": null,
            "grid_column": null,
            "overflow_y": null,
            "overflow_x": null,
            "grid_auto_flow": null,
            "grid_area": null,
            "grid_template_columns": null,
            "flex": null,
            "_model_name": "LayoutModel",
            "justify_items": null,
            "grid_row": null,
            "max_height": null,
            "align_content": null,
            "visibility": null,
            "align_self": null,
            "height": null,
            "min_height": null,
            "padding": null,
            "grid_auto_rows": null,
            "grid_gap": null,
            "max_width": null,
            "order": null,
            "_view_module_version": "1.2.0",
            "grid_template_areas": null,
            "object_position": null,
            "object_fit": null,
            "grid_auto_columns": null,
            "margin": null,
            "display": null,
            "left": null
          }
        }
      }
    }
  },
  "cells": [
    {
      "cell_type": "markdown",
      "metadata": {
        "id": "view-in-github",
        "colab_type": "text"
      },
      "source": [
        "<a href=\"https://colab.research.google.com/github/dannyjammooa/LANL/blob/main/Two_qubit_Hamiltonian.ipynb\" target=\"_parent\"><img src=\"https://colab.research.google.com/assets/colab-badge.svg\" alt=\"Open In Colab\"/></a>"
      ]
    },
    {
      "cell_type": "markdown",
      "metadata": {
        "id": "GZN6eVWXrdcE"
      },
      "source": [
        "# Libraries"
      ]
    },
    {
      "cell_type": "code",
      "metadata": {
        "colab": {
          "base_uri": "https://localhost:8080/"
        },
        "id": "D998qjTH77Mf",
        "outputId": "9e68096f-d9c9-4112-e8ab-1f92cb6ca306"
      },
      "source": [
        "pip install qiskit;"
      ],
      "execution_count": 4,
      "outputs": [
        {
          "output_type": "stream",
          "text": [
            "Collecting qiskit\n",
            "  Downloading qiskit-0.28.0.tar.gz (12 kB)\n",
            "Collecting qiskit-terra==0.18.0\n",
            "  Downloading qiskit_terra-0.18.0-cp37-cp37m-manylinux2010_x86_64.whl (6.1 MB)\n",
            "\u001b[K     |████████████████████████████████| 6.1 MB 4.4 MB/s \n",
            "\u001b[?25hCollecting qiskit-aer==0.8.2\n",
            "  Downloading qiskit_aer-0.8.2-cp37-cp37m-manylinux2010_x86_64.whl (18.0 MB)\n",
            "\u001b[K     |████████████████████████████████| 18.0 MB 116 kB/s \n",
            "\u001b[?25hCollecting qiskit-ibmq-provider==0.15.0\n",
            "  Downloading qiskit_ibmq_provider-0.15.0-py3-none-any.whl (234 kB)\n",
            "\u001b[K     |████████████████████████████████| 234 kB 56.7 MB/s \n",
            "\u001b[?25hCollecting qiskit-ignis==0.6.0\n",
            "  Downloading qiskit_ignis-0.6.0-py3-none-any.whl (207 kB)\n",
            "\u001b[K     |████████████████████████████████| 207 kB 57.9 MB/s \n",
            "\u001b[?25hCollecting qiskit-aqua==0.9.4\n",
            "  Downloading qiskit_aqua-0.9.4-py3-none-any.whl (2.1 MB)\n",
            "\u001b[K     |████████████████████████████████| 2.1 MB 24.3 MB/s \n",
            "\u001b[?25hRequirement already satisfied: scipy>=1.0 in /usr/local/lib/python3.7/dist-packages (from qiskit-aer==0.8.2->qiskit) (1.4.1)\n",
            "Requirement already satisfied: numpy>=1.16.3 in /usr/local/lib/python3.7/dist-packages (from qiskit-aer==0.8.2->qiskit) (1.19.5)\n",
            "Collecting pybind11>=2.6\n",
            "  Downloading pybind11-2.7.0-py2.py3-none-any.whl (199 kB)\n",
            "\u001b[K     |████████████████████████████████| 199 kB 59.9 MB/s \n",
            "\u001b[?25hRequirement already satisfied: scikit-learn>=0.20.0 in /usr/local/lib/python3.7/dist-packages (from qiskit-aqua==0.9.4->qiskit) (0.22.2.post1)\n",
            "Requirement already satisfied: h5py<3.3.0 in /usr/local/lib/python3.7/dist-packages (from qiskit-aqua==0.9.4->qiskit) (3.1.0)\n",
            "Collecting quandl\n",
            "  Downloading Quandl-3.6.1-py2.py3-none-any.whl (26 kB)\n",
            "Requirement already satisfied: setuptools>=40.1.0 in /usr/local/lib/python3.7/dist-packages (from qiskit-aqua==0.9.4->qiskit) (57.2.0)\n",
            "Requirement already satisfied: fastdtw<=0.3.4 in /usr/local/lib/python3.7/dist-packages (from qiskit-aqua==0.9.4->qiskit) (0.3.4)\n",
            "Requirement already satisfied: sympy>=1.3 in /usr/local/lib/python3.7/dist-packages (from qiskit-aqua==0.9.4->qiskit) (1.7.1)\n",
            "Collecting yfinance<0.1.63\n",
            "  Downloading yfinance-0.1.62.tar.gz (26 kB)\n",
            "Collecting docplex>=2.21.207\n",
            "  Downloading docplex-2.21.207.tar.gz (635 kB)\n",
            "\u001b[K     |████████████████████████████████| 635 kB 27.2 MB/s \n",
            "\u001b[?25hRequirement already satisfied: psutil>=5 in /usr/local/lib/python3.7/dist-packages (from qiskit-aqua==0.9.4->qiskit) (5.4.8)\n",
            "Requirement already satisfied: pandas in /usr/local/lib/python3.7/dist-packages (from qiskit-aqua==0.9.4->qiskit) (1.1.5)\n",
            "Collecting dlx<=1.0.4\n",
            "  Downloading dlx-1.0.4.tar.gz (5.5 kB)\n",
            "Collecting retworkx>=0.8.0\n",
            "  Downloading retworkx-0.9.0-cp37-cp37m-manylinux_2_5_x86_64.manylinux1_x86_64.manylinux_2_12_x86_64.manylinux2010_x86_64.whl (1.4 MB)\n",
            "\u001b[K     |████████████████████████████████| 1.4 MB 42.3 MB/s \n",
            "\u001b[?25hRequirement already satisfied: urllib3>=1.21.1 in /usr/local/lib/python3.7/dist-packages (from qiskit-ibmq-provider==0.15.0->qiskit) (1.24.3)\n",
            "Requirement already satisfied: requests>=2.19 in /usr/local/lib/python3.7/dist-packages (from qiskit-ibmq-provider==0.15.0->qiskit) (2.23.0)\n",
            "Collecting websocket-client>=1.0.1\n",
            "  Downloading websocket_client-1.1.0-py2.py3-none-any.whl (68 kB)\n",
            "\u001b[K     |████████████████████████████████| 68 kB 6.1 MB/s \n",
            "\u001b[?25hCollecting requests-ntlm>=1.1.0\n",
            "  Downloading requests_ntlm-1.1.0-py2.py3-none-any.whl (5.7 kB)\n",
            "Requirement already satisfied: python-dateutil>=2.8.0 in /usr/local/lib/python3.7/dist-packages (from qiskit-ibmq-provider==0.15.0->qiskit) (2.8.1)\n",
            "Collecting ply>=3.10\n",
            "  Downloading ply-3.11-py2.py3-none-any.whl (49 kB)\n",
            "\u001b[K     |████████████████████████████████| 49 kB 5.2 MB/s \n",
            "\u001b[?25hRequirement already satisfied: jsonschema>=2.6 in /usr/local/lib/python3.7/dist-packages (from qiskit-terra==0.18.0->qiskit) (2.6.0)\n",
            "Requirement already satisfied: dill>=0.3 in /usr/local/lib/python3.7/dist-packages (from qiskit-terra==0.18.0->qiskit) (0.3.4)\n",
            "Collecting python-constraint>=1.4\n",
            "  Downloading python-constraint-1.4.0.tar.bz2 (18 kB)\n",
            "Collecting symengine>0.7\n",
            "  Downloading symengine-0.7.2-cp37-cp37m-manylinux2010_x86_64.whl (33.9 MB)\n",
            "\u001b[K     |████████████████████████████████| 33.9 MB 19 kB/s \n",
            "\u001b[?25hCollecting tweedledum<2.0,>=1.1\n",
            "  Downloading tweedledum-1.1.0-cp37-cp37m-manylinux_2_12_x86_64.manylinux2010_x86_64.whl (943 kB)\n",
            "\u001b[K     |████████████████████████████████| 943 kB 48.9 MB/s \n",
            "\u001b[?25hCollecting fastjsonschema>=2.10\n",
            "  Downloading fastjsonschema-2.15.1-py3-none-any.whl (21 kB)\n",
            "Requirement already satisfied: six in /usr/local/lib/python3.7/dist-packages (from docplex>=2.21.207->qiskit-aqua==0.9.4->qiskit) (1.15.0)\n",
            "Requirement already satisfied: cached-property in /usr/local/lib/python3.7/dist-packages (from h5py<3.3.0->qiskit-aqua==0.9.4->qiskit) (1.5.2)\n",
            "Requirement already satisfied: chardet<4,>=3.0.2 in /usr/local/lib/python3.7/dist-packages (from requests>=2.19->qiskit-ibmq-provider==0.15.0->qiskit) (3.0.4)\n",
            "Requirement already satisfied: certifi>=2017.4.17 in /usr/local/lib/python3.7/dist-packages (from requests>=2.19->qiskit-ibmq-provider==0.15.0->qiskit) (2021.5.30)\n",
            "Requirement already satisfied: idna<3,>=2.5 in /usr/local/lib/python3.7/dist-packages (from requests>=2.19->qiskit-ibmq-provider==0.15.0->qiskit) (2.10)\n",
            "Collecting ntlm-auth>=1.0.2\n",
            "  Downloading ntlm_auth-1.5.0-py2.py3-none-any.whl (29 kB)\n",
            "Collecting cryptography>=1.3\n",
            "  Downloading cryptography-3.4.7-cp36-abi3-manylinux2014_x86_64.whl (3.2 MB)\n",
            "\u001b[K     |████████████████████████████████| 3.2 MB 47.0 MB/s \n",
            "\u001b[?25hRequirement already satisfied: cffi>=1.12 in /usr/local/lib/python3.7/dist-packages (from cryptography>=1.3->requests-ntlm>=1.1.0->qiskit-ibmq-provider==0.15.0->qiskit) (1.14.6)\n",
            "Requirement already satisfied: pycparser in /usr/local/lib/python3.7/dist-packages (from cffi>=1.12->cryptography>=1.3->requests-ntlm>=1.1.0->qiskit-ibmq-provider==0.15.0->qiskit) (2.20)\n",
            "Requirement already satisfied: joblib>=0.11 in /usr/local/lib/python3.7/dist-packages (from scikit-learn>=0.20.0->qiskit-aqua==0.9.4->qiskit) (1.0.1)\n",
            "Requirement already satisfied: mpmath>=0.19 in /usr/local/lib/python3.7/dist-packages (from sympy>=1.3->qiskit-aqua==0.9.4->qiskit) (1.2.1)\n",
            "Requirement already satisfied: multitasking>=0.0.7 in /usr/local/lib/python3.7/dist-packages (from yfinance<0.1.63->qiskit-aqua==0.9.4->qiskit) (0.0.9)\n",
            "Collecting lxml>=4.5.1\n",
            "  Downloading lxml-4.6.3-cp37-cp37m-manylinux2014_x86_64.whl (6.3 MB)\n",
            "\u001b[K     |████████████████████████████████| 6.3 MB 39.3 MB/s \n",
            "\u001b[?25hRequirement already satisfied: pytz>=2017.2 in /usr/local/lib/python3.7/dist-packages (from pandas->qiskit-aqua==0.9.4->qiskit) (2018.9)\n",
            "Requirement already satisfied: more-itertools in /usr/local/lib/python3.7/dist-packages (from quandl->qiskit-aqua==0.9.4->qiskit) (8.8.0)\n",
            "Collecting inflection>=0.3.1\n",
            "  Downloading inflection-0.5.1-py2.py3-none-any.whl (9.5 kB)\n",
            "Building wheels for collected packages: qiskit, dlx, docplex, python-constraint, yfinance\n",
            "  Building wheel for qiskit (setup.py) ... \u001b[?25l\u001b[?25hdone\n",
            "  Created wheel for qiskit: filename=qiskit-0.28.0-py3-none-any.whl size=11090 sha256=2b384a36a8d34b10e091e07b552751ccf607ada22c050a6d62b868e0b76f553f\n",
            "  Stored in directory: /root/.cache/pip/wheels/aa/7f/f7/f684068656b60591be96f758a6e80454a5ea5af86152598539\n",
            "  Building wheel for dlx (setup.py) ... \u001b[?25l\u001b[?25hdone\n",
            "  Created wheel for dlx: filename=dlx-1.0.4-py3-none-any.whl size=5719 sha256=4a590c107d843beef76f9441cc3258031b89343ef7a9ec9d45cedc57806660f3\n",
            "  Stored in directory: /root/.cache/pip/wheels/78/55/c8/dc61e772445a566b7608a476d151e9dcaf4e092b01b0c4bc3c\n",
            "  Building wheel for docplex (setup.py) ... \u001b[?25l\u001b[?25hdone\n",
            "  Created wheel for docplex: filename=docplex-2.21.207-py3-none-any.whl size=700543 sha256=be186d125e8a083509ce7df001b780690ccace9838cff943a78e51ed6ef6fc20\n",
            "  Stored in directory: /root/.cache/pip/wheels/d8/4e/62/e43a45757e70549e6aa4712ccfcf67440a203c278ecb68de49\n",
            "  Building wheel for python-constraint (setup.py) ... \u001b[?25l\u001b[?25hdone\n",
            "  Created wheel for python-constraint: filename=python_constraint-1.4.0-py2.py3-none-any.whl size=24079 sha256=7cfe185a915f8193907199085b82764afca92e6b5fb1610a085a74ef141cfa83\n",
            "  Stored in directory: /root/.cache/pip/wheels/07/27/db/1222c80eb1e431f3d2199c12569cb1cac60f562a451fe30479\n",
            "  Building wheel for yfinance (setup.py) ... \u001b[?25l\u001b[?25hdone\n",
            "  Created wheel for yfinance: filename=yfinance-0.1.62-py2.py3-none-any.whl size=23867 sha256=ad98dbfcc314aeb9826662dfb5a0fab4e4c10ca810817cdadb726b791f45234c\n",
            "  Stored in directory: /root/.cache/pip/wheels/4c/3a/2e/53936bb0b112189d5532492b32dd8f3e442cba9d832ceef3b6\n",
            "Successfully built qiskit dlx docplex python-constraint yfinance\n",
            "Installing collected packages: tweedledum, symengine, retworkx, python-constraint, ply, fastjsonschema, qiskit-terra, ntlm-auth, lxml, inflection, cryptography, yfinance, websocket-client, requests-ntlm, quandl, qiskit-ignis, pybind11, docplex, dlx, qiskit-ibmq-provider, qiskit-aqua, qiskit-aer, qiskit\n",
            "  Attempting uninstall: lxml\n",
            "    Found existing installation: lxml 4.2.6\n",
            "    Uninstalling lxml-4.2.6:\n",
            "      Successfully uninstalled lxml-4.2.6\n",
            "Successfully installed cryptography-3.4.7 dlx-1.0.4 docplex-2.21.207 fastjsonschema-2.15.1 inflection-0.5.1 lxml-4.6.3 ntlm-auth-1.5.0 ply-3.11 pybind11-2.7.0 python-constraint-1.4.0 qiskit-0.28.0 qiskit-aer-0.8.2 qiskit-aqua-0.9.4 qiskit-ibmq-provider-0.15.0 qiskit-ignis-0.6.0 qiskit-terra-0.18.0 quandl-3.6.1 requests-ntlm-1.1.0 retworkx-0.9.0 symengine-0.7.2 tweedledum-1.1.0 websocket-client-1.1.0 yfinance-0.1.62\n"
          ],
          "name": "stdout"
        }
      ]
    },
    {
      "cell_type": "code",
      "metadata": {
        "id": "NlapyOm8qvPW"
      },
      "source": [
        "import numpy as np\n",
        "import warnings\n",
        "from tqdm.auto import tqdm\n",
        "import qiskit as qk\n",
        "from qiskit.circuit import QuantumCircuit, Parameter\n",
        "from qiskit import Aer, assemble\n",
        "from qiskit.visualization import circuit_drawer, plot_histogram, plot_state_qsphere\n",
        "from qiskit import *\n",
        "import matplotlib.pyplot as plt\n",
        "from matplotlib.pyplot import figure\n",
        "pi = np.pi\n",
        "%matplotlib inline"
      ],
      "execution_count": 5,
      "outputs": []
    },
    {
      "cell_type": "markdown",
      "metadata": {
        "id": "rjJzPT15q3ZR"
      },
      "source": [
        "# Two qbit System"
      ]
    },
    {
      "cell_type": "markdown",
      "metadata": {
        "id": "PHd97hWgqmp8"
      },
      "source": [
        "Consider the two qbit Hamiltonian:\n",
        "\n",
        "\\begin{equation}\n",
        "   H = A \\sigma_0 \\cdot \\sigma_1 + B (\\sigma_{0}^z + \\sigma_1^z),\n",
        "\\end{equation}\n",
        "where $\\sigma_0 \\cdot \\sigma_1 = \n",
        "\\sigma_0^x \\sigma_1^x + \n",
        "\\sigma_0^y \\sigma_1^y + \n",
        "\\sigma_0^z \\sigma_1^z  $.\n",
        "This is a simplification of Eq. 3 in the paper by Smith, Kin, Pollman, and Knolle.\n",
        "The eigenstates of this Hamiltonian and their energies are:\n",
        "\\begin{eqnarray}\n",
        " \\Psi_{1,-1} &= | 0 0 \\rangle & E = A - 2 B \\nonumber \\\\\n",
        "\\Psi_{1,0} &= (| 0 1 \\rangle + | 1 0 \\rangle)/\\sqrt{2} & E = A \\nonumber \\\\\n",
        "\\Psi_{1,1} & = (| 1 1 \\rangle ) & E = A + 2 B \\nonumber \\\\\n",
        "\\Psi_{0,0} & = (| 0 1 \\rangle - | 1 0 \\rangle)/\\sqrt{2} & E = -3 A .\n",
        "\\end{eqnarray}\n",
        "I am using the convention $\\sigma_z |1 \\rangle  = | 1 \\rangle,\n",
        "\\sigma_z | 0 \\rangle = - | 0 \\rangle $.\n",
        "If I start with a state with both down or both up states, \n",
        "they remain the same except for a phase with time evolution.  \n",
        "\\begin{equation}\n",
        "\\exp [ - i H \\delta t] | 1 1 \\rangle = \\exp [ - i (A+2B) \\delta t] | 1 1 \\rangle\n",
        "\\end{equation}.\n",
        "However if I take an initial state $ | 1 0 \\rangle$, for example,\n",
        "this is a linear  combination of eigenstates:\n",
        "\\begin{equation}\n",
        "| 1 0 \\rangle = ( 1/ \\sqrt{2}) (\\Psi_{1,0} - \\Psi_{0,0})\n",
        "\\end{equation}\n",
        "Then the time evolved state is the sum of two components with different\n",
        "energies:\n",
        "\\begin{equation}\n",
        "\\exp [-i H \\delta t] | 1 0 \\rangle = \n",
        "[  \\exp[ -i A \\delta t ] \\Psi_{1,0} / \\sqrt{2}\n",
        "- \\exp[ + i 3A \\delta t ] \\Psi_{0,0} / \\sqrt{2} ].\n",
        "\\end{equation}\n",
        "The expectation value of any operator like $\\sigma_0^z, \\sigma_1^z,\n",
        "\\sigma_0 \\cdot \\sigma_1$ will oscillate with the frequency of the\n",
        "difference between the energy of the two state which is 4 A.\n",
        "The total energy should still be constant and for this initial state\n",
        "be equal to the average of the two states $(A - 3A)/2 = -A$.\n",
        "\n"
      ]
    },
    {
      "cell_type": "markdown",
      "metadata": {
        "id": "vwEW9Tb026zi"
      },
      "source": [
        ""
      ]
    },
    {
      "cell_type": "markdown",
      "metadata": {
        "id": "qZ8mB0Ygq-XS"
      },
      "source": [
        "# Functions"
      ]
    },
    {
      "cell_type": "markdown",
      "metadata": {
        "id": "RIIYy5SSrAzX"
      },
      "source": [
        "## Measurement Functions"
      ]
    },
    {
      "cell_type": "code",
      "metadata": {
        "id": "CDrrVRyZ79Ou"
      },
      "source": [
        "#Measurment Functions\n",
        "\n",
        "#execute the circuit using qasm_simulator as backend\n",
        "def execute_QC(quantum_circuit,shot):\n",
        "  simulator = Aer.get_backend('qasm_simulator')\n",
        "  result = execute(quantum_circuit, backend=simulator, shots=shot).result().get_counts()\n",
        "  return result\n",
        "\n",
        "#X-basis\n",
        "def X_measurement(qc, qubit, cbit):\n",
        "    \"\"\"Measure 'qubit' in the X-basis, and store the result in 'cbit'\"\"\"\n",
        "    qc.h(qubit)\n",
        "    qc.measure(qubit, cbit)\n",
        "    return qc\n",
        "\n",
        "#Y-basis\n",
        "def Y_measurement(qc, qubit, cbit):\n",
        "   \"\"\"Measure 'qubit' in the Y-basis, and store the result in 'cbit'\"\"\"\n",
        "   qc.sdg(qubit)\n",
        "   qc.h(qubit)\n",
        "   qc.measure(qubit, cbit)\n",
        "   return qc\n",
        "\n",
        "#ZZ-basis\n",
        "def ZZ_measurement(qc,qubit1,qubit2,cbit1,cbit2):\n",
        "  qc.measure(qubit1,cbit1)\n",
        "  qc.measure(qubit2,cbit2)\n",
        "  return qc\n",
        "\n",
        "#XX-basis\n",
        "def XX_measurement(qc,qubit1,qubit2,cbit1,cbit2):\n",
        "  qc.h(qubit1)\n",
        "  qc.h(qubit2)\n",
        "  qc.measure(qubit1,cbit1)\n",
        "  qc.measure(qubit2,cbit2)\n",
        "  return qc\n",
        "\n",
        "#YY-basis\n",
        "def YY_measurement(qc,qubit1,qubit2,cbit1,cbit2):\n",
        "  qc.sdg(qubit1)\n",
        "  qc.sdg(qubit2)\n",
        "  qc.h(qubit1)\n",
        "  qc.h(qubit2)\n",
        "  qc.measure(qubit1,cbit1)\n",
        "  qc.measure(qubit2,cbit2)\n",
        "  return qc\n",
        "\n",
        "#combinding all measurement into one function\n",
        "def Measure(qc, basis, qubit1,qubit2,cbit1,cbit2):\n",
        "  if basis == 'Z1':\n",
        "    qc.measure([qubit1],[cbit1])\n",
        "  elif basis =='Z2':\n",
        "    qc.measure([qubit2],[cbit2])\n",
        "  elif basis == 'Y':\n",
        "    Y_measurement(qc,qubit1,cbit1)\n",
        "  elif basis == 'X':\n",
        "    X_measurement(qc,qubit1,cbit1)\n",
        "  elif basis == 'ZZ':\n",
        "    ZZ_measurement(qc, qubit1,qubit2,cbit1,cbit2)\n",
        "  elif basis == 'YY':\n",
        "    YY_measurement(qc, qubit1,qubit2,cbit1,cbit2)\n",
        "  elif basis == 'XX':\n",
        "    XX_measurement(qc, qubit1,qubit2,cbit1,cbit2)\n",
        "  return qc"
      ],
      "execution_count": 6,
      "outputs": []
    },
    {
      "cell_type": "markdown",
      "metadata": {
        "id": "y-tBg0NgrkWj"
      },
      "source": [
        "## Quantum Circuit and gate functions"
      ]
    },
    {
      "cell_type": "code",
      "metadata": {
        "id": "4VOPoafz7-m-"
      },
      "source": [
        "#choosing our initial state\n",
        "def Initial_State(quantum_circuit,IS,nqbits):\n",
        "  if IS == 'odd': #skips odd numbered qubits\n",
        "    for idx in range(nqbits):\n",
        "      if idx%2 == 0: \n",
        "        continue\n",
        "      else:\n",
        "        quantum_circuit.x(idx)\n",
        "  elif IS =='even': #skips odd numbered qubits\n",
        "    for idx in range(nqbits):\n",
        "      if idx%2 == 0: \n",
        "        quantum_circuit.x(idx)\n",
        "      else:\n",
        "        continue\n",
        "\n",
        "#N(alpha,beta,gamma) gate from the paper\n",
        "#Half time step\n",
        "def SWAP1(var,t):\n",
        "  a = var[0]\n",
        "  b = var[1]\n",
        "  y = var[2]\n",
        "  theta = pi/2 - 2*y \n",
        "  phi = 2*a-pi/2\n",
        "  lamda = pi/2 -2*b\n",
        "  qc = QuantumCircuit(2, name='Half')\n",
        "  qc.rz((-pi/2)*t,1)\n",
        "  qc.cx(1,0)\n",
        "  qc.rz(theta*t,0)\n",
        "  qc.ry(phi*t,1)\n",
        "  qc.cx(0,1)\n",
        "  qc.ry(lamda*t,1)\n",
        "  qc.cx(1,0)\n",
        "  qc.rz((pi/2)*t,0)\n",
        "  return qc\n",
        "\n",
        "#N(alpha,beta,gamma) gate from the paper\n",
        "#Full time step\n",
        "def SWAP2(var,t):\n",
        "  a = var[0]\n",
        "  b = var[1]\n",
        "  y = var[2]\n",
        "  theta = pi/2 - 2*y #angle that depend on the zz two-body coefficient\n",
        "  phi = 2*a-pi/2     #angle that depend on the xx two-body coefficient\n",
        "  lamda = pi/2 -2*b  #angle that depend on the yy two-body coefficient\n",
        "  qc = QuantumCircuit(2, name='Full')\n",
        "  qc.rz((-pi/2)*t,1)\n",
        "  qc.cx(1,0)\n",
        "  qc.rz(theta*t,0)\n",
        "  qc.ry(phi*t,1)\n",
        "  qc.cx(0,1)\n",
        "  qc.ry(lamda*t,1)\n",
        "  qc.cx(1,0)\n",
        "  qc.rz((pi/2)*t,0)\n",
        "  return qc\n",
        "\n",
        "#The full unitary time evolution \n",
        "def Unitary(quantum_circuit,var,nqbits,h,t):\n",
        "  psi = 2*h - pi/2  #angle that depends on the z one-body coefficient\n",
        "  #one-body term\n",
        "  for idx in range(nqbits):\n",
        "    quantum_circuit.rz(-psi*0.5*t,idx) #Rz(-psi*t/2)\n",
        "  quantum_circuit.barrier()\n",
        "  #two-body term / odd qubits swaped/ half time step\n",
        "  for idx in range(nqbits):\n",
        "    if idx%2 == 0:\n",
        "      continue\n",
        "    else:\n",
        "      if idx == nqbits-1:\n",
        "        break\n",
        "      else:\n",
        "        quantum_circuit.append(SWAP1(var,0.5*t), [idx,idx+1])\n",
        "  #two-body term / even qubits swaped/ full time step\n",
        "  for idx in range(nqbits):\n",
        "    if idx%2 == 1:\n",
        "      continue\n",
        "    else:\n",
        "      if idx == nqbits:\n",
        "        break\n",
        "      else:\n",
        "        quantum_circuit.append(SWAP2(var,t), [idx,idx+1])\n",
        "  #two-body term / odd qubits swaped/ half time step\n",
        "  for idx in range(nqbits):\n",
        "    if idx%2 == 0:\n",
        "      continue\n",
        "    else:\n",
        "      if idx == nqbits-1:\n",
        "        break\n",
        "      else:\n",
        "        quantum_circuit.append(SWAP1(var,0.5*t), [idx,idx+1])\n",
        "  quantum_circuit.barrier()\n",
        "  #one-body term\n",
        "  for idx in range(nqbits):\n",
        "    quantum_circuit.rz(psi*0.5*t,idx) #Rz(psi*t/2)\n",
        "  return quantum_circuit\n",
        "\n",
        "#applies trotter steps\n",
        "def Trotter(quantum_circuit, numTstep, nqbits, var, h, t):\n",
        "  for i in range(numTstep):\n",
        "      Unitary(quantum_circuit, var, nqbits, h, t)\n",
        "  return quantum_circuit\n",
        "\n",
        "#creates our quantum Circuit\n",
        "def Quantum_Circuit(IS,nqbits,ncbits, var, numTstep,h,t):\n",
        "     Qreg = QuantumRegister(nqbits)\n",
        "     Creg = ClassicalRegister(ncbits)\n",
        "     QC = QuantumCircuit(Qreg,Creg)\n",
        "     Initial_State(QC,IS,nqbits)\n",
        "     QC.barrier()\n",
        "     Trotter(QC,numTstep,nqbits,var,h,t)\n",
        "     return QC\n",
        "\n",
        "#creates/measures/excute our quantum circuit and stores the probabilies of measured circuit\n",
        "#given the basis it was measured in to an array for each of the for states\n",
        "#|00>, |01>, |10>, |11>\n",
        "def Results(IS,nqbits,ncbits,numTstep,basis,var,shots,h,t):\n",
        "  qc = Quantum_Circuit(IS,nqbits,ncbits,var,numTstep,h,t)\n",
        "  prob00 = []\n",
        "  prob01 = []\n",
        "  prob10 = []\n",
        "  prob11 = []\n",
        "  for measure_circuit in basis:\n",
        "    QC = qc + Measure(qc,measure_circuit,0,1,0,1)\n",
        "    counts = execute_QC(QC,shots)\n",
        "    probs = {}\n",
        "    for output in ['00','01', '10', '11']:\n",
        "      if output in counts:\n",
        "        probs[output] = counts[output]/shots\n",
        "      else:\n",
        "        probs[output] = 0\n",
        "    prob00.append(probs['00'])\n",
        "    prob10.append(probs['01'])\n",
        "    prob01.append(probs['10'])\n",
        "    prob11.append(probs['11'])\n",
        "  return prob00, prob01, prob10, prob11"
      ],
      "execution_count": 7,
      "outputs": []
    },
    {
      "cell_type": "markdown",
      "metadata": {
        "id": "w1CsLI_VvB_Y"
      },
      "source": [
        "# Results given |10> initial state"
      ]
    },
    {
      "cell_type": "code",
      "metadata": {
        "id": "IrELKYpO9H54",
        "colab": {
          "base_uri": "https://localhost:8080/"
        },
        "outputId": "cc8beaf3-deaf-4cd0-e894-e10f59de551d"
      },
      "source": [
        "Shots= 10000 #number of shots\n",
        "qbit = 2 #size of circuit\n",
        "cbit = 2 #size of the classical reg\n",
        "trotter = 1 #number of trotter steps\n",
        "t= 9.3 #time\n",
        "basis = ['Z1','Z2','ZZ','XX','YY'] #measures the circuit given said basis\n",
        "A = 0.7 #Arbitrary value given to the two-body constant A \n",
        "B = 0.3 #Arbitrary value given to the one-body constant B \n",
        "Var = np.array([A,A,A]) #since alpha=beta=gamma=A in this problem\n",
        "Res = Results('even',qbit,cbit,trotter,basis,Var,Shots,B,t) #creates/measures/excute circuit\n",
        "#storing each state given basis measurement in an array\n",
        "S00 = Res[0]\n",
        "S01 = Res[1]\n",
        "S10 = Res[2]\n",
        "S11 = Res[3]\n",
        "print('S--','[Z1,Z2,ZZ,XX,YY]')\n",
        "print('S00',S00)\n",
        "print('S01',S01)\n",
        "print('S10',S10)\n",
        "print('S11',S11)"
      ],
      "execution_count": 8,
      "outputs": [
        {
          "output_type": "stream",
          "text": [
            "/usr/local/lib/python3.7/dist-packages/ipykernel_launcher.py:122: DeprecationWarning: The QuantumCircuit.__add__() method is being deprecated.Use the compose() method which is more flexible w.r.t circuit register compatibility.\n",
            "/usr/local/lib/python3.7/dist-packages/qiskit/circuit/quantumcircuit.py:933: DeprecationWarning: The QuantumCircuit.combine() method is being deprecated. Use the compose() method which is more flexible w.r.t circuit register compatibility.\n",
            "  return self.combine(rhs)\n"
          ],
          "name": "stderr"
        },
        {
          "output_type": "stream",
          "text": [
            "S-- [Z1,Z2,ZZ,XX,YY]\n",
            "S00 [0.9997, 0.9999, 0.9997, 0.2516, 0.2499]\n",
            "S01 [0, 0, 0, 0.2487, 0.2524]\n",
            "S10 [0.0003, 0, 0, 0.243, 0.2532]\n",
            "S11 [0, 0.0001, 0.0003, 0.2567, 0.2445]\n"
          ],
          "name": "stdout"
        }
      ]
    },
    {
      "cell_type": "markdown",
      "metadata": {
        "id": "Px9P4dQI07uQ"
      },
      "source": [
        "## Calculating measurement of states"
      ]
    },
    {
      "cell_type": "code",
      "metadata": {
        "colab": {
          "base_uri": "https://localhost:8080/"
        },
        "id": "hqu2lxarc_sg",
        "outputId": "fb352376-8480-4f6d-b0fd-c607e3522b2f"
      },
      "source": [
        "#trying to understand calculating energy in qiskit\n",
        "print(\"PSI_1-1 Energy = A-2B =\", A-2*B,'------------------', \"Circuit Meassure =\",(-S00[0]-S00[1])+(S00[2]+S00[3]+S00[4]))\n",
        "print(\"PSI_10 Energy = A =\", A, '--------------------------------------',\"Circuit Meassure =\",((-S10[0]+S10[1]+S10[2]+S10[3]+S10[4])+(S01[0]-S01[1]+S01[2]+S01[3]+S01[4]))/np.sqrt(2))\n",
        "print(\"PSI_11 Energy = A+2B =\", A+2*B, '--------------------',\"Circuit Meassure =\",np.sum(S11))\n",
        "print(\"PSI_00 Energy = -3A =\", -3*A,'--------------------', \"Circuit Meassure =\",((-S10[0]+S10[1]+S10[2]+S10[3]+S10[4])-(S01[0]-S01[1]+S01[2]+S01[3]+S01[4]))/np.sqrt(2))"
      ],
      "execution_count": 23,
      "outputs": [
        {
          "output_type": "stream",
          "text": [
            "PSI_1-1 Energy = A-2B = 0.09999999999999998 ------------------ Circuit Meassure = -0.49839999999999995\n",
            "PSI_10 Energy = A = 0.7 -------------------------------------- Circuit Meassure = 0.7049854608429879\n",
            "PSI_11 Energy = A+2B = 1.2999999999999998 -------------------- Circuit Meassure = 0.5016\n",
            "PSI_00 Energy = -3A = -2.0999999999999996 -------------------- Circuit Meassure = -0.0036769552621700344\n"
          ],
          "name": "stdout"
        }
      ]
    },
    {
      "cell_type": "code",
      "metadata": {
        "colab": {
          "base_uri": "https://localhost:8080/"
        },
        "id": "bPCG_NDEen6Y",
        "outputId": "29572a6b-7336-4f41-f3a5-de8013e51f7c"
      },
      "source": [
        "#|01> = |10> in qiskit\n",
        "PSI_10 = ((S01[0]-S01[1]+S01[2]+S01[3]+S01[4])+(S10[0]+S10[1]+S10[2]+S10[3]+S10[4]))/np.sqrt(2)\n",
        "PSI_00 = ((S01[0]-S01[1]+S01[2]+S01[3]+S01[4])-(S10[0]+S10[1]+S10[2]+S10[3]+S10[4]))/np.sqrt(2)\n",
        "print(PSI_10-PSI_00)"
      ],
      "execution_count": 12,
      "outputs": [
        {
          "output_type": "stream",
          "text": [
            "0.7021570337182416\n",
            "-A= -0.7\n"
          ],
          "name": "stdout"
        }
      ]
    },
    {
      "cell_type": "code",
      "metadata": {
        "colab": {
          "base_uri": "https://localhost:8080/"
        },
        "id": "8m8h-FKVD2EV",
        "outputId": "274ab021-b50a-4e3e-9486-8955f1ba2d22"
      },
      "source": [
        "#trying to understand calculating energy in qiskit\n",
        "bra_00_ket = B*(-S00[0]-S00[1])+A*(S00[2]+S00[3]+S00[4])\n",
        "bra_01_ket = B*(S01[0]-S01[1])+A*(S01[2]+S01[3]+S01[4])\n",
        "bra_10_ket = B*(-S10[0]+S10[1])+A*(S10[2]+S10[3]+S10[4])\n",
        "bra_11_ket = B*(S11[0]+S11[1])+A*(S11[2]+S11[3]+S11[4])\n",
        "\n",
        "print(\"PSI_1-1 Energy = A-2B =\", A-2*B,'------------------', \"Circuit Meassure =\",bra_00_ket)\n",
        "print(\"PSI_10 Energy = A =\", A, '--------------------------------------',\"Circuit Meassure =\", bra_10_ket+bra_01_ket)\n",
        "print(\"PSI_11 Energy = A+2B =\", A+2*B, '--------------------',\"Circuit Meassure =\",bra_11_ket)\n",
        "print(\"PSI_00 Energy = -3A =\", -3*A,'--------------------', \"Circuit Meassure =\",bra_10_ket-bra_01_ket)"
      ],
      "execution_count": 22,
      "outputs": [
        {
          "output_type": "stream",
          "text": [
            "PSI_1-1 Energy = A-2B = 0.09999999999999998 ------------------ Circuit Meassure = 0.45096\n",
            "PSI_10 Energy = A = 0.7 -------------------------------------- Circuit Meassure = 0.69802\n",
            "PSI_11 Energy = A+2B = 1.2999999999999998 -------------------- Circuit Meassure = 0.35108\n",
            "PSI_00 Energy = -3A = -2.0999999999999996 -------------------- Circuit Meassure = -0.0035199999999999676\n"
          ],
          "name": "stdout"
        }
      ]
    },
    {
      "cell_type": "code",
      "metadata": {
        "colab": {
          "base_uri": "https://localhost:8080/"
        },
        "id": "QlyyjdLgFvQu",
        "outputId": "e22aff28-81de-4f6a-adc0-f30a5b9cad7a"
      },
      "source": [
        "#trying to understand calculating energy in qiskit\n",
        "psii_10 = bra_10_ket+bra_01_ket\n",
        "psii_00 = bra_10_ket-bra_01_ket\n",
        "print(psii_10-psii_00)"
      ],
      "execution_count": 24,
      "outputs": [
        {
          "output_type": "stream",
          "text": [
            "0.7015399999999999\n"
          ],
          "name": "stdout"
        }
      ]
    },
    {
      "cell_type": "code",
      "metadata": {
        "colab": {
          "base_uri": "https://localhost:8080/"
        },
        "id": "69mh17PLHTYG",
        "outputId": "0e164cea-2f98-4134-9621-5bf7dae4c9c9"
      },
      "source": [
        "#trying to understand calculating energy in qiskit\n",
        "BRA_00_KET = A*(S00[2]+S00[3]+S00[4])-2*B*(-S00[0]-S00[1])\n",
        "BRA_11_KET = A*(S11[2]+S11[3]+S11[4])+2*B*(+S00[0]+S00[1])\n",
        "print(BRA_00_KET)\n",
        "print(BRA_11_KET)\n",
        "print(\"|00>-|11> =\",BRA_00_KET-BRA_11_KET,\"A =\",0.7)"
      ],
      "execution_count": 35,
      "outputs": [
        {
          "output_type": "stream",
          "text": [
            "2.2506\n",
            "1.55081\n",
            "|00>-|11> = 0.6997899999999999 A = 0.7\n"
          ],
          "name": "stdout"
        }
      ]
    },
    {
      "cell_type": "markdown",
      "metadata": {
        "id": "azUl_DSJ1O0J"
      },
      "source": [
        "## looking at how the system depends on t\n",
        "\n"
      ]
    },
    {
      "cell_type": "code",
      "metadata": {
        "colab": {
          "base_uri": "https://localhost:8080/",
          "height": 66,
          "referenced_widgets": [
            "d4e48576116144af8da26215e3771c2c",
            "e8a13c73f026410c81cc44d3fa9910ed",
            "8b507bf40a0c455ca259cce77f56c319",
            "cacb8c613f164d4888e4d4a85fe412b6",
            "484b76a254b94274820749e4c00bb0d0",
            "cffe9cf34dbc401a9a55858e77f23407",
            "53c010563d4247ab9a15b60f54062ae1",
            "5ce04577ecfc4a5da60c6de752c4c869"
          ]
        },
        "id": "WYw2zZ5vJeXH",
        "outputId": "b33da1d7-172f-4662-b772-88bef13cf54e"
      },
      "source": [
        "Shots= 1000\n",
        "qbit = 2\n",
        "cbit = 2\n",
        "trotter = 1\n",
        "T= np.arange(0.1,30,0.1)\n",
        "basis = ['Z1','Z2','ZZ','XX','YY']\n",
        "A = 0.7 \n",
        "B = 0.3 \n",
        "Var = np.array([A,A,A])\n",
        "CCCC = []\n",
        "#delt = t/qbit\n",
        "for i in tqdm(range(len(T))):\n",
        "  \n",
        "  Res = Results('even',qbit,cbit,trotter,basis,Var,Shots,B,T[i])\n",
        "  S00 = Res[0]\n",
        "  S01 = Res[1]\n",
        "  S10 = Res[2]\n",
        "  S11 = Res[3]\n",
        "\n",
        "  PSI_10 = (np.sum(S01)+(S10[0]+S10[1]+S10[2]+S10[3]+S10[4]))/np.sqrt(2)\n",
        "  PSI_00 = (np.sum(S01)-(S10[0]+S10[1]+S10[2]+S10[3]+S10[4]))/np.sqrt(2)\n",
        "  AB = (PSI_10-PSI_00)\n",
        "  CCCC.append(AB)"
      ],
      "execution_count": 82,
      "outputs": [
        {
          "output_type": "display_data",
          "data": {
            "application/vnd.jupyter.widget-view+json": {
              "model_id": "d4e48576116144af8da26215e3771c2c",
              "version_minor": 0,
              "version_major": 2
            },
            "text/plain": [
              "HBox(children=(FloatProgress(value=0.0, max=299.0), HTML(value='')))"
            ]
          },
          "metadata": {
            "tags": []
          }
        },
        {
          "output_type": "stream",
          "text": [
            "\n"
          ],
          "name": "stdout"
        }
      ]
    },
    {
      "cell_type": "code",
      "metadata": {
        "colab": {
          "base_uri": "https://localhost:8080/",
          "height": 282
        },
        "id": "V7aIxWOeJucc",
        "outputId": "e2b3eecb-19fa-4a29-95de-45df1db6fcc6"
      },
      "source": [
        "plt.plot(T,CCCC)"
      ],
      "execution_count": 84,
      "outputs": [
        {
          "output_type": "execute_result",
          "data": {
            "text/plain": [
              "[<matplotlib.lines.Line2D at 0x7f05b8af0c50>]"
            ]
          },
          "metadata": {
            "tags": []
          },
          "execution_count": 84
        },
        {
          "output_type": "display_data",
          "data": {
            "image/png": "[encoded data removed]",
            "text/plain": [
              "<Figure size 432x288 with 1 Axes>"
            ]
          },
          "metadata": {
            "tags": [],
            "needs_background": "light"
          }
        }
      ]
    },
    {
      "cell_type": "code",
      "metadata": {
        "id": "JQFMujZcHAwf"
      },
      "source": [
        ""
      ],
      "execution_count": null,
      "outputs": []
    }
  ]
}