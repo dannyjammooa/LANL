{
  "nbformat": 4,
  "nbformat_minor": 0,
  "metadata": {
    "colab": {
      "name": "Four qbit.ipynb",
      "provenance": [],
      "toc_visible": true,
      "authorship_tag": "ABX9TyMH04l6wGO4u9iZKw9Y2y9M",
      "include_colab_link": true
    },
    "kernelspec": {
      "name": "python3",
      "display_name": "Python 3"
    },
    "language_info": {
      "name": "python"
    }
  },
  "cells": [
    {
      "cell_type": "markdown",
      "metadata": {
        "id": "view-in-github",
        "colab_type": "text"
      },
      "source": [
        "<a href=\"https://colab.research.google.com/github/dannyjammooa/LANL/blob/main/Four_qbit.ipynb\" target=\"_parent\"><img src=\"https://colab.research.google.com/assets/colab-badge.svg\" alt=\"Open In Colab\"/></a>"
      ]
    },
    {
      "cell_type": "code",
      "metadata": {
        "id": "lW5bGZEMaWKj"
      },
      "source": [
        "pip install qiskit;"
      ],
      "execution_count": null,
      "outputs": []
    },
    {
      "cell_type": "code",
      "metadata": {
        "id": "aN7UuqXfaa5c",
        "colab": {
          "base_uri": "https://localhost:8080/"
        },
        "outputId": "b1b35dca-0081-4802-fb8a-f6fd6e0aa093"
      },
      "source": [
        "import numpy as np\n",
        "import warnings\n",
        "from tqdm.auto import tqdm\n",
        "import qiskit as qk\n",
        "from qiskit.circuit import QuantumCircuit, Parameter\n",
        "from qiskit import Aer, assemble\n",
        "from qiskit.visualization import circuit_drawer, plot_histogram, plot_state_qsphere\n",
        "from qiskit import *\n",
        "import matplotlib.pyplot as plt\n",
        "from matplotlib.pyplot import figure\n",
        "from numpy import linalg as la\n",
        "from sympy import *\n",
        "from sympy import Matrix, Inverse, diag, GramSchmidt\n",
        "from sympy import Symbol\n",
        "from sympy.physics.quantum import TensorProduct\n",
        "from numpy.linalg import inv\n",
        "pi = np.pi\n",
        "%matplotlib inline\n",
        "from qiskit import IBMQ\n",
        "IBMQ.save_account('5e716052aec669f447b21719efe891c73d8d13c7d00c226b16bac3004940300f49f9c54ab14a0d79d871a0aafbc6992f056be94eddb98ab80ff45d711c30f541')\n",
        "IBMQ.load_account()"
      ],
      "execution_count": 201,
      "outputs": [
        {
          "output_type": "stream",
          "text": [
            "configrc.store_credentials:WARNING:2021-08-02 17:09:44,277: Credentials already present. Set overwrite=True to overwrite.\n",
            "ibmqfactory.load_account:WARNING:2021-08-02 17:09:44,461: Credentials are already in use. The existing account in the session will be replaced.\n"
          ],
          "name": "stderr"
        },
        {
          "output_type": "execute_result",
          "data": {
            "text/plain": [
              "<AccountProvider for IBMQ(hub='ibm-q', group='open', project='main')>"
            ]
          },
          "metadata": {
            "tags": []
          },
          "execution_count": 201
        }
      ]
    },
    {
      "cell_type": "markdown",
      "metadata": {
        "id": "1mQnRrrA5V3-"
      },
      "source": [
        "# Functions"
      ]
    },
    {
      "cell_type": "markdown",
      "metadata": {
        "id": "7KGfFNYD5YpV"
      },
      "source": [
        "## Measures"
      ]
    },
    {
      "cell_type": "code",
      "metadata": {
        "id": "8h9sURIZ1_vn"
      },
      "source": [
        "#Measurment Functions\n",
        "\n",
        "#execute the circuit using qasm_simulator as backend\n",
        "def execute_QC(quantum_circuit,shot):\n",
        "  simulator = Aer.get_backend('qasm_simulator')\n",
        "  result = execute(quantum_circuit, backend=simulator, shots=shot).result().get_counts()\n",
        "  return result\n",
        "\n",
        "def execute_QC_IBM(quantum_circuit,shot):\n",
        "  provider = IBMQ.get_provider('ibm-q')\n",
        "  qcomp = provider.get_backend('ibmq_5_yorktown')\n",
        "  result = execute(quantum_circuit, backend=qcomp, shots=shot).result().get_counts()\n",
        "  return result\n",
        "\n",
        "#X-basis\n",
        "def X_measurement(qc, qubit, cbit):\n",
        "    \"\"\"Measure 'qubit' in the X-basis, and store the result in 'cbit'\"\"\"\n",
        "    qc.h(qubit)\n",
        "    qc.measure(qubit, cbit)\n",
        "    return qc\n",
        "\n",
        "#Y-basis\n",
        "def Y_measurement(qc, qubit, cbit):\n",
        "   \"\"\"Measure 'qubit' in the Y-basis, and store the result in 'cbit'\"\"\"\n",
        "   qc.sdg(qubit)\n",
        "   qc.h(qubit)\n",
        "   qc.measure(qubit, cbit)\n",
        "   return qc\n",
        "\n",
        "#ZZ-basis\n",
        "def ZZ_measurement(qc,qubit1,qubit2,cbit1,cbit2):\n",
        "  qc.measure(qubit1,cbit1)\n",
        "  qc.measure(qubit2,cbit2)\n",
        "  return qc\n",
        "\n",
        "#XX-basis\n",
        "def XX_measurement(qc,qubit1,qubit2,cbit1,cbit2):\n",
        "  qc.h(qubit1)\n",
        "  qc.h(qubit2)\n",
        "  qc.measure(qubit1,cbit1)\n",
        "  qc.measure(qubit2,cbit2)\n",
        "  return qc\n",
        "\n",
        "#YY-basis\n",
        "def YY_measurement(qc,qubit1,qubit2,cbit1,cbit2):\n",
        "  qc.sdg(qubit1)\n",
        "  qc.sdg(qubit2)\n",
        "  qc.h(qubit1)\n",
        "  qc.h(qubit2)\n",
        "  qc.measure(qubit1,cbit1)\n",
        "  qc.measure(qubit2,cbit2)\n",
        "  return qc\n",
        "\n",
        "#combinding all measurement into one function\n",
        "def Measure(qc, basis, qubit1,qubit2,cbit1,cbit2):\n",
        "  if basis == 'Z1':\n",
        "    qc.measure([qubit1],[cbit1])\n",
        "  elif basis =='Z2':\n",
        "    qc.measure([qubit2],[cbit2])\n",
        "  elif basis == 'Y':\n",
        "    Y_measurement(qc,qubit1,cbit1)\n",
        "  elif basis == 'X':\n",
        "    X_measurement(qc,qubit1,cbit1)\n",
        "  elif basis == 'ZZ':\n",
        "    ZZ_measurement(qc, qubit1,qubit2,cbit1,cbit2)\n",
        "  elif basis == 'YY':\n",
        "    YY_measurement(qc, qubit1,qubit2,cbit1,cbit2)\n",
        "  elif basis == 'XX':\n",
        "    XX_measurement(qc, qubit1,qubit2,cbit1,cbit2)\n",
        "  return qc"
      ],
      "execution_count": 202,
      "outputs": []
    },
    {
      "cell_type": "markdown",
      "metadata": {
        "id": "Zh7MDtcw5b_Z"
      },
      "source": [
        "## Gates and running Circuits"
      ]
    },
    {
      "cell_type": "code",
      "metadata": {
        "id": "Nmp5d1MN2Cd7"
      },
      "source": [
        "#choosing our initial state\n",
        "def Initial_State(quantum_circuit,IS,nqbits):\n",
        "  if IS == 'odd': #skips odd numbered qubits\n",
        "    for idx in range(nqbits):\n",
        "      if idx%2 == 0: \n",
        "        continue\n",
        "      else:\n",
        "        quantum_circuit.x(idx)\n",
        "  elif IS =='even': #skips odd numbered qubits\n",
        "    for idx in range(nqbits):\n",
        "      if idx%2 == 0: \n",
        "        quantum_circuit.x(idx)\n",
        "      else:\n",
        "        continue\n",
        "  elif IS == 'alldown':\n",
        "    for idx in range(nqbits):\n",
        "      quantum_circuit.x(idx)\n",
        "  elif IS =='allup':\n",
        "    for idx in range(nqbits):\n",
        "      quantum_circuit.id(idx)\n",
        "  elif IS == '01':\n",
        "    for idx in range(nqbits):\n",
        "      if idx%2 == 0:\n",
        "        quantum_circuit.h(idx)\n",
        "        quantum_circuit.cx(idx,idx+1)\n",
        "      else:\n",
        "        quantum_circuit.x(idx)\n",
        "  elif IS == '11':\n",
        "    for idx in range(nqbits):\n",
        "      quantum_circuit.x(idx)\n",
        "      if idx%2 == 0:\n",
        "        quantum_circuit.h(idx)\n",
        "        quantum_circuit.cx(idx,idx+1)\n",
        "      else:\n",
        "        continue\n",
        "  return quantum_circuit\n",
        "\n",
        "#N(alpha,beta,gamma) gate from the paper\n",
        "#Half time step\n",
        "def SWAP1(var,t):\n",
        "  Thalf = 0/5*t\n",
        "  a = var[0]\n",
        "  b = var[1]\n",
        "  y = var[2]\n",
        "  theta = pi/2 - 2*y*Thalf\n",
        "  phi = 2*a*Thalf -pi/2\n",
        "  lamda = pi/2 -2*b*Thalf\n",
        "  qc = QuantumCircuit(2, name='Half')\n",
        "  qc.rz(-pi/2,1)\n",
        "  qc.cx(1,0)\n",
        "  qc.rz(theta,0)\n",
        "  qc.ry(phi,1)\n",
        "  qc.cx(0,1)\n",
        "  qc.ry(lamda,1)\n",
        "  qc.cx(1,0)\n",
        "  qc.rz(pi/2,0)\n",
        "  return qc\n",
        "\n",
        "#N(alpha,beta,gamma) gate from the paper\n",
        "#Full time step\n",
        "def SWAP2(var,t):\n",
        "  a = var[0]\n",
        "  b = var[1]\n",
        "  y = var[2]\n",
        "  theta = pi/2 - 2*y*t  #angle that depend on the zz two-body coefficient\n",
        "  phi = 2*a*t -pi/2     #angle that depend on the xx two-body coefficient\n",
        "  lamda = pi/2 -2*b*t   #angle that depend on the yy two-body coefficient\n",
        "  qc = QuantumCircuit(2, name='Full')\n",
        "  qc.rz(-pi/2,1)\n",
        "  qc.cx(1,0)\n",
        "  qc.rz(theta,0)\n",
        "  qc.ry(phi,1)\n",
        "  qc.cx(0,1)\n",
        "  qc.ry(lamda,1)\n",
        "  qc.cx(1,0)\n",
        "  qc.rz(pi/2,0)\n",
        "  return qc\n",
        "\n",
        "#The full unitary time evolution \n",
        "def Unitary(quantum_circuit,var,nqbits,h,t):\n",
        "  Thalf = 0.5*t\n",
        "  psi = h*Thalf  #angle that depends on the z one-body coefficient\n",
        "  #one-body term\n",
        "  for idx in range(nqbits):\n",
        "    quantum_circuit.rz(psi,idx) \n",
        "  quantum_circuit.barrier()\n",
        "  #two-body term / odd qubits swaped/ half time step\n",
        "  for idx in range(nqbits):\n",
        "    if idx%2 == 0:\n",
        "      continue\n",
        "    else:\n",
        "      if idx == nqbits-1:\n",
        "        break\n",
        "      else:\n",
        "        quantum_circuit.append(SWAP1(var,t), [idx,idx+1])\n",
        "  #two-body term / even qubits swaped/ full time step\n",
        "  for idx in range(nqbits):\n",
        "    if idx%2 == 1:\n",
        "      continue\n",
        "    else:\n",
        "      if idx == nqbits:\n",
        "        break\n",
        "      else:\n",
        "        quantum_circuit.append(SWAP2(var,t), [idx,idx+1])\n",
        "  #two-body term / odd qubits swaped/ half time step\n",
        "  for idx in range(nqbits):\n",
        "    if idx%2 == 0:\n",
        "      continue\n",
        "    else:\n",
        "      if idx == nqbits-1:\n",
        "        break\n",
        "      else:\n",
        "        quantum_circuit.append(SWAP1(var,t), [idx,idx+1])\n",
        "  quantum_circuit.barrier()\n",
        "  #one-body term\n",
        "  for idx in range(nqbits):\n",
        "    quantum_circuit.rz(psi,idx) \n",
        "  return quantum_circuit\n",
        "\n",
        "#applies trotter steps\n",
        "def Trotter(quantum_circuit, numTstep, nqbits, var, h, t):\n",
        "  for i in range(numTstep):\n",
        "      Unitary(quantum_circuit, var, nqbits, h, t)\n",
        "  return quantum_circuit\n",
        "\n",
        "#creates our quantum Circuit\n",
        "def Quantum_Circuit(IS,nqbits, var, numTstep,h,t):\n",
        "     QC = QuantumCircuit(nqbits)\n",
        "     Initial_State(QC,IS,nqbits)\n",
        "     QC.barrier()\n",
        "     Trotter(QC,numTstep,nqbits,var,h,t)\n",
        "     return QC\n",
        "\n",
        "#creates/measures/excute our quantum circuit and stores the probabilies of measured circuit\n",
        "def Results(IS,nqbits,numTstep,basis,var,shots,h,t):\n",
        "  Energy = []\n",
        "  for initialstate in IS:\n",
        "    E = []\n",
        "    qc = Quantum_Circuit(initialstate,nqbits,var,numTstep,h,t)\n",
        "    for measure_circuit in basis:\n",
        "      QQ = QuantumCircuit(nqbits,2)\n",
        "      QX = qc+Measure(QQ, measure_circuit,0,1,0,1)\n",
        "      counts = execute_QC(QX,shots)\n",
        "      probs = {}\n",
        "      for output in ['00','01', '10', '11']:\n",
        "        if output in counts:\n",
        "          probs[output] = counts[output]/shots\n",
        "        else:\n",
        "          probs[output] = 0\n",
        "      E.append(probs['00']-probs['01']-probs['10']+probs['11'])\n",
        "    Energy.append(E)\n",
        "  return Energy\n",
        "\n",
        "#creates/measures/excute our quantum circuit and stores the probabilies of measured circuit\n",
        "def Results_IBM(IS,nqbits,numTstep,basis,var,shots,h,t):\n",
        "  Energy = []\n",
        "  for initialstate in IS:\n",
        "    E = []\n",
        "    qc = Quantum_Circuit(initialstate,nqbits,var,numTstep,h,t)\n",
        "    for measure_circuit in basis:\n",
        "      QQ = QuantumCircuit(nqbits,2)\n",
        "      QX = qc+Measure(QQ, measure_circuit,0,1,0,1)\n",
        "      counts = execute_QC_IBM(QX,shots)\n",
        "      probs = {}\n",
        "      for output in ['00','01', '10', '11']:\n",
        "        if output in counts:\n",
        "          probs[output] = counts[output]/shots\n",
        "        else:\n",
        "          probs[output] = 0\n",
        "      E.append(probs['00']-probs['01']-probs['10']+probs['11'])\n",
        "    Energy.append(E)\n",
        "  return Energy\n",
        "\n",
        "\n",
        "def Results2(IS,nqbits,numTstep,basis,var,shots,h,t):\n",
        "  prob00 = []\n",
        "  prob01 = []\n",
        "  prob10 = []\n",
        "  prob11 = []\n",
        "  qc = Quantum_Circuit(IS,nqbits,var,numTstep,h,t)\n",
        "  for measure_circuit in basis:\n",
        "    QQ = QuantumCircuit(nqbits,2)\n",
        "    QX = qc+Measure(QQ, measure_circuit,0,1,0,1)\n",
        "    counts = execute_QC(QX,shots)\n",
        "    probs = {}\n",
        "    for output in ['00','01', '10', '11']:\n",
        "      if output in counts:\n",
        "        probs[output] = counts[output]/shots\n",
        "      else:\n",
        "        probs[output] = 0\n",
        "    prob00.append(probs['00'])\n",
        "    prob10.append(probs['01'])\n",
        "    prob01.append(probs['10'])\n",
        "    prob11.append(probs['11'])\n",
        "  return prob00, prob01, prob10, prob11\n",
        "\n",
        "def Results3(IS,nqbits,numTstep,basis,var,shots,h,t):\n",
        "  Energy = []\n",
        "  for initialstate in IS:\n",
        "    E = []\n",
        "    qc = Quantum_Circuit(initialstate,nqbits,var,numTstep,h,t)\n",
        "    for measure_circuit in basis:\n",
        "      for i in range(nqbits):\n",
        "        if measure_circuit == basis[0]:\n",
        "          qx = QuantumCircuit(nqbits,2)\n",
        "          QX = qc + Measure(qx,measure_circuit,i,i+1,0,1)\n",
        "        else:\n",
        "          if i == qbit-1:\n",
        "            break\n",
        "          else:\n",
        "            qx = QuantumCircuit(nqbits,2)\n",
        "            QX = qc + Measure(qx,measure_circuit,i,i+1,0,1)\n",
        "        counts = execute_QC(QX,shots)\n",
        "        probs = {}\n",
        "        for output in ['00','01', '10', '11']:\n",
        "          if output in counts:\n",
        "            probs[output] = counts[output]/shots\n",
        "          else:\n",
        "            probs[output] = 0\n",
        "        E.append(probs['00']-probs['01']-probs['10']+probs['11'])\n",
        "    Energy.append(E)\n",
        "  return Energy\n",
        "\n",
        "def Energy(E,A,B):\n",
        "  return B*(E[0]+E[1]+E[2]+E[3])+ A*(E[4]+E[5]+E[6]+E[7]+E[8]+E[9]+E[10]+E[11]+E[12])"
      ],
      "execution_count": 277,
      "outputs": []
    },
    {
      "cell_type": "markdown",
      "metadata": {
        "id": "TTEcy9TI2EyT"
      },
      "source": [
        "# Two qbit"
      ]
    },
    {
      "cell_type": "code",
      "metadata": {
        "id": "ozkXaUWsf09z",
        "colab": {
          "base_uri": "https://localhost:8080/"
        },
        "outputId": "cf8cf768-628c-464a-a501-dd258ff33624"
      },
      "source": [
        "A =  1\n",
        "B = 0.3\n",
        "\n",
        "X = Matrix([[0,1],[1,0]])\n",
        "Y = Matrix([[0,-1j],[1j,0]])\n",
        "Z = Matrix([[1,0],[0,-1]])\n",
        "I = Matrix([[1,0],[0,1]])\n",
        "\n",
        "XX = TensorProduct(X,X)\n",
        "YY = TensorProduct(Y,Y)\n",
        "ZZ = TensorProduct(Z,Z)\n",
        "Z1 = TensorProduct(I,Z)\n",
        "Z2 = TensorProduct(Z,I)\n",
        "\n",
        "H = A*(XX+YY+ZZ) + B*(Z2+Z1)\n",
        "\n",
        "D = diag(H)\n",
        "D.eigenvals()\n",
        "G = D.eigenvects()\n",
        "L = [Matrix(G[0][2]),Matrix(G[1][2]),Matrix(G[2][2]),Matrix(G[3][2])]\n",
        "out = GramSchmidt(L,True)\n",
        "print('E=',G[3][0],'vec=',out[0])\n",
        "print('E=',G[2][0],'vec=',out[1])\n",
        "print('E=',G[0][0],'vec=',out[2])\n",
        "print('E=',G[1][0],'vec=',out[3])"
      ],
      "execution_count": 249,
      "outputs": [
        {
          "output_type": "stream",
          "text": [
            "E= 0.400000000000000 vec= Matrix([[1.00000000000000], [0], [0], [0]])\n",
            "E= 1.00000000000000 vec= Matrix([[0], [0.707106781186548], [-0.707106781186548], [0]])\n",
            "E= 1.60000000000000 vec= Matrix([[0], [-0.707106781186548], [-0.707106781186548], [0]])\n",
            "E= -3.00000000000000 vec= Matrix([[0], [0], [0], [1.00000000000000]])\n"
          ],
          "name": "stdout"
        }
      ]
    },
    {
      "cell_type": "markdown",
      "metadata": {
        "id": "-cm70zEu4yAa"
      },
      "source": [
        "## Simulator"
      ]
    },
    {
      "cell_type": "code",
      "metadata": {
        "colab": {
          "base_uri": "https://localhost:8080/"
        },
        "id": "Szclccd53dPn",
        "outputId": "b101fc20-c129-4e2e-8f2c-39fb410805bd"
      },
      "source": [
        "Energy = []\n",
        "Shots= 10000 #number of shots\n",
        "qbit = 2 #size of circuit\n",
        "trotter = 1 #number of trotter steps\n",
        "t= 0.1 #time\n",
        "basis = ['Z1','Z2','ZZ','XX','YY'] #measures the circuit given said basis\n",
        "A = 1 #the two-body constant A \n",
        "B = 0.3 #the one-body constant B \n",
        "Var = np.array([A,A,A]) #since alpha=beta=gamma=A in this problem\n",
        "PSI = ['allup','01','alldown','11']\n",
        "E = Results(PSI,qbit,trotter,basis,Var,Shots,B,t)\n",
        "for IS in PSI:\n",
        "  if IS == 'allup':\n",
        "    Energy.append(-B*(E[0][0]+E[0][1])+A*(E[0][2]+E[0][3]+E[0][4]))\n",
        "  elif IS == '01':\n",
        "    Energy.append(0*(E[1][0]+E[1][1])+A*(E[1][2]+E[1][3]+E[1][4])) \n",
        "  elif IS == 'alldown':\n",
        "    Energy.append(-B*(E[2][0]+E[2][1])+A*(E[2][2]+E[2][3]+E[2][4])) \n",
        "  elif IS == '11':\n",
        "    Energy.append(0*(E[3][0]+E[3][1])+A*(E[3][2]+E[3][3]+E[3][4])) \n",
        "print('PSI_1,-1:','Analytical solution E=',A-2*B,'Quantum Simulation E =',Energy[0])\n",
        "print('PSI_1,0:','Analytical solution E=',A,'Quantum Simulation E =',Energy[1])\n",
        "print('PSI_1,1:','Analytical solution E=',A+2*B,'Quantum Simulation E =',Energy[2])\n",
        "print('PSI_0,0:','Analytical solution E=',-3*A,'Quantum Simulation E =',Energy[3])"
      ],
      "execution_count": 250,
      "outputs": [
        {
          "output_type": "stream",
          "text": [
            "PSI_1,-1: Analytical solution E= 0.4 Quantum Simulation E = 0.3974000000000001\n",
            "PSI_1,0: Analytical solution E= 1 Quantum Simulation E = 1.0\n",
            "PSI_1,1: Analytical solution E= 1.6 Quantum Simulation E = 1.5879999999999999\n",
            "PSI_0,0: Analytical solution E= -3 Quantum Simulation E = -3.0\n"
          ],
          "name": "stdout"
        }
      ]
    },
    {
      "cell_type": "markdown",
      "metadata": {
        "id": "aNd_PTPl42P1"
      },
      "source": [
        "## Quantum Computer"
      ]
    },
    {
      "cell_type": "code",
      "metadata": {
        "colab": {
          "base_uri": "https://localhost:8080/"
        },
        "id": "20Yewf3e3fSS",
        "outputId": "8eda7846-a912-4ddd-e685-9f31f3926ae5"
      },
      "source": [
        "Energy = []\n",
        "Shots= 8192 #number of shots\n",
        "qbit = 2 #size of circuit\n",
        "trotter = 1 #number of trotter steps\n",
        "t= 0.1 #time\n",
        "basis = ['Z1','Z2','ZZ','XX','YY'] #measures the circuit given said basis\n",
        "A = 1 #the two-body constant A \n",
        "B = 0.3 #the one-body constant B \n",
        "Var = np.array([A,A,A]) #since alpha=beta=gamma=A in this problem\n",
        "PSI = ['allup','01','alldown','11']\n",
        "E = Results_IBM(PSI,qbit,trotter,basis,Var,Shots,B,t)\n",
        "for IS in PSI:\n",
        "  if IS == 'allup':\n",
        "    Energy.append(-B*(E[0][0]+E[0][1])+A*(E[0][2]+E[0][3]+E[0][4]))\n",
        "  elif IS == '01':\n",
        "    Energy.append(0*(E[1][0]+E[1][1])+A*(E[1][2]+E[1][3]+E[1][4])) \n",
        "  elif IS == 'alldown':\n",
        "    Energy.append(-B*(E[2][0]+E[2][1])+A*(E[2][2]+E[2][3]+E[2][4])) \n",
        "  elif IS == '11':\n",
        "    Energy.append(0*(E[3][0]+E[3][1])+A*(E[3][2]+E[3][3]+E[3][4])) \n",
        "print('PSI_1,-1:','Analytical solution E=',A-2*B,'Quantum Simulation E =',Energy[0])\n",
        "print('PSI_1,0:','Analytical solution E=',A,'Quantum Simulation E =',Energy[1])\n",
        "print('PSI_1,1:','Analytical solution E=',A+2*B,'Quantum Simulation E =',Energy[2])\n",
        "print('PSI_0,0:','Analytical solution E=',-3*A,'Quantum Simulation E =',Energy[3])"
      ],
      "execution_count": 273,
      "outputs": [
        {
          "output_type": "stream",
          "text": [
            "PSI_1,-1: Analytical solution E= 0.4 Quantum Simulation E = 0.07136230468749999\n",
            "PSI_1,0: Analytical solution E= 1 Quantum Simulation E = 0.418212890625\n",
            "PSI_1,1: Analytical solution E= 1.6 Quantum Simulation E = 0.5961181640625\n",
            "PSI_0,0: Analytical solution E= -3 Quantum Simulation E = -1.25732421875\n"
          ],
          "name": "stdout"
        }
      ]
    },
    {
      "cell_type": "markdown",
      "metadata": {
        "id": "oEz-KM3k3g1Y"
      },
      "source": [
        "#4 qbit"
      ]
    },
    {
      "cell_type": "code",
      "metadata": {
        "id": "gb95IQsVgG_E",
        "colab": {
          "base_uri": "https://localhost:8080/"
        },
        "outputId": "f94b8045-c051-442d-d602-401d01173b72"
      },
      "source": [
        "#ZZ\n",
        "Z0Z1 = TensorProduct(I,I,Z,Z)\n",
        "Z1Z2 = TensorProduct(I,Z,Z,I)\n",
        "Z2Z3 = TensorProduct(Z,Z,I,I)\n",
        "\n",
        "#XX\n",
        "X0X1 = TensorProduct(I,I,X,X)\n",
        "X1X2 = TensorProduct(I,X,X,I)\n",
        "X2X3 = TensorProduct(X,X,I,I)\n",
        "\n",
        "#YY\n",
        "Y0Y1 = TensorProduct(I,I,Y,Y)\n",
        "Y1Y2 = TensorProduct(I,Y,Y,I)\n",
        "Y2Y3 = TensorProduct(Y,Y,I,I)\n",
        "\n",
        "#Z\n",
        "Z0 = TensorProduct(I,I,I,Z)\n",
        "Z1 = TensorProduct(I,I,Z,I)\n",
        "Z2 = TensorProduct(I,Z,I,I)\n",
        "Z3 = TensorProduct(Z,I,I,I)\n",
        "\n",
        "H = A*(X0X1 + X1X2 + X2X3 + Y0Y1 + Y1Y2 +Y2Y3 + Z0Z1 + Z1Z2 + Z2Z3) + B*(Z0+Z1+Z2+Z3)\n",
        "D = diag(H)\n",
        "G= D.eigenvects()\n",
        "D.eigenvals()\n",
        "LL = [Matrix(G[0][2]),Matrix(G[1][2]),Matrix(G[2][2]),Matrix(G[3][2]),Matrix(G[4][2]),Matrix(G[5][2]),Matrix(G[6][2]),Matrix(G[7][2]),Matrix(G[8][2]),Matrix(G[9][2]),Matrix(G[10][2]),Matrix(G[11][2]),Matrix(G[12][2]),Matrix(G[13][2]),Matrix(G[14][2]),Matrix(G[15][2])]\n",
        "out = GramSchmidt(LL,True)\n",
        "print('E=',G[0][0],'vec=',out[0])\n",
        "print('E=',G[15][0],'vec=',out[15])"
      ],
      "execution_count": 253,
      "outputs": [
        {
          "output_type": "stream",
          "text": [
            "E= 4.20000000000000 vec= Matrix([[1.00000000000000], [0], [0], [0], [0], [0], [0], [0], [0], [0], [0], [0], [0], [0], [0], [0]])\n",
            "E= 1.80000000000000 vec= Matrix([[0], [0], [0], [0], [0], [0], [0], [0], [0], [0], [0], [0], [0], [0], [0], [1.00000000000000]])\n"
          ],
          "name": "stdout"
        }
      ]
    },
    {
      "cell_type": "markdown",
      "metadata": {
        "id": "stIDiZzi6ClW"
      },
      "source": [
        "## Simulator"
      ]
    },
    {
      "cell_type": "code",
      "metadata": {
        "id": "87v2zLZ0afOm",
        "colab": {
          "base_uri": "https://localhost:8080/"
        },
        "outputId": "fbddc74a-3086-4958-e2a4-72b4f8e21a9c"
      },
      "source": [
        "Shots= 10000 #number of shots\n",
        "qbit = 4 #size of circuit\n",
        "trotter = 1 #number of trotter steps\n",
        "t= 0.1 #time\n",
        "basis = ['Z1','ZZ','XX','YY'] #measures the circuit given said basis\n",
        "A = 1 #the two-body constant A \n",
        "B = 0.3 #the one-body constant B \n",
        "Var = np.array([A,A,A]) #since alpha=beta=gamma=A in this problem\n",
        "PSI = ['allup','alldown']#['allup','alldown']#,'alldown']\n",
        "E = Results3(PSI,qbit,trotter,basis,Var,Shots,B,t)\n",
        "print('|0000>',Energy(E[0],A,B))\n",
        "print('|1111>',Energy(E[1],A,B))"
      ],
      "execution_count": 278,
      "outputs": [
        {
          "output_type": "stream",
          "text": [
            "|0000> 4.2184\n",
            "|1111> 1.8517999999999997\n"
          ],
          "name": "stdout"
        }
      ]
    },
    {
      "cell_type": "markdown",
      "metadata": {
        "id": "glu2BJza6J_O"
      },
      "source": [
        "## T = trotter*deltat"
      ]
    },
    {
      "cell_type": "code",
      "metadata": {
        "colab": {
          "base_uri": "https://localhost:8080/"
        },
        "id": "0reQX1TVvWPl",
        "outputId": "39bf3b95-5994-4303-a886-9b4058426d2a"
      },
      "source": [
        "# t = 0.1\n",
        "Shots= 10000 #number of shots\n",
        "qbit = 4 #size of circuit\n",
        "trotter = np.arange(1,10,1) #number of trotter steps\n",
        "t = 0.1\n",
        "basis = ['Z1','ZZ','XX','YY'] #measures the circuit given said basis\n",
        "A = 1 #the two-body constant A \n",
        "B = 0.3 #the one-body constant B \n",
        "Var = np.array([A,A,A]) #since alpha=beta=gamma=A in this problem\n",
        "PSI = ['allup']\n",
        "ENG1 = []\n",
        "Dt1 = []\n",
        "for i in range(len(trotter)):\n",
        "  delt = t/trotter[i]\n",
        "  E = Results3(PSI,qbit,trotter[i],basis,Var,Shots,B,delt)\n",
        "  ENG1.append(Energy(E[0],A,B))\n",
        "  Dt1.append(delt)\n",
        "print(ENG1)"
      ],
      "execution_count": 280,
      "outputs": [
        {
          "output_type": "stream",
          "text": [
            "[4.1628, 4.207, 4.175800000000001, 4.2056, 4.2428, 4.227199999999999, 4.2136, 4.1768, 4.2132]\n"
          ],
          "name": "stdout"
        }
      ]
    },
    {
      "cell_type": "code",
      "metadata": {
        "colab": {
          "base_uri": "https://localhost:8080/",
          "height": 296
        },
        "id": "nW4gmHdH6jpi",
        "outputId": "979b3550-6c63-456a-b43c-ab9aabeb3e79"
      },
      "source": [
        "plt.plot(Dt1,ENG1)\n",
        "plt.xlabel('deltat')\n",
        "plt.ylabel('Energy')"
      ],
      "execution_count": 281,
      "outputs": [
        {
          "output_type": "execute_result",
          "data": {
            "text/plain": [
              "Text(0, 0.5, 'Energy')"
            ]
          },
          "metadata": {
            "tags": []
          },
          "execution_count": 281
        },
        {
          "output_type": "display_data",
          "data": {
            "image/png": "[encoded data removed]",
            "text/plain": [
              "<Figure size 432x288 with 1 Axes>"
            ]
          },
          "metadata": {
            "tags": [],
            "needs_background": "light"
          }
        }
      ]
    },
    {
      "cell_type": "code",
      "metadata": {
        "colab": {
          "base_uri": "https://localhost:8080/"
        },
        "id": "4YL-w1UMemCb",
        "outputId": "3c6a4368-f7cd-4ac6-994e-e614255a3906"
      },
      "source": [
        "#t = 0.5\n",
        "Shots= 10000 #number of shots\n",
        "qbit = 4 #size of circuit\n",
        "trotter = np.arange(1,10,1) #number of trotter steps\n",
        "t = 0.5\n",
        "basis = ['Z1','ZZ','XX','YY'] #measures the circuit given said basis\n",
        "A = 1 #the two-body constant A \n",
        "B = 0.3 #the one-body constant B \n",
        "Var = np.array([A,A,A]) #since alpha=beta=gamma=A in this problem\n",
        "PSI = ['allup']\n",
        "Eng2 = []\n",
        "Dt2 = []\n",
        "for i in range(len(trotter)):\n",
        "  delt = t/trotter[i]\n",
        "  E = Results3(PSI,qbit,trotter[i],basis,Var,Shots,B,delt)\n",
        "  Eng2.append(Energy(E[0],A,B))\n",
        "  Dt2.append(delt)\n",
        "print(Eng2)"
      ],
      "execution_count": 282,
      "outputs": [
        {
          "output_type": "stream",
          "text": [
            "[4.207, 4.1788, 4.1542, 4.1903999999999995, 4.2142, 4.234, 4.1852, 4.1636, 4.2444]\n"
          ],
          "name": "stdout"
        }
      ]
    },
    {
      "cell_type": "code",
      "metadata": {
        "id": "z6CfAaPifraW",
        "colab": {
          "base_uri": "https://localhost:8080/",
          "height": 296
        },
        "outputId": "8e3c3690-aec7-493d-ac0e-cd0c457a258c"
      },
      "source": [
        "plt.plot(Dt2,Eng2)\n",
        "plt.xlabel('deltat')\n",
        "plt.ylabel('Energy')"
      ],
      "execution_count": 283,
      "outputs": [
        {
          "output_type": "execute_result",
          "data": {
            "text/plain": [
              "Text(0, 0.5, 'Energy')"
            ]
          },
          "metadata": {
            "tags": []
          },
          "execution_count": 283
        },
        {
          "output_type": "display_data",
          "data": {
            "image/png": "[encoded data removed]",
            "text/plain": [
              "<Figure size 432x288 with 1 Axes>"
            ]
          },
          "metadata": {
            "tags": [],
            "needs_background": "light"
          }
        }
      ]
    },
    {
      "cell_type": "code",
      "metadata": {
        "id": "ca_m5utxulge"
      },
      "source": [
        ""
      ],
      "execution_count": null,
      "outputs": []
    }
  ]
}