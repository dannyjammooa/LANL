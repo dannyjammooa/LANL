{
  "nbformat": 4,
  "nbformat_minor": 0,
  "metadata": {
    "colab": {
      "name": "Opt trotter.ipynb",
      "provenance": [],
      "collapsed_sections": [],
      "toc_visible": true,
      "authorship_tag": "ABX9TyMt9QgZc7h3wLvxwHSbs/TE"
    },
    "kernelspec": {
      "name": "python3",
      "display_name": "Python 3"
    },
    "language_info": {
      "name": "python"
    },
    "widgets": {
      "application/vnd.jupyter.widget-state+json": {
        "67c6f861093c4f9790f2473be233e5f9": {
          "model_module": "@jupyter-widgets/controls",
          "model_name": "HBoxModel",
          "state": {
            "_view_name": "HBoxView",
            "_dom_classes": [],
            "_model_name": "HBoxModel",
            "_view_module": "@jupyter-widgets/controls",
            "_model_module_version": "1.5.0",
            "_view_count": null,
            "_view_module_version": "1.5.0",
            "box_style": "",
            "layout": "IPY_MODEL_02b0d3e9bb9d4d60b681a51dfe313528",
            "_model_module": "@jupyter-widgets/controls",
            "children": [
              "IPY_MODEL_e40a17a3703645e4a39174be31378970",
              "IPY_MODEL_a5a2963204204b60afb77151b639ae3a"
            ]
          }
        },
        "02b0d3e9bb9d4d60b681a51dfe313528": {
          "model_module": "@jupyter-widgets/base",
          "model_name": "LayoutModel",
          "state": {
            "_view_name": "LayoutView",
            "grid_template_rows": null,
            "right": null,
            "justify_content": null,
            "_view_module": "@jupyter-widgets/base",
            "overflow": null,
            "_model_module_version": "1.2.0",
            "_view_count": null,
            "flex_flow": null,
            "width": null,
            "min_width": null,
            "border": null,
            "align_items": null,
            "bottom": null,
            "_model_module": "@jupyter-widgets/base",
            "top": null,
            "grid_column": null,
            "overflow_y": null,
            "overflow_x": null,
            "grid_auto_flow": null,
            "grid_area": null,
            "grid_template_columns": null,
            "flex": null,
            "_model_name": "LayoutModel",
            "justify_items": null,
            "grid_row": null,
            "max_height": null,
            "align_content": null,
            "visibility": null,
            "align_self": null,
            "height": null,
            "min_height": null,
            "padding": null,
            "grid_auto_rows": null,
            "grid_gap": null,
            "max_width": null,
            "order": null,
            "_view_module_version": "1.2.0",
            "grid_template_areas": null,
            "object_position": null,
            "object_fit": null,
            "grid_auto_columns": null,
            "margin": null,
            "display": null,
            "left": null
          }
        },
        "e40a17a3703645e4a39174be31378970": {
          "model_module": "@jupyter-widgets/controls",
          "model_name": "FloatProgressModel",
          "state": {
            "_view_name": "ProgressView",
            "style": "IPY_MODEL_d73743cf2dd64868a2673fab62ddb1ee",
            "_dom_classes": [],
            "description": "100%",
            "_model_name": "FloatProgressModel",
            "bar_style": "success",
            "max": 16,
            "_view_module": "@jupyter-widgets/controls",
            "_model_module_version": "1.5.0",
            "value": 16,
            "_view_count": null,
            "_view_module_version": "1.5.0",
            "orientation": "horizontal",
            "min": 0,
            "description_tooltip": null,
            "_model_module": "@jupyter-widgets/controls",
            "layout": "IPY_MODEL_b220881aef234fcaa054d2f496206acc"
          }
        },
        "a5a2963204204b60afb77151b639ae3a": {
          "model_module": "@jupyter-widgets/controls",
          "model_name": "HTMLModel",
          "state": {
            "_view_name": "HTMLView",
            "style": "IPY_MODEL_876b3ed529a845d49e8e01c1b4cccbae",
            "_dom_classes": [],
            "description": "",
            "_model_name": "HTMLModel",
            "placeholder": "​",
            "_view_module": "@jupyter-widgets/controls",
            "_model_module_version": "1.5.0",
            "value": " 16/16 [01:43&lt;00:00,  6.48s/it]",
            "_view_count": null,
            "_view_module_version": "1.5.0",
            "description_tooltip": null,
            "_model_module": "@jupyter-widgets/controls",
            "layout": "IPY_MODEL_f03e531079574de4a17b623b67157682"
          }
        },
        "d73743cf2dd64868a2673fab62ddb1ee": {
          "model_module": "@jupyter-widgets/controls",
          "model_name": "ProgressStyleModel",
          "state": {
            "_view_name": "StyleView",
            "_model_name": "ProgressStyleModel",
            "description_width": "initial",
            "_view_module": "@jupyter-widgets/base",
            "_model_module_version": "1.5.0",
            "_view_count": null,
            "_view_module_version": "1.2.0",
            "bar_color": null,
            "_model_module": "@jupyter-widgets/controls"
          }
        },
        "b220881aef234fcaa054d2f496206acc": {
          "model_module": "@jupyter-widgets/base",
          "model_name": "LayoutModel",
          "state": {
            "_view_name": "LayoutView",
            "grid_template_rows": null,
            "right": null,
            "justify_content": null,
            "_view_module": "@jupyter-widgets/base",
            "overflow": null,
            "_model_module_version": "1.2.0",
            "_view_count": null,
            "flex_flow": null,
            "width": null,
            "min_width": null,
            "border": null,
            "align_items": null,
            "bottom": null,
            "_model_module": "@jupyter-widgets/base",
            "top": null,
            "grid_column": null,
            "overflow_y": null,
            "overflow_x": null,
            "grid_auto_flow": null,
            "grid_area": null,
            "grid_template_columns": null,
            "flex": null,
            "_model_name": "LayoutModel",
            "justify_items": null,
            "grid_row": null,
            "max_height": null,
            "align_content": null,
            "visibility": null,
            "align_self": null,
            "height": null,
            "min_height": null,
            "padding": null,
            "grid_auto_rows": null,
            "grid_gap": null,
            "max_width": null,
            "order": null,
            "_view_module_version": "1.2.0",
            "grid_template_areas": null,
            "object_position": null,
            "object_fit": null,
            "grid_auto_columns": null,
            "margin": null,
            "display": null,
            "left": null
          }
        },
        "876b3ed529a845d49e8e01c1b4cccbae": {
          "model_module": "@jupyter-widgets/controls",
          "model_name": "DescriptionStyleModel",
          "state": {
            "_view_name": "StyleView",
            "_model_name": "DescriptionStyleModel",
            "description_width": "",
            "_view_module": "@jupyter-widgets/base",
            "_model_module_version": "1.5.0",
            "_view_count": null,
            "_view_module_version": "1.2.0",
            "_model_module": "@jupyter-widgets/controls"
          }
        },
        "f03e531079574de4a17b623b67157682": {
          "model_module": "@jupyter-widgets/base",
          "model_name": "LayoutModel",
          "state": {
            "_view_name": "LayoutView",
            "grid_template_rows": null,
            "right": null,
            "justify_content": null,
            "_view_module": "@jupyter-widgets/base",
            "overflow": null,
            "_model_module_version": "1.2.0",
            "_view_count": null,
            "flex_flow": null,
            "width": null,
            "min_width": null,
            "border": null,
            "align_items": null,
            "bottom": null,
            "_model_module": "@jupyter-widgets/base",
            "top": null,
            "grid_column": null,
            "overflow_y": null,
            "overflow_x": null,
            "grid_auto_flow": null,
            "grid_area": null,
            "grid_template_columns": null,
            "flex": null,
            "_model_name": "LayoutModel",
            "justify_items": null,
            "grid_row": null,
            "max_height": null,
            "align_content": null,
            "visibility": null,
            "align_self": null,
            "height": null,
            "min_height": null,
            "padding": null,
            "grid_auto_rows": null,
            "grid_gap": null,
            "max_width": null,
            "order": null,
            "_view_module_version": "1.2.0",
            "grid_template_areas": null,
            "object_position": null,
            "object_fit": null,
            "grid_auto_columns": null,
            "margin": null,
            "display": null,
            "left": null
          }
        },
        "65e7000ebf3040859ea096fa9e27b8ee": {
          "model_module": "@jupyter-widgets/controls",
          "model_name": "HBoxModel",
          "state": {
            "_view_name": "HBoxView",
            "_dom_classes": [],
            "_model_name": "HBoxModel",
            "_view_module": "@jupyter-widgets/controls",
            "_model_module_version": "1.5.0",
            "_view_count": null,
            "_view_module_version": "1.5.0",
            "box_style": "",
            "layout": "IPY_MODEL_acab8adb9ec04e02a80e5d362be7ea17",
            "_model_module": "@jupyter-widgets/controls",
            "children": [
              "IPY_MODEL_120a3784793b415da9df7afad165735a",
              "IPY_MODEL_102df5a35dea42f7a7e87d07d348d653"
            ]
          }
        },
        "acab8adb9ec04e02a80e5d362be7ea17": {
          "model_module": "@jupyter-widgets/base",
          "model_name": "LayoutModel",
          "state": {
            "_view_name": "LayoutView",
            "grid_template_rows": null,
            "right": null,
            "justify_content": null,
            "_view_module": "@jupyter-widgets/base",
            "overflow": null,
            "_model_module_version": "1.2.0",
            "_view_count": null,
            "flex_flow": null,
            "width": null,
            "min_width": null,
            "border": null,
            "align_items": null,
            "bottom": null,
            "_model_module": "@jupyter-widgets/base",
            "top": null,
            "grid_column": null,
            "overflow_y": null,
            "overflow_x": null,
            "grid_auto_flow": null,
            "grid_area": null,
            "grid_template_columns": null,
            "flex": null,
            "_model_name": "LayoutModel",
            "justify_items": null,
            "grid_row": null,
            "max_height": null,
            "align_content": null,
            "visibility": null,
            "align_self": null,
            "height": null,
            "min_height": null,
            "padding": null,
            "grid_auto_rows": null,
            "grid_gap": null,
            "max_width": null,
            "order": null,
            "_view_module_version": "1.2.0",
            "grid_template_areas": null,
            "object_position": null,
            "object_fit": null,
            "grid_auto_columns": null,
            "margin": null,
            "display": null,
            "left": null
          }
        },
        "120a3784793b415da9df7afad165735a": {
          "model_module": "@jupyter-widgets/controls",
          "model_name": "FloatProgressModel",
          "state": {
            "_view_name": "ProgressView",
            "style": "IPY_MODEL_9a2568e62abb4947ad1d2eb7bc447211",
            "_dom_classes": [],
            "description": "100%",
            "_model_name": "FloatProgressModel",
            "bar_style": "success",
            "max": 16,
            "_view_module": "@jupyter-widgets/controls",
            "_model_module_version": "1.5.0",
            "value": 16,
            "_view_count": null,
            "_view_module_version": "1.5.0",
            "orientation": "horizontal",
            "min": 0,
            "description_tooltip": null,
            "_model_module": "@jupyter-widgets/controls",
            "layout": "IPY_MODEL_b58bdf29ffd84faa90f6a236eba58547"
          }
        },
        "102df5a35dea42f7a7e87d07d348d653": {
          "model_module": "@jupyter-widgets/controls",
          "model_name": "HTMLModel",
          "state": {
            "_view_name": "HTMLView",
            "style": "IPY_MODEL_81b1125d01e9482fba1c7a69f4988de6",
            "_dom_classes": [],
            "description": "",
            "_model_name": "HTMLModel",
            "placeholder": "​",
            "_view_module": "@jupyter-widgets/controls",
            "_model_module_version": "1.5.0",
            "value": " 16/16 [02:10&lt;00:00,  8.13s/it]",
            "_view_count": null,
            "_view_module_version": "1.5.0",
            "description_tooltip": null,
            "_model_module": "@jupyter-widgets/controls",
            "layout": "IPY_MODEL_e474fe3dcd9f4c34a2771dda1dc20bab"
          }
        },
        "9a2568e62abb4947ad1d2eb7bc447211": {
          "model_module": "@jupyter-widgets/controls",
          "model_name": "ProgressStyleModel",
          "state": {
            "_view_name": "StyleView",
            "_model_name": "ProgressStyleModel",
            "description_width": "initial",
            "_view_module": "@jupyter-widgets/base",
            "_model_module_version": "1.5.0",
            "_view_count": null,
            "_view_module_version": "1.2.0",
            "bar_color": null,
            "_model_module": "@jupyter-widgets/controls"
          }
        },
        "b58bdf29ffd84faa90f6a236eba58547": {
          "model_module": "@jupyter-widgets/base",
          "model_name": "LayoutModel",
          "state": {
            "_view_name": "LayoutView",
            "grid_template_rows": null,
            "right": null,
            "justify_content": null,
            "_view_module": "@jupyter-widgets/base",
            "overflow": null,
            "_model_module_version": "1.2.0",
            "_view_count": null,
            "flex_flow": null,
            "width": null,
            "min_width": null,
            "border": null,
            "align_items": null,
            "bottom": null,
            "_model_module": "@jupyter-widgets/base",
            "top": null,
            "grid_column": null,
            "overflow_y": null,
            "overflow_x": null,
            "grid_auto_flow": null,
            "grid_area": null,
            "grid_template_columns": null,
            "flex": null,
            "_model_name": "LayoutModel",
            "justify_items": null,
            "grid_row": null,
            "max_height": null,
            "align_content": null,
            "visibility": null,
            "align_self": null,
            "height": null,
            "min_height": null,
            "padding": null,
            "grid_auto_rows": null,
            "grid_gap": null,
            "max_width": null,
            "order": null,
            "_view_module_version": "1.2.0",
            "grid_template_areas": null,
            "object_position": null,
            "object_fit": null,
            "grid_auto_columns": null,
            "margin": null,
            "display": null,
            "left": null
          }
        },
        "81b1125d01e9482fba1c7a69f4988de6": {
          "model_module": "@jupyter-widgets/controls",
          "model_name": "DescriptionStyleModel",
          "state": {
            "_view_name": "StyleView",
            "_model_name": "DescriptionStyleModel",
            "description_width": "",
            "_view_module": "@jupyter-widgets/base",
            "_model_module_version": "1.5.0",
            "_view_count": null,
            "_view_module_version": "1.2.0",
            "_model_module": "@jupyter-widgets/controls"
          }
        },
        "e474fe3dcd9f4c34a2771dda1dc20bab": {
          "model_module": "@jupyter-widgets/base",
          "model_name": "LayoutModel",
          "state": {
            "_view_name": "LayoutView",
            "grid_template_rows": null,
            "right": null,
            "justify_content": null,
            "_view_module": "@jupyter-widgets/base",
            "overflow": null,
            "_model_module_version": "1.2.0",
            "_view_count": null,
            "flex_flow": null,
            "width": null,
            "min_width": null,
            "border": null,
            "align_items": null,
            "bottom": null,
            "_model_module": "@jupyter-widgets/base",
            "top": null,
            "grid_column": null,
            "overflow_y": null,
            "overflow_x": null,
            "grid_auto_flow": null,
            "grid_area": null,
            "grid_template_columns": null,
            "flex": null,
            "_model_name": "LayoutModel",
            "justify_items": null,
            "grid_row": null,
            "max_height": null,
            "align_content": null,
            "visibility": null,
            "align_self": null,
            "height": null,
            "min_height": null,
            "padding": null,
            "grid_auto_rows": null,
            "grid_gap": null,
            "max_width": null,
            "order": null,
            "_view_module_version": "1.2.0",
            "grid_template_areas": null,
            "object_position": null,
            "object_fit": null,
            "grid_auto_columns": null,
            "margin": null,
            "display": null,
            "left": null
          }
        },
        "62308e2dfe234ec2a07c79097bb526d8": {
          "model_module": "@jupyter-widgets/controls",
          "model_name": "HBoxModel",
          "state": {
            "_view_name": "HBoxView",
            "_dom_classes": [],
            "_model_name": "HBoxModel",
            "_view_module": "@jupyter-widgets/controls",
            "_model_module_version": "1.5.0",
            "_view_count": null,
            "_view_module_version": "1.5.0",
            "box_style": "",
            "layout": "IPY_MODEL_d45ec21a0f8a485abee979e7e0cc898f",
            "_model_module": "@jupyter-widgets/controls",
            "children": [
              "IPY_MODEL_b3001d896cb746d8b52e426e006497d3",
              "IPY_MODEL_ed71ab19ef4247b798ead780c0298ed0"
            ]
          }
        },
        "d45ec21a0f8a485abee979e7e0cc898f": {
          "model_module": "@jupyter-widgets/base",
          "model_name": "LayoutModel",
          "state": {
            "_view_name": "LayoutView",
            "grid_template_rows": null,
            "right": null,
            "justify_content": null,
            "_view_module": "@jupyter-widgets/base",
            "overflow": null,
            "_model_module_version": "1.2.0",
            "_view_count": null,
            "flex_flow": null,
            "width": null,
            "min_width": null,
            "border": null,
            "align_items": null,
            "bottom": null,
            "_model_module": "@jupyter-widgets/base",
            "top": null,
            "grid_column": null,
            "overflow_y": null,
            "overflow_x": null,
            "grid_auto_flow": null,
            "grid_area": null,
            "grid_template_columns": null,
            "flex": null,
            "_model_name": "LayoutModel",
            "justify_items": null,
            "grid_row": null,
            "max_height": null,
            "align_content": null,
            "visibility": null,
            "align_self": null,
            "height": null,
            "min_height": null,
            "padding": null,
            "grid_auto_rows": null,
            "grid_gap": null,
            "max_width": null,
            "order": null,
            "_view_module_version": "1.2.0",
            "grid_template_areas": null,
            "object_position": null,
            "object_fit": null,
            "grid_auto_columns": null,
            "margin": null,
            "display": null,
            "left": null
          }
        },
        "b3001d896cb746d8b52e426e006497d3": {
          "model_module": "@jupyter-widgets/controls",
          "model_name": "FloatProgressModel",
          "state": {
            "_view_name": "ProgressView",
            "style": "IPY_MODEL_33e123b77b9d44bda590303e5472652c",
            "_dom_classes": [],
            "description": "100%",
            "_model_name": "FloatProgressModel",
            "bar_style": "success",
            "max": 16,
            "_view_module": "@jupyter-widgets/controls",
            "_model_module_version": "1.5.0",
            "value": 16,
            "_view_count": null,
            "_view_module_version": "1.5.0",
            "orientation": "horizontal",
            "min": 0,
            "description_tooltip": null,
            "_model_module": "@jupyter-widgets/controls",
            "layout": "IPY_MODEL_e0ed76e9a8994acab158d2d237d1e089"
          }
        },
        "ed71ab19ef4247b798ead780c0298ed0": {
          "model_module": "@jupyter-widgets/controls",
          "model_name": "HTMLModel",
          "state": {
            "_view_name": "HTMLView",
            "style": "IPY_MODEL_e2e0ef80ae5243dc8229b69248e1287d",
            "_dom_classes": [],
            "description": "",
            "_model_name": "HTMLModel",
            "placeholder": "​",
            "_view_module": "@jupyter-widgets/controls",
            "_model_module_version": "1.5.0",
            "value": " 16/16 [02:08&lt;00:00,  8.05s/it]",
            "_view_count": null,
            "_view_module_version": "1.5.0",
            "description_tooltip": null,
            "_model_module": "@jupyter-widgets/controls",
            "layout": "IPY_MODEL_dd8c686fb179424c8417961acce95afc"
          }
        },
        "33e123b77b9d44bda590303e5472652c": {
          "model_module": "@jupyter-widgets/controls",
          "model_name": "ProgressStyleModel",
          "state": {
            "_view_name": "StyleView",
            "_model_name": "ProgressStyleModel",
            "description_width": "initial",
            "_view_module": "@jupyter-widgets/base",
            "_model_module_version": "1.5.0",
            "_view_count": null,
            "_view_module_version": "1.2.0",
            "bar_color": null,
            "_model_module": "@jupyter-widgets/controls"
          }
        },
        "e0ed76e9a8994acab158d2d237d1e089": {
          "model_module": "@jupyter-widgets/base",
          "model_name": "LayoutModel",
          "state": {
            "_view_name": "LayoutView",
            "grid_template_rows": null,
            "right": null,
            "justify_content": null,
            "_view_module": "@jupyter-widgets/base",
            "overflow": null,
            "_model_module_version": "1.2.0",
            "_view_count": null,
            "flex_flow": null,
            "width": null,
            "min_width": null,
            "border": null,
            "align_items": null,
            "bottom": null,
            "_model_module": "@jupyter-widgets/base",
            "top": null,
            "grid_column": null,
            "overflow_y": null,
            "overflow_x": null,
            "grid_auto_flow": null,
            "grid_area": null,
            "grid_template_columns": null,
            "flex": null,
            "_model_name": "LayoutModel",
            "justify_items": null,
            "grid_row": null,
            "max_height": null,
            "align_content": null,
            "visibility": null,
            "align_self": null,
            "height": null,
            "min_height": null,
            "padding": null,
            "grid_auto_rows": null,
            "grid_gap": null,
            "max_width": null,
            "order": null,
            "_view_module_version": "1.2.0",
            "grid_template_areas": null,
            "object_position": null,
            "object_fit": null,
            "grid_auto_columns": null,
            "margin": null,
            "display": null,
            "left": null
          }
        },
        "e2e0ef80ae5243dc8229b69248e1287d": {
          "model_module": "@jupyter-widgets/controls",
          "model_name": "DescriptionStyleModel",
          "state": {
            "_view_name": "StyleView",
            "_model_name": "DescriptionStyleModel",
            "description_width": "",
            "_view_module": "@jupyter-widgets/base",
            "_model_module_version": "1.5.0",
            "_view_count": null,
            "_view_module_version": "1.2.0",
            "_model_module": "@jupyter-widgets/controls"
          }
        },
        "dd8c686fb179424c8417961acce95afc": {
          "model_module": "@jupyter-widgets/base",
          "model_name": "LayoutModel",
          "state": {
            "_view_name": "LayoutView",
            "grid_template_rows": null,
            "right": null,
            "justify_content": null,
            "_view_module": "@jupyter-widgets/base",
            "overflow": null,
            "_model_module_version": "1.2.0",
            "_view_count": null,
            "flex_flow": null,
            "width": null,
            "min_width": null,
            "border": null,
            "align_items": null,
            "bottom": null,
            "_model_module": "@jupyter-widgets/base",
            "top": null,
            "grid_column": null,
            "overflow_y": null,
            "overflow_x": null,
            "grid_auto_flow": null,
            "grid_area": null,
            "grid_template_columns": null,
            "flex": null,
            "_model_name": "LayoutModel",
            "justify_items": null,
            "grid_row": null,
            "max_height": null,
            "align_content": null,
            "visibility": null,
            "align_self": null,
            "height": null,
            "min_height": null,
            "padding": null,
            "grid_auto_rows": null,
            "grid_gap": null,
            "max_width": null,
            "order": null,
            "_view_module_version": "1.2.0",
            "grid_template_areas": null,
            "object_position": null,
            "object_fit": null,
            "grid_auto_columns": null,
            "margin": null,
            "display": null,
            "left": null
          }
        },
        "fdba6074a90b4ab881816a5449ee9f29": {
          "model_module": "@jupyter-widgets/controls",
          "model_name": "HBoxModel",
          "state": {
            "_view_name": "HBoxView",
            "_dom_classes": [],
            "_model_name": "HBoxModel",
            "_view_module": "@jupyter-widgets/controls",
            "_model_module_version": "1.5.0",
            "_view_count": null,
            "_view_module_version": "1.5.0",
            "box_style": "",
            "layout": "IPY_MODEL_5ecfb924f8dc4b169c7bcc20b39b4e4c",
            "_model_module": "@jupyter-widgets/controls",
            "children": [
              "IPY_MODEL_10ef4fa607b543eca013b6c2418172b6",
              "IPY_MODEL_f3ad444730cb4707b7ed45ddd0d73095"
            ]
          }
        },
        "5ecfb924f8dc4b169c7bcc20b39b4e4c": {
          "model_module": "@jupyter-widgets/base",
          "model_name": "LayoutModel",
          "state": {
            "_view_name": "LayoutView",
            "grid_template_rows": null,
            "right": null,
            "justify_content": null,
            "_view_module": "@jupyter-widgets/base",
            "overflow": null,
            "_model_module_version": "1.2.0",
            "_view_count": null,
            "flex_flow": null,
            "width": null,
            "min_width": null,
            "border": null,
            "align_items": null,
            "bottom": null,
            "_model_module": "@jupyter-widgets/base",
            "top": null,
            "grid_column": null,
            "overflow_y": null,
            "overflow_x": null,
            "grid_auto_flow": null,
            "grid_area": null,
            "grid_template_columns": null,
            "flex": null,
            "_model_name": "LayoutModel",
            "justify_items": null,
            "grid_row": null,
            "max_height": null,
            "align_content": null,
            "visibility": null,
            "align_self": null,
            "height": null,
            "min_height": null,
            "padding": null,
            "grid_auto_rows": null,
            "grid_gap": null,
            "max_width": null,
            "order": null,
            "_view_module_version": "1.2.0",
            "grid_template_areas": null,
            "object_position": null,
            "object_fit": null,
            "grid_auto_columns": null,
            "margin": null,
            "display": null,
            "left": null
          }
        },
        "10ef4fa607b543eca013b6c2418172b6": {
          "model_module": "@jupyter-widgets/controls",
          "model_name": "FloatProgressModel",
          "state": {
            "_view_name": "ProgressView",
            "style": "IPY_MODEL_d9d398b407324156a5670f32ff8c6250",
            "_dom_classes": [],
            "description": "100%",
            "_model_name": "FloatProgressModel",
            "bar_style": "success",
            "max": 16,
            "_view_module": "@jupyter-widgets/controls",
            "_model_module_version": "1.5.0",
            "value": 16,
            "_view_count": null,
            "_view_module_version": "1.5.0",
            "orientation": "horizontal",
            "min": 0,
            "description_tooltip": null,
            "_model_module": "@jupyter-widgets/controls",
            "layout": "IPY_MODEL_1d5b429dbfe24dc9bbb9485f64e9b76b"
          }
        },
        "f3ad444730cb4707b7ed45ddd0d73095": {
          "model_module": "@jupyter-widgets/controls",
          "model_name": "HTMLModel",
          "state": {
            "_view_name": "HTMLView",
            "style": "IPY_MODEL_f41d8fdf4fe14780abda780a63ada670",
            "_dom_classes": [],
            "description": "",
            "_model_name": "HTMLModel",
            "placeholder": "​",
            "_view_module": "@jupyter-widgets/controls",
            "_model_module_version": "1.5.0",
            "value": " 16/16 [02:34&lt;00:00,  9.63s/it]",
            "_view_count": null,
            "_view_module_version": "1.5.0",
            "description_tooltip": null,
            "_model_module": "@jupyter-widgets/controls",
            "layout": "IPY_MODEL_aeb1e045e3d444d68c3264f809be1b9a"
          }
        },
        "d9d398b407324156a5670f32ff8c6250": {
          "model_module": "@jupyter-widgets/controls",
          "model_name": "ProgressStyleModel",
          "state": {
            "_view_name": "StyleView",
            "_model_name": "ProgressStyleModel",
            "description_width": "initial",
            "_view_module": "@jupyter-widgets/base",
            "_model_module_version": "1.5.0",
            "_view_count": null,
            "_view_module_version": "1.2.0",
            "bar_color": null,
            "_model_module": "@jupyter-widgets/controls"
          }
        },
        "1d5b429dbfe24dc9bbb9485f64e9b76b": {
          "model_module": "@jupyter-widgets/base",
          "model_name": "LayoutModel",
          "state": {
            "_view_name": "LayoutView",
            "grid_template_rows": null,
            "right": null,
            "justify_content": null,
            "_view_module": "@jupyter-widgets/base",
            "overflow": null,
            "_model_module_version": "1.2.0",
            "_view_count": null,
            "flex_flow": null,
            "width": null,
            "min_width": null,
            "border": null,
            "align_items": null,
            "bottom": null,
            "_model_module": "@jupyter-widgets/base",
            "top": null,
            "grid_column": null,
            "overflow_y": null,
            "overflow_x": null,
            "grid_auto_flow": null,
            "grid_area": null,
            "grid_template_columns": null,
            "flex": null,
            "_model_name": "LayoutModel",
            "justify_items": null,
            "grid_row": null,
            "max_height": null,
            "align_content": null,
            "visibility": null,
            "align_self": null,
            "height": null,
            "min_height": null,
            "padding": null,
            "grid_auto_rows": null,
            "grid_gap": null,
            "max_width": null,
            "order": null,
            "_view_module_version": "1.2.0",
            "grid_template_areas": null,
            "object_position": null,
            "object_fit": null,
            "grid_auto_columns": null,
            "margin": null,
            "display": null,
            "left": null
          }
        },
        "f41d8fdf4fe14780abda780a63ada670": {
          "model_module": "@jupyter-widgets/controls",
          "model_name": "DescriptionStyleModel",
          "state": {
            "_view_name": "StyleView",
            "_model_name": "DescriptionStyleModel",
            "description_width": "",
            "_view_module": "@jupyter-widgets/base",
            "_model_module_version": "1.5.0",
            "_view_count": null,
            "_view_module_version": "1.2.0",
            "_model_module": "@jupyter-widgets/controls"
          }
        },
        "aeb1e045e3d444d68c3264f809be1b9a": {
          "model_module": "@jupyter-widgets/base",
          "model_name": "LayoutModel",
          "state": {
            "_view_name": "LayoutView",
            "grid_template_rows": null,
            "right": null,
            "justify_content": null,
            "_view_module": "@jupyter-widgets/base",
            "overflow": null,
            "_model_module_version": "1.2.0",
            "_view_count": null,
            "flex_flow": null,
            "width": null,
            "min_width": null,
            "border": null,
            "align_items": null,
            "bottom": null,
            "_model_module": "@jupyter-widgets/base",
            "top": null,
            "grid_column": null,
            "overflow_y": null,
            "overflow_x": null,
            "grid_auto_flow": null,
            "grid_area": null,
            "grid_template_columns": null,
            "flex": null,
            "_model_name": "LayoutModel",
            "justify_items": null,
            "grid_row": null,
            "max_height": null,
            "align_content": null,
            "visibility": null,
            "align_self": null,
            "height": null,
            "min_height": null,
            "padding": null,
            "grid_auto_rows": null,
            "grid_gap": null,
            "max_width": null,
            "order": null,
            "_view_module_version": "1.2.0",
            "grid_template_areas": null,
            "object_position": null,
            "object_fit": null,
            "grid_auto_columns": null,
            "margin": null,
            "display": null,
            "left": null
          }
        },
        "99a8e51e7cff41649643eac0c7f96f9b": {
          "model_module": "@jupyter-widgets/controls",
          "model_name": "HBoxModel",
          "state": {
            "_view_name": "HBoxView",
            "_dom_classes": [],
            "_model_name": "HBoxModel",
            "_view_module": "@jupyter-widgets/controls",
            "_model_module_version": "1.5.0",
            "_view_count": null,
            "_view_module_version": "1.5.0",
            "box_style": "",
            "layout": "IPY_MODEL_0d5fd76da9ab49f8b72bc4d1ff8cb80f",
            "_model_module": "@jupyter-widgets/controls",
            "children": [
              "IPY_MODEL_e391655f0dfe4ed48cc0b9404c059a83",
              "IPY_MODEL_0b30927d234b4a9c82d84c9720807301"
            ]
          }
        },
        "0d5fd76da9ab49f8b72bc4d1ff8cb80f": {
          "model_module": "@jupyter-widgets/base",
          "model_name": "LayoutModel",
          "state": {
            "_view_name": "LayoutView",
            "grid_template_rows": null,
            "right": null,
            "justify_content": null,
            "_view_module": "@jupyter-widgets/base",
            "overflow": null,
            "_model_module_version": "1.2.0",
            "_view_count": null,
            "flex_flow": null,
            "width": null,
            "min_width": null,
            "border": null,
            "align_items": null,
            "bottom": null,
            "_model_module": "@jupyter-widgets/base",
            "top": null,
            "grid_column": null,
            "overflow_y": null,
            "overflow_x": null,
            "grid_auto_flow": null,
            "grid_area": null,
            "grid_template_columns": null,
            "flex": null,
            "_model_name": "LayoutModel",
            "justify_items": null,
            "grid_row": null,
            "max_height": null,
            "align_content": null,
            "visibility": null,
            "align_self": null,
            "height": null,
            "min_height": null,
            "padding": null,
            "grid_auto_rows": null,
            "grid_gap": null,
            "max_width": null,
            "order": null,
            "_view_module_version": "1.2.0",
            "grid_template_areas": null,
            "object_position": null,
            "object_fit": null,
            "grid_auto_columns": null,
            "margin": null,
            "display": null,
            "left": null
          }
        },
        "e391655f0dfe4ed48cc0b9404c059a83": {
          "model_module": "@jupyter-widgets/controls",
          "model_name": "FloatProgressModel",
          "state": {
            "_view_name": "ProgressView",
            "style": "IPY_MODEL_dcf3ec305aea42e096dfef7b56531a26",
            "_dom_classes": [],
            "description": "100%",
            "_model_name": "FloatProgressModel",
            "bar_style": "success",
            "max": 16,
            "_view_module": "@jupyter-widgets/controls",
            "_model_module_version": "1.5.0",
            "value": 16,
            "_view_count": null,
            "_view_module_version": "1.5.0",
            "orientation": "horizontal",
            "min": 0,
            "description_tooltip": null,
            "_model_module": "@jupyter-widgets/controls",
            "layout": "IPY_MODEL_b66a54f317a246b790d38f806dfc581a"
          }
        },
        "0b30927d234b4a9c82d84c9720807301": {
          "model_module": "@jupyter-widgets/controls",
          "model_name": "HTMLModel",
          "state": {
            "_view_name": "HTMLView",
            "style": "IPY_MODEL_d6b22c870ef446edb706d16f442d5b9a",
            "_dom_classes": [],
            "description": "",
            "_model_name": "HTMLModel",
            "placeholder": "​",
            "_view_module": "@jupyter-widgets/controls",
            "_model_module_version": "1.5.0",
            "value": " 16/16 [03:01&lt;00:00, 11.37s/it]",
            "_view_count": null,
            "_view_module_version": "1.5.0",
            "description_tooltip": null,
            "_model_module": "@jupyter-widgets/controls",
            "layout": "IPY_MODEL_16971fc1dc184ff6a1214f8175cd7080"
          }
        },
        "dcf3ec305aea42e096dfef7b56531a26": {
          "model_module": "@jupyter-widgets/controls",
          "model_name": "ProgressStyleModel",
          "state": {
            "_view_name": "StyleView",
            "_model_name": "ProgressStyleModel",
            "description_width": "initial",
            "_view_module": "@jupyter-widgets/base",
            "_model_module_version": "1.5.0",
            "_view_count": null,
            "_view_module_version": "1.2.0",
            "bar_color": null,
            "_model_module": "@jupyter-widgets/controls"
          }
        },
        "b66a54f317a246b790d38f806dfc581a": {
          "model_module": "@jupyter-widgets/base",
          "model_name": "LayoutModel",
          "state": {
            "_view_name": "LayoutView",
            "grid_template_rows": null,
            "right": null,
            "justify_content": null,
            "_view_module": "@jupyter-widgets/base",
            "overflow": null,
            "_model_module_version": "1.2.0",
            "_view_count": null,
            "flex_flow": null,
            "width": null,
            "min_width": null,
            "border": null,
            "align_items": null,
            "bottom": null,
            "_model_module": "@jupyter-widgets/base",
            "top": null,
            "grid_column": null,
            "overflow_y": null,
            "overflow_x": null,
            "grid_auto_flow": null,
            "grid_area": null,
            "grid_template_columns": null,
            "flex": null,
            "_model_name": "LayoutModel",
            "justify_items": null,
            "grid_row": null,
            "max_height": null,
            "align_content": null,
            "visibility": null,
            "align_self": null,
            "height": null,
            "min_height": null,
            "padding": null,
            "grid_auto_rows": null,
            "grid_gap": null,
            "max_width": null,
            "order": null,
            "_view_module_version": "1.2.0",
            "grid_template_areas": null,
            "object_position": null,
            "object_fit": null,
            "grid_auto_columns": null,
            "margin": null,
            "display": null,
            "left": null
          }
        },
        "d6b22c870ef446edb706d16f442d5b9a": {
          "model_module": "@jupyter-widgets/controls",
          "model_name": "DescriptionStyleModel",
          "state": {
            "_view_name": "StyleView",
            "_model_name": "DescriptionStyleModel",
            "description_width": "",
            "_view_module": "@jupyter-widgets/base",
            "_model_module_version": "1.5.0",
            "_view_count": null,
            "_view_module_version": "1.2.0",
            "_model_module": "@jupyter-widgets/controls"
          }
        },
        "16971fc1dc184ff6a1214f8175cd7080": {
          "model_module": "@jupyter-widgets/base",
          "model_name": "LayoutModel",
          "state": {
            "_view_name": "LayoutView",
            "grid_template_rows": null,
            "right": null,
            "justify_content": null,
            "_view_module": "@jupyter-widgets/base",
            "overflow": null,
            "_model_module_version": "1.2.0",
            "_view_count": null,
            "flex_flow": null,
            "width": null,
            "min_width": null,
            "border": null,
            "align_items": null,
            "bottom": null,
            "_model_module": "@jupyter-widgets/base",
            "top": null,
            "grid_column": null,
            "overflow_y": null,
            "overflow_x": null,
            "grid_auto_flow": null,
            "grid_area": null,
            "grid_template_columns": null,
            "flex": null,
            "_model_name": "LayoutModel",
            "justify_items": null,
            "grid_row": null,
            "max_height": null,
            "align_content": null,
            "visibility": null,
            "align_self": null,
            "height": null,
            "min_height": null,
            "padding": null,
            "grid_auto_rows": null,
            "grid_gap": null,
            "max_width": null,
            "order": null,
            "_view_module_version": "1.2.0",
            "grid_template_areas": null,
            "object_position": null,
            "object_fit": null,
            "grid_auto_columns": null,
            "margin": null,
            "display": null,
            "left": null
          }
        },
        "b97c558b1dc6450b8070a4c496a7a5ae": {
          "model_module": "@jupyter-widgets/controls",
          "model_name": "HBoxModel",
          "state": {
            "_view_name": "HBoxView",
            "_dom_classes": [],
            "_model_name": "HBoxModel",
            "_view_module": "@jupyter-widgets/controls",
            "_model_module_version": "1.5.0",
            "_view_count": null,
            "_view_module_version": "1.5.0",
            "box_style": "",
            "layout": "IPY_MODEL_a424bb7b8f5c4d808168a3c8c50e5a90",
            "_model_module": "@jupyter-widgets/controls",
            "children": [
              "IPY_MODEL_2205e7b1bc6646008c6c7fd33cb5ca03",
              "IPY_MODEL_0d2ff138dc69460bb5f75899ca881c47"
            ]
          }
        },
        "a424bb7b8f5c4d808168a3c8c50e5a90": {
          "model_module": "@jupyter-widgets/base",
          "model_name": "LayoutModel",
          "state": {
            "_view_name": "LayoutView",
            "grid_template_rows": null,
            "right": null,
            "justify_content": null,
            "_view_module": "@jupyter-widgets/base",
            "overflow": null,
            "_model_module_version": "1.2.0",
            "_view_count": null,
            "flex_flow": null,
            "width": null,
            "min_width": null,
            "border": null,
            "align_items": null,
            "bottom": null,
            "_model_module": "@jupyter-widgets/base",
            "top": null,
            "grid_column": null,
            "overflow_y": null,
            "overflow_x": null,
            "grid_auto_flow": null,
            "grid_area": null,
            "grid_template_columns": null,
            "flex": null,
            "_model_name": "LayoutModel",
            "justify_items": null,
            "grid_row": null,
            "max_height": null,
            "align_content": null,
            "visibility": null,
            "align_self": null,
            "height": null,
            "min_height": null,
            "padding": null,
            "grid_auto_rows": null,
            "grid_gap": null,
            "max_width": null,
            "order": null,
            "_view_module_version": "1.2.0",
            "grid_template_areas": null,
            "object_position": null,
            "object_fit": null,
            "grid_auto_columns": null,
            "margin": null,
            "display": null,
            "left": null
          }
        },
        "2205e7b1bc6646008c6c7fd33cb5ca03": {
          "model_module": "@jupyter-widgets/controls",
          "model_name": "FloatProgressModel",
          "state": {
            "_view_name": "ProgressView",
            "style": "IPY_MODEL_bc8edc4bcb0f43c4a99c0c1e677f61cb",
            "_dom_classes": [],
            "description": "100%",
            "_model_name": "FloatProgressModel",
            "bar_style": "success",
            "max": 16,
            "_view_module": "@jupyter-widgets/controls",
            "_model_module_version": "1.5.0",
            "value": 16,
            "_view_count": null,
            "_view_module_version": "1.5.0",
            "orientation": "horizontal",
            "min": 0,
            "description_tooltip": null,
            "_model_module": "@jupyter-widgets/controls",
            "layout": "IPY_MODEL_89b0e87f6cd1416c8621a2bfaed21c4c"
          }
        },
        "0d2ff138dc69460bb5f75899ca881c47": {
          "model_module": "@jupyter-widgets/controls",
          "model_name": "HTMLModel",
          "state": {
            "_view_name": "HTMLView",
            "style": "IPY_MODEL_8e07aecd8e35494b8b7a603ff5282e28",
            "_dom_classes": [],
            "description": "",
            "_model_name": "HTMLModel",
            "placeholder": "​",
            "_view_module": "@jupyter-widgets/controls",
            "_model_module_version": "1.5.0",
            "value": " 16/16 [02:48&lt;00:00, 10.52s/it]",
            "_view_count": null,
            "_view_module_version": "1.5.0",
            "description_tooltip": null,
            "_model_module": "@jupyter-widgets/controls",
            "layout": "IPY_MODEL_8f47351173174b70bd9db92b712ca552"
          }
        },
        "bc8edc4bcb0f43c4a99c0c1e677f61cb": {
          "model_module": "@jupyter-widgets/controls",
          "model_name": "ProgressStyleModel",
          "state": {
            "_view_name": "StyleView",
            "_model_name": "ProgressStyleModel",
            "description_width": "initial",
            "_view_module": "@jupyter-widgets/base",
            "_model_module_version": "1.5.0",
            "_view_count": null,
            "_view_module_version": "1.2.0",
            "bar_color": null,
            "_model_module": "@jupyter-widgets/controls"
          }
        },
        "89b0e87f6cd1416c8621a2bfaed21c4c": {
          "model_module": "@jupyter-widgets/base",
          "model_name": "LayoutModel",
          "state": {
            "_view_name": "LayoutView",
            "grid_template_rows": null,
            "right": null,
            "justify_content": null,
            "_view_module": "@jupyter-widgets/base",
            "overflow": null,
            "_model_module_version": "1.2.0",
            "_view_count": null,
            "flex_flow": null,
            "width": null,
            "min_width": null,
            "border": null,
            "align_items": null,
            "bottom": null,
            "_model_module": "@jupyter-widgets/base",
            "top": null,
            "grid_column": null,
            "overflow_y": null,
            "overflow_x": null,
            "grid_auto_flow": null,
            "grid_area": null,
            "grid_template_columns": null,
            "flex": null,
            "_model_name": "LayoutModel",
            "justify_items": null,
            "grid_row": null,
            "max_height": null,
            "align_content": null,
            "visibility": null,
            "align_self": null,
            "height": null,
            "min_height": null,
            "padding": null,
            "grid_auto_rows": null,
            "grid_gap": null,
            "max_width": null,
            "order": null,
            "_view_module_version": "1.2.0",
            "grid_template_areas": null,
            "object_position": null,
            "object_fit": null,
            "grid_auto_columns": null,
            "margin": null,
            "display": null,
            "left": null
          }
        },
        "8e07aecd8e35494b8b7a603ff5282e28": {
          "model_module": "@jupyter-widgets/controls",
          "model_name": "DescriptionStyleModel",
          "state": {
            "_view_name": "StyleView",
            "_model_name": "DescriptionStyleModel",
            "description_width": "",
            "_view_module": "@jupyter-widgets/base",
            "_model_module_version": "1.5.0",
            "_view_count": null,
            "_view_module_version": "1.2.0",
            "_model_module": "@jupyter-widgets/controls"
          }
        },
        "8f47351173174b70bd9db92b712ca552": {
          "model_module": "@jupyter-widgets/base",
          "model_name": "LayoutModel",
          "state": {
            "_view_name": "LayoutView",
            "grid_template_rows": null,
            "right": null,
            "justify_content": null,
            "_view_module": "@jupyter-widgets/base",
            "overflow": null,
            "_model_module_version": "1.2.0",
            "_view_count": null,
            "flex_flow": null,
            "width": null,
            "min_width": null,
            "border": null,
            "align_items": null,
            "bottom": null,
            "_model_module": "@jupyter-widgets/base",
            "top": null,
            "grid_column": null,
            "overflow_y": null,
            "overflow_x": null,
            "grid_auto_flow": null,
            "grid_area": null,
            "grid_template_columns": null,
            "flex": null,
            "_model_name": "LayoutModel",
            "justify_items": null,
            "grid_row": null,
            "max_height": null,
            "align_content": null,
            "visibility": null,
            "align_self": null,
            "height": null,
            "min_height": null,
            "padding": null,
            "grid_auto_rows": null,
            "grid_gap": null,
            "max_width": null,
            "order": null,
            "_view_module_version": "1.2.0",
            "grid_template_areas": null,
            "object_position": null,
            "object_fit": null,
            "grid_auto_columns": null,
            "margin": null,
            "display": null,
            "left": null
          }
        },
        "74aa341ed33647adbd0c3601766a569f": {
          "model_module": "@jupyter-widgets/controls",
          "model_name": "HBoxModel",
          "state": {
            "_view_name": "HBoxView",
            "_dom_classes": [],
            "_model_name": "HBoxModel",
            "_view_module": "@jupyter-widgets/controls",
            "_model_module_version": "1.5.0",
            "_view_count": null,
            "_view_module_version": "1.5.0",
            "box_style": "",
            "layout": "IPY_MODEL_08759a79c8f9439985d6a4cd462b846e",
            "_model_module": "@jupyter-widgets/controls",
            "children": [
              "IPY_MODEL_b513f6df10c846cdb48db1b122bef7fe",
              "IPY_MODEL_04e107f1bfcf4b528151280bf813a2cb"
            ]
          }
        },
        "08759a79c8f9439985d6a4cd462b846e": {
          "model_module": "@jupyter-widgets/base",
          "model_name": "LayoutModel",
          "state": {
            "_view_name": "LayoutView",
            "grid_template_rows": null,
            "right": null,
            "justify_content": null,
            "_view_module": "@jupyter-widgets/base",
            "overflow": null,
            "_model_module_version": "1.2.0",
            "_view_count": null,
            "flex_flow": null,
            "width": null,
            "min_width": null,
            "border": null,
            "align_items": null,
            "bottom": null,
            "_model_module": "@jupyter-widgets/base",
            "top": null,
            "grid_column": null,
            "overflow_y": null,
            "overflow_x": null,
            "grid_auto_flow": null,
            "grid_area": null,
            "grid_template_columns": null,
            "flex": null,
            "_model_name": "LayoutModel",
            "justify_items": null,
            "grid_row": null,
            "max_height": null,
            "align_content": null,
            "visibility": null,
            "align_self": null,
            "height": null,
            "min_height": null,
            "padding": null,
            "grid_auto_rows": null,
            "grid_gap": null,
            "max_width": null,
            "order": null,
            "_view_module_version": "1.2.0",
            "grid_template_areas": null,
            "object_position": null,
            "object_fit": null,
            "grid_auto_columns": null,
            "margin": null,
            "display": null,
            "left": null
          }
        },
        "b513f6df10c846cdb48db1b122bef7fe": {
          "model_module": "@jupyter-widgets/controls",
          "model_name": "FloatProgressModel",
          "state": {
            "_view_name": "ProgressView",
            "style": "IPY_MODEL_aedae09c115c4b2692c724a93b3fa5c2",
            "_dom_classes": [],
            "description": "100%",
            "_model_name": "FloatProgressModel",
            "bar_style": "success",
            "max": 16,
            "_view_module": "@jupyter-widgets/controls",
            "_model_module_version": "1.5.0",
            "value": 16,
            "_view_count": null,
            "_view_module_version": "1.5.0",
            "orientation": "horizontal",
            "min": 0,
            "description_tooltip": null,
            "_model_module": "@jupyter-widgets/controls",
            "layout": "IPY_MODEL_45774fda99e14409b55eb14b6f8c6535"
          }
        },
        "04e107f1bfcf4b528151280bf813a2cb": {
          "model_module": "@jupyter-widgets/controls",
          "model_name": "HTMLModel",
          "state": {
            "_view_name": "HTMLView",
            "style": "IPY_MODEL_bd168b6ce1c642bda36d8819bf202168",
            "_dom_classes": [],
            "description": "",
            "_model_name": "HTMLModel",
            "placeholder": "​",
            "_view_module": "@jupyter-widgets/controls",
            "_model_module_version": "1.5.0",
            "value": " 16/16 [03:59&lt;00:00, 14.98s/it]",
            "_view_count": null,
            "_view_module_version": "1.5.0",
            "description_tooltip": null,
            "_model_module": "@jupyter-widgets/controls",
            "layout": "IPY_MODEL_3ca08272ca424dac9f306c754cec46f7"
          }
        },
        "aedae09c115c4b2692c724a93b3fa5c2": {
          "model_module": "@jupyter-widgets/controls",
          "model_name": "ProgressStyleModel",
          "state": {
            "_view_name": "StyleView",
            "_model_name": "ProgressStyleModel",
            "description_width": "initial",
            "_view_module": "@jupyter-widgets/base",
            "_model_module_version": "1.5.0",
            "_view_count": null,
            "_view_module_version": "1.2.0",
            "bar_color": null,
            "_model_module": "@jupyter-widgets/controls"
          }
        },
        "45774fda99e14409b55eb14b6f8c6535": {
          "model_module": "@jupyter-widgets/base",
          "model_name": "LayoutModel",
          "state": {
            "_view_name": "LayoutView",
            "grid_template_rows": null,
            "right": null,
            "justify_content": null,
            "_view_module": "@jupyter-widgets/base",
            "overflow": null,
            "_model_module_version": "1.2.0",
            "_view_count": null,
            "flex_flow": null,
            "width": null,
            "min_width": null,
            "border": null,
            "align_items": null,
            "bottom": null,
            "_model_module": "@jupyter-widgets/base",
            "top": null,
            "grid_column": null,
            "overflow_y": null,
            "overflow_x": null,
            "grid_auto_flow": null,
            "grid_area": null,
            "grid_template_columns": null,
            "flex": null,
            "_model_name": "LayoutModel",
            "justify_items": null,
            "grid_row": null,
            "max_height": null,
            "align_content": null,
            "visibility": null,
            "align_self": null,
            "height": null,
            "min_height": null,
            "padding": null,
            "grid_auto_rows": null,
            "grid_gap": null,
            "max_width": null,
            "order": null,
            "_view_module_version": "1.2.0",
            "grid_template_areas": null,
            "object_position": null,
            "object_fit": null,
            "grid_auto_columns": null,
            "margin": null,
            "display": null,
            "left": null
          }
        },
        "bd168b6ce1c642bda36d8819bf202168": {
          "model_module": "@jupyter-widgets/controls",
          "model_name": "DescriptionStyleModel",
          "state": {
            "_view_name": "StyleView",
            "_model_name": "DescriptionStyleModel",
            "description_width": "",
            "_view_module": "@jupyter-widgets/base",
            "_model_module_version": "1.5.0",
            "_view_count": null,
            "_view_module_version": "1.2.0",
            "_model_module": "@jupyter-widgets/controls"
          }
        },
        "3ca08272ca424dac9f306c754cec46f7": {
          "model_module": "@jupyter-widgets/base",
          "model_name": "LayoutModel",
          "state": {
            "_view_name": "LayoutView",
            "grid_template_rows": null,
            "right": null,
            "justify_content": null,
            "_view_module": "@jupyter-widgets/base",
            "overflow": null,
            "_model_module_version": "1.2.0",
            "_view_count": null,
            "flex_flow": null,
            "width": null,
            "min_width": null,
            "border": null,
            "align_items": null,
            "bottom": null,
            "_model_module": "@jupyter-widgets/base",
            "top": null,
            "grid_column": null,
            "overflow_y": null,
            "overflow_x": null,
            "grid_auto_flow": null,
            "grid_area": null,
            "grid_template_columns": null,
            "flex": null,
            "_model_name": "LayoutModel",
            "justify_items": null,
            "grid_row": null,
            "max_height": null,
            "align_content": null,
            "visibility": null,
            "align_self": null,
            "height": null,
            "min_height": null,
            "padding": null,
            "grid_auto_rows": null,
            "grid_gap": null,
            "max_width": null,
            "order": null,
            "_view_module_version": "1.2.0",
            "grid_template_areas": null,
            "object_position": null,
            "object_fit": null,
            "grid_auto_columns": null,
            "margin": null,
            "display": null,
            "left": null
          }
        },
        "188193f689734d20a3591dddd41cd24a": {
          "model_module": "@jupyter-widgets/controls",
          "model_name": "HBoxModel",
          "state": {
            "_view_name": "HBoxView",
            "_dom_classes": [],
            "_model_name": "HBoxModel",
            "_view_module": "@jupyter-widgets/controls",
            "_model_module_version": "1.5.0",
            "_view_count": null,
            "_view_module_version": "1.5.0",
            "box_style": "",
            "layout": "IPY_MODEL_490e8a36297543969771bfff3f7f4653",
            "_model_module": "@jupyter-widgets/controls",
            "children": [
              "IPY_MODEL_01497303cc444c449e801c67cff3ca2e",
              "IPY_MODEL_a1318d93c8ca46309942a45050a23e20"
            ]
          }
        },
        "490e8a36297543969771bfff3f7f4653": {
          "model_module": "@jupyter-widgets/base",
          "model_name": "LayoutModel",
          "state": {
            "_view_name": "LayoutView",
            "grid_template_rows": null,
            "right": null,
            "justify_content": null,
            "_view_module": "@jupyter-widgets/base",
            "overflow": null,
            "_model_module_version": "1.2.0",
            "_view_count": null,
            "flex_flow": null,
            "width": null,
            "min_width": null,
            "border": null,
            "align_items": null,
            "bottom": null,
            "_model_module": "@jupyter-widgets/base",
            "top": null,
            "grid_column": null,
            "overflow_y": null,
            "overflow_x": null,
            "grid_auto_flow": null,
            "grid_area": null,
            "grid_template_columns": null,
            "flex": null,
            "_model_name": "LayoutModel",
            "justify_items": null,
            "grid_row": null,
            "max_height": null,
            "align_content": null,
            "visibility": null,
            "align_self": null,
            "height": null,
            "min_height": null,
            "padding": null,
            "grid_auto_rows": null,
            "grid_gap": null,
            "max_width": null,
            "order": null,
            "_view_module_version": "1.2.0",
            "grid_template_areas": null,
            "object_position": null,
            "object_fit": null,
            "grid_auto_columns": null,
            "margin": null,
            "display": null,
            "left": null
          }
        },
        "01497303cc444c449e801c67cff3ca2e": {
          "model_module": "@jupyter-widgets/controls",
          "model_name": "FloatProgressModel",
          "state": {
            "_view_name": "ProgressView",
            "style": "IPY_MODEL_5f2bea310f6e466b89d0dd3fb8426b3f",
            "_dom_classes": [],
            "description": "100%",
            "_model_name": "FloatProgressModel",
            "bar_style": "success",
            "max": 16,
            "_view_module": "@jupyter-widgets/controls",
            "_model_module_version": "1.5.0",
            "value": 16,
            "_view_count": null,
            "_view_module_version": "1.5.0",
            "orientation": "horizontal",
            "min": 0,
            "description_tooltip": null,
            "_model_module": "@jupyter-widgets/controls",
            "layout": "IPY_MODEL_6c0db5bc86d94833862c53616e284210"
          }
        },
        "a1318d93c8ca46309942a45050a23e20": {
          "model_module": "@jupyter-widgets/controls",
          "model_name": "HTMLModel",
          "state": {
            "_view_name": "HTMLView",
            "style": "IPY_MODEL_ff609ff9e5fc44188570b4f9a09ddd61",
            "_dom_classes": [],
            "description": "",
            "_model_name": "HTMLModel",
            "placeholder": "​",
            "_view_module": "@jupyter-widgets/controls",
            "_model_module_version": "1.5.0",
            "value": " 16/16 [04:54&lt;00:00, 18.43s/it]",
            "_view_count": null,
            "_view_module_version": "1.5.0",
            "description_tooltip": null,
            "_model_module": "@jupyter-widgets/controls",
            "layout": "IPY_MODEL_157491fa2dc04c3298cf483c0bd3d873"
          }
        },
        "5f2bea310f6e466b89d0dd3fb8426b3f": {
          "model_module": "@jupyter-widgets/controls",
          "model_name": "ProgressStyleModel",
          "state": {
            "_view_name": "StyleView",
            "_model_name": "ProgressStyleModel",
            "description_width": "initial",
            "_view_module": "@jupyter-widgets/base",
            "_model_module_version": "1.5.0",
            "_view_count": null,
            "_view_module_version": "1.2.0",
            "bar_color": null,
            "_model_module": "@jupyter-widgets/controls"
          }
        },
        "6c0db5bc86d94833862c53616e284210": {
          "model_module": "@jupyter-widgets/base",
          "model_name": "LayoutModel",
          "state": {
            "_view_name": "LayoutView",
            "grid_template_rows": null,
            "right": null,
            "justify_content": null,
            "_view_module": "@jupyter-widgets/base",
            "overflow": null,
            "_model_module_version": "1.2.0",
            "_view_count": null,
            "flex_flow": null,
            "width": null,
            "min_width": null,
            "border": null,
            "align_items": null,
            "bottom": null,
            "_model_module": "@jupyter-widgets/base",
            "top": null,
            "grid_column": null,
            "overflow_y": null,
            "overflow_x": null,
            "grid_auto_flow": null,
            "grid_area": null,
            "grid_template_columns": null,
            "flex": null,
            "_model_name": "LayoutModel",
            "justify_items": null,
            "grid_row": null,
            "max_height": null,
            "align_content": null,
            "visibility": null,
            "align_self": null,
            "height": null,
            "min_height": null,
            "padding": null,
            "grid_auto_rows": null,
            "grid_gap": null,
            "max_width": null,
            "order": null,
            "_view_module_version": "1.2.0",
            "grid_template_areas": null,
            "object_position": null,
            "object_fit": null,
            "grid_auto_columns": null,
            "margin": null,
            "display": null,
            "left": null
          }
        },
        "ff609ff9e5fc44188570b4f9a09ddd61": {
          "model_module": "@jupyter-widgets/controls",
          "model_name": "DescriptionStyleModel",
          "state": {
            "_view_name": "StyleView",
            "_model_name": "DescriptionStyleModel",
            "description_width": "",
            "_view_module": "@jupyter-widgets/base",
            "_model_module_version": "1.5.0",
            "_view_count": null,
            "_view_module_version": "1.2.0",
            "_model_module": "@jupyter-widgets/controls"
          }
        },
        "157491fa2dc04c3298cf483c0bd3d873": {
          "model_module": "@jupyter-widgets/base",
          "model_name": "LayoutModel",
          "state": {
            "_view_name": "LayoutView",
            "grid_template_rows": null,
            "right": null,
            "justify_content": null,
            "_view_module": "@jupyter-widgets/base",
            "overflow": null,
            "_model_module_version": "1.2.0",
            "_view_count": null,
            "flex_flow": null,
            "width": null,
            "min_width": null,
            "border": null,
            "align_items": null,
            "bottom": null,
            "_model_module": "@jupyter-widgets/base",
            "top": null,
            "grid_column": null,
            "overflow_y": null,
            "overflow_x": null,
            "grid_auto_flow": null,
            "grid_area": null,
            "grid_template_columns": null,
            "flex": null,
            "_model_name": "LayoutModel",
            "justify_items": null,
            "grid_row": null,
            "max_height": null,
            "align_content": null,
            "visibility": null,
            "align_self": null,
            "height": null,
            "min_height": null,
            "padding": null,
            "grid_auto_rows": null,
            "grid_gap": null,
            "max_width": null,
            "order": null,
            "_view_module_version": "1.2.0",
            "grid_template_areas": null,
            "object_position": null,
            "object_fit": null,
            "grid_auto_columns": null,
            "margin": null,
            "display": null,
            "left": null
          }
        },
        "29429eb1c5e8487d867379eb9f1c4be3": {
          "model_module": "@jupyter-widgets/controls",
          "model_name": "HBoxModel",
          "state": {
            "_view_name": "HBoxView",
            "_dom_classes": [],
            "_model_name": "HBoxModel",
            "_view_module": "@jupyter-widgets/controls",
            "_model_module_version": "1.5.0",
            "_view_count": null,
            "_view_module_version": "1.5.0",
            "box_style": "",
            "layout": "IPY_MODEL_8c35f6ff630e4a77bbdc465b7040390f",
            "_model_module": "@jupyter-widgets/controls",
            "children": [
              "IPY_MODEL_73950a4a83874244b9da2a2c1441eb08",
              "IPY_MODEL_5aea7a53db954109bad45c3aa14ea0d3"
            ]
          }
        },
        "8c35f6ff630e4a77bbdc465b7040390f": {
          "model_module": "@jupyter-widgets/base",
          "model_name": "LayoutModel",
          "state": {
            "_view_name": "LayoutView",
            "grid_template_rows": null,
            "right": null,
            "justify_content": null,
            "_view_module": "@jupyter-widgets/base",
            "overflow": null,
            "_model_module_version": "1.2.0",
            "_view_count": null,
            "flex_flow": null,
            "width": null,
            "min_width": null,
            "border": null,
            "align_items": null,
            "bottom": null,
            "_model_module": "@jupyter-widgets/base",
            "top": null,
            "grid_column": null,
            "overflow_y": null,
            "overflow_x": null,
            "grid_auto_flow": null,
            "grid_area": null,
            "grid_template_columns": null,
            "flex": null,
            "_model_name": "LayoutModel",
            "justify_items": null,
            "grid_row": null,
            "max_height": null,
            "align_content": null,
            "visibility": null,
            "align_self": null,
            "height": null,
            "min_height": null,
            "padding": null,
            "grid_auto_rows": null,
            "grid_gap": null,
            "max_width": null,
            "order": null,
            "_view_module_version": "1.2.0",
            "grid_template_areas": null,
            "object_position": null,
            "object_fit": null,
            "grid_auto_columns": null,
            "margin": null,
            "display": null,
            "left": null
          }
        },
        "73950a4a83874244b9da2a2c1441eb08": {
          "model_module": "@jupyter-widgets/controls",
          "model_name": "FloatProgressModel",
          "state": {
            "_view_name": "ProgressView",
            "style": "IPY_MODEL_29f9b533fe3d4707bd34bd05854dc852",
            "_dom_classes": [],
            "description": "100%",
            "_model_name": "FloatProgressModel",
            "bar_style": "success",
            "max": 16,
            "_view_module": "@jupyter-widgets/controls",
            "_model_module_version": "1.5.0",
            "value": 16,
            "_view_count": null,
            "_view_module_version": "1.5.0",
            "orientation": "horizontal",
            "min": 0,
            "description_tooltip": null,
            "_model_module": "@jupyter-widgets/controls",
            "layout": "IPY_MODEL_fa8485cd5f924ea9a632de8174c67bb8"
          }
        },
        "5aea7a53db954109bad45c3aa14ea0d3": {
          "model_module": "@jupyter-widgets/controls",
          "model_name": "HTMLModel",
          "state": {
            "_view_name": "HTMLView",
            "style": "IPY_MODEL_98d599f447534db28ef27d615e91f7fb",
            "_dom_classes": [],
            "description": "",
            "_model_name": "HTMLModel",
            "placeholder": "​",
            "_view_module": "@jupyter-widgets/controls",
            "_model_module_version": "1.5.0",
            "value": " 16/16 [06:39&lt;00:00, 24.98s/it]",
            "_view_count": null,
            "_view_module_version": "1.5.0",
            "description_tooltip": null,
            "_model_module": "@jupyter-widgets/controls",
            "layout": "IPY_MODEL_1cae1bb37852418b86b6a35b904b62d2"
          }
        },
        "29f9b533fe3d4707bd34bd05854dc852": {
          "model_module": "@jupyter-widgets/controls",
          "model_name": "ProgressStyleModel",
          "state": {
            "_view_name": "StyleView",
            "_model_name": "ProgressStyleModel",
            "description_width": "initial",
            "_view_module": "@jupyter-widgets/base",
            "_model_module_version": "1.5.0",
            "_view_count": null,
            "_view_module_version": "1.2.0",
            "bar_color": null,
            "_model_module": "@jupyter-widgets/controls"
          }
        },
        "fa8485cd5f924ea9a632de8174c67bb8": {
          "model_module": "@jupyter-widgets/base",
          "model_name": "LayoutModel",
          "state": {
            "_view_name": "LayoutView",
            "grid_template_rows": null,
            "right": null,
            "justify_content": null,
            "_view_module": "@jupyter-widgets/base",
            "overflow": null,
            "_model_module_version": "1.2.0",
            "_view_count": null,
            "flex_flow": null,
            "width": null,
            "min_width": null,
            "border": null,
            "align_items": null,
            "bottom": null,
            "_model_module": "@jupyter-widgets/base",
            "top": null,
            "grid_column": null,
            "overflow_y": null,
            "overflow_x": null,
            "grid_auto_flow": null,
            "grid_area": null,
            "grid_template_columns": null,
            "flex": null,
            "_model_name": "LayoutModel",
            "justify_items": null,
            "grid_row": null,
            "max_height": null,
            "align_content": null,
            "visibility": null,
            "align_self": null,
            "height": null,
            "min_height": null,
            "padding": null,
            "grid_auto_rows": null,
            "grid_gap": null,
            "max_width": null,
            "order": null,
            "_view_module_version": "1.2.0",
            "grid_template_areas": null,
            "object_position": null,
            "object_fit": null,
            "grid_auto_columns": null,
            "margin": null,
            "display": null,
            "left": null
          }
        },
        "98d599f447534db28ef27d615e91f7fb": {
          "model_module": "@jupyter-widgets/controls",
          "model_name": "DescriptionStyleModel",
          "state": {
            "_view_name": "StyleView",
            "_model_name": "DescriptionStyleModel",
            "description_width": "",
            "_view_module": "@jupyter-widgets/base",
            "_model_module_version": "1.5.0",
            "_view_count": null,
            "_view_module_version": "1.2.0",
            "_model_module": "@jupyter-widgets/controls"
          }
        },
        "1cae1bb37852418b86b6a35b904b62d2": {
          "model_module": "@jupyter-widgets/base",
          "model_name": "LayoutModel",
          "state": {
            "_view_name": "LayoutView",
            "grid_template_rows": null,
            "right": null,
            "justify_content": null,
            "_view_module": "@jupyter-widgets/base",
            "overflow": null,
            "_model_module_version": "1.2.0",
            "_view_count": null,
            "flex_flow": null,
            "width": null,
            "min_width": null,
            "border": null,
            "align_items": null,
            "bottom": null,
            "_model_module": "@jupyter-widgets/base",
            "top": null,
            "grid_column": null,
            "overflow_y": null,
            "overflow_x": null,
            "grid_auto_flow": null,
            "grid_area": null,
            "grid_template_columns": null,
            "flex": null,
            "_model_name": "LayoutModel",
            "justify_items": null,
            "grid_row": null,
            "max_height": null,
            "align_content": null,
            "visibility": null,
            "align_self": null,
            "height": null,
            "min_height": null,
            "padding": null,
            "grid_auto_rows": null,
            "grid_gap": null,
            "max_width": null,
            "order": null,
            "_view_module_version": "1.2.0",
            "grid_template_areas": null,
            "object_position": null,
            "object_fit": null,
            "grid_auto_columns": null,
            "margin": null,
            "display": null,
            "left": null
          }
        },
        "9b42d96b5a984ad1b3ce9f3086bef6e2": {
          "model_module": "@jupyter-widgets/controls",
          "model_name": "HBoxModel",
          "state": {
            "_view_name": "HBoxView",
            "_dom_classes": [],
            "_model_name": "HBoxModel",
            "_view_module": "@jupyter-widgets/controls",
            "_model_module_version": "1.5.0",
            "_view_count": null,
            "_view_module_version": "1.5.0",
            "box_style": "",
            "layout": "IPY_MODEL_d2d7ca7e71034669987b28c81d8c45f1",
            "_model_module": "@jupyter-widgets/controls",
            "children": [
              "IPY_MODEL_8374534029304e8b8f9a8d72e1668f99",
              "IPY_MODEL_02ef7eaa4285428fbb6710f39217b193"
            ]
          }
        },
        "d2d7ca7e71034669987b28c81d8c45f1": {
          "model_module": "@jupyter-widgets/base",
          "model_name": "LayoutModel",
          "state": {
            "_view_name": "LayoutView",
            "grid_template_rows": null,
            "right": null,
            "justify_content": null,
            "_view_module": "@jupyter-widgets/base",
            "overflow": null,
            "_model_module_version": "1.2.0",
            "_view_count": null,
            "flex_flow": null,
            "width": null,
            "min_width": null,
            "border": null,
            "align_items": null,
            "bottom": null,
            "_model_module": "@jupyter-widgets/base",
            "top": null,
            "grid_column": null,
            "overflow_y": null,
            "overflow_x": null,
            "grid_auto_flow": null,
            "grid_area": null,
            "grid_template_columns": null,
            "flex": null,
            "_model_name": "LayoutModel",
            "justify_items": null,
            "grid_row": null,
            "max_height": null,
            "align_content": null,
            "visibility": null,
            "align_self": null,
            "height": null,
            "min_height": null,
            "padding": null,
            "grid_auto_rows": null,
            "grid_gap": null,
            "max_width": null,
            "order": null,
            "_view_module_version": "1.2.0",
            "grid_template_areas": null,
            "object_position": null,
            "object_fit": null,
            "grid_auto_columns": null,
            "margin": null,
            "display": null,
            "left": null
          }
        },
        "8374534029304e8b8f9a8d72e1668f99": {
          "model_module": "@jupyter-widgets/controls",
          "model_name": "FloatProgressModel",
          "state": {
            "_view_name": "ProgressView",
            "style": "IPY_MODEL_e4e193c1cd594e3180a25376d0612a79",
            "_dom_classes": [],
            "description": "100%",
            "_model_name": "FloatProgressModel",
            "bar_style": "success",
            "max": 16,
            "_view_module": "@jupyter-widgets/controls",
            "_model_module_version": "1.5.0",
            "value": 16,
            "_view_count": null,
            "_view_module_version": "1.5.0",
            "orientation": "horizontal",
            "min": 0,
            "description_tooltip": null,
            "_model_module": "@jupyter-widgets/controls",
            "layout": "IPY_MODEL_07be4b71981e4685b6611433b33c3fc1"
          }
        },
        "02ef7eaa4285428fbb6710f39217b193": {
          "model_module": "@jupyter-widgets/controls",
          "model_name": "HTMLModel",
          "state": {
            "_view_name": "HTMLView",
            "style": "IPY_MODEL_3bbdee85d60544809c6df78dc62288e7",
            "_dom_classes": [],
            "description": "",
            "_model_name": "HTMLModel",
            "placeholder": "​",
            "_view_module": "@jupyter-widgets/controls",
            "_model_module_version": "1.5.0",
            "value": " 16/16 [07:28&lt;00:00, 28.01s/it]",
            "_view_count": null,
            "_view_module_version": "1.5.0",
            "description_tooltip": null,
            "_model_module": "@jupyter-widgets/controls",
            "layout": "IPY_MODEL_3cc40a4ee78d468d9e323d9b9963119c"
          }
        },
        "e4e193c1cd594e3180a25376d0612a79": {
          "model_module": "@jupyter-widgets/controls",
          "model_name": "ProgressStyleModel",
          "state": {
            "_view_name": "StyleView",
            "_model_name": "ProgressStyleModel",
            "description_width": "initial",
            "_view_module": "@jupyter-widgets/base",
            "_model_module_version": "1.5.0",
            "_view_count": null,
            "_view_module_version": "1.2.0",
            "bar_color": null,
            "_model_module": "@jupyter-widgets/controls"
          }
        },
        "07be4b71981e4685b6611433b33c3fc1": {
          "model_module": "@jupyter-widgets/base",
          "model_name": "LayoutModel",
          "state": {
            "_view_name": "LayoutView",
            "grid_template_rows": null,
            "right": null,
            "justify_content": null,
            "_view_module": "@jupyter-widgets/base",
            "overflow": null,
            "_model_module_version": "1.2.0",
            "_view_count": null,
            "flex_flow": null,
            "width": null,
            "min_width": null,
            "border": null,
            "align_items": null,
            "bottom": null,
            "_model_module": "@jupyter-widgets/base",
            "top": null,
            "grid_column": null,
            "overflow_y": null,
            "overflow_x": null,
            "grid_auto_flow": null,
            "grid_area": null,
            "grid_template_columns": null,
            "flex": null,
            "_model_name": "LayoutModel",
            "justify_items": null,
            "grid_row": null,
            "max_height": null,
            "align_content": null,
            "visibility": null,
            "align_self": null,
            "height": null,
            "min_height": null,
            "padding": null,
            "grid_auto_rows": null,
            "grid_gap": null,
            "max_width": null,
            "order": null,
            "_view_module_version": "1.2.0",
            "grid_template_areas": null,
            "object_position": null,
            "object_fit": null,
            "grid_auto_columns": null,
            "margin": null,
            "display": null,
            "left": null
          }
        },
        "3bbdee85d60544809c6df78dc62288e7": {
          "model_module": "@jupyter-widgets/controls",
          "model_name": "DescriptionStyleModel",
          "state": {
            "_view_name": "StyleView",
            "_model_name": "DescriptionStyleModel",
            "description_width": "",
            "_view_module": "@jupyter-widgets/base",
            "_model_module_version": "1.5.0",
            "_view_count": null,
            "_view_module_version": "1.2.0",
            "_model_module": "@jupyter-widgets/controls"
          }
        },
        "3cc40a4ee78d468d9e323d9b9963119c": {
          "model_module": "@jupyter-widgets/base",
          "model_name": "LayoutModel",
          "state": {
            "_view_name": "LayoutView",
            "grid_template_rows": null,
            "right": null,
            "justify_content": null,
            "_view_module": "@jupyter-widgets/base",
            "overflow": null,
            "_model_module_version": "1.2.0",
            "_view_count": null,
            "flex_flow": null,
            "width": null,
            "min_width": null,
            "border": null,
            "align_items": null,
            "bottom": null,
            "_model_module": "@jupyter-widgets/base",
            "top": null,
            "grid_column": null,
            "overflow_y": null,
            "overflow_x": null,
            "grid_auto_flow": null,
            "grid_area": null,
            "grid_template_columns": null,
            "flex": null,
            "_model_name": "LayoutModel",
            "justify_items": null,
            "grid_row": null,
            "max_height": null,
            "align_content": null,
            "visibility": null,
            "align_self": null,
            "height": null,
            "min_height": null,
            "padding": null,
            "grid_auto_rows": null,
            "grid_gap": null,
            "max_width": null,
            "order": null,
            "_view_module_version": "1.2.0",
            "grid_template_areas": null,
            "object_position": null,
            "object_fit": null,
            "grid_auto_columns": null,
            "margin": null,
            "display": null,
            "left": null
          }
        }
      }
    }
  },
  "cells": [
    {
      "cell_type": "code",
      "metadata": {
        "colab": {
          "base_uri": "https://localhost:8080/"
        },
        "id": "15Hsx-PU2zom",
        "outputId": "0b45ce20-b400-4c59-a455-dbf8c9226de6"
      },
      "source": [
        "pip install qiskit"
      ],
      "execution_count": null,
      "outputs": [
        {
          "output_type": "stream",
          "text": [
            "Requirement already satisfied: qiskit in /usr/local/lib/python3.7/dist-packages (0.28.0)\n",
            "Requirement already satisfied: qiskit-ignis==0.6.0 in /usr/local/lib/python3.7/dist-packages (from qiskit) (0.6.0)\n",
            "Requirement already satisfied: qiskit-ibmq-provider==0.15.0 in /usr/local/lib/python3.7/dist-packages (from qiskit) (0.15.0)\n",
            "Requirement already satisfied: qiskit-aqua==0.9.4 in /usr/local/lib/python3.7/dist-packages (from qiskit) (0.9.4)\n",
            "Requirement already satisfied: qiskit-terra==0.18.0 in /usr/local/lib/python3.7/dist-packages (from qiskit) (0.18.0)\n",
            "Requirement already satisfied: qiskit-aer==0.8.2 in /usr/local/lib/python3.7/dist-packages (from qiskit) (0.8.2)\n",
            "Requirement already satisfied: retworkx>=0.8.0 in /usr/local/lib/python3.7/dist-packages (from qiskit-ignis==0.6.0->qiskit) (0.9.0)\n",
            "Requirement already satisfied: numpy>=1.13 in /usr/local/lib/python3.7/dist-packages (from qiskit-ignis==0.6.0->qiskit) (1.19.5)\n",
            "Requirement already satisfied: setuptools>=40.1.0 in /usr/local/lib/python3.7/dist-packages (from qiskit-ignis==0.6.0->qiskit) (57.0.0)\n",
            "Requirement already satisfied: scipy!=0.19.1,>=0.19 in /usr/local/lib/python3.7/dist-packages (from qiskit-ignis==0.6.0->qiskit) (1.4.1)\n",
            "Requirement already satisfied: websocket-client>=1.0.1 in /usr/local/lib/python3.7/dist-packages (from qiskit-ibmq-provider==0.15.0->qiskit) (1.1.0)\n",
            "Requirement already satisfied: requests>=2.19 in /usr/local/lib/python3.7/dist-packages (from qiskit-ibmq-provider==0.15.0->qiskit) (2.23.0)\n",
            "Requirement already satisfied: requests-ntlm>=1.1.0 in /usr/local/lib/python3.7/dist-packages (from qiskit-ibmq-provider==0.15.0->qiskit) (1.1.0)\n",
            "Requirement already satisfied: urllib3>=1.21.1 in /usr/local/lib/python3.7/dist-packages (from qiskit-ibmq-provider==0.15.0->qiskit) (1.24.3)\n",
            "Requirement already satisfied: python-dateutil>=2.8.0 in /usr/local/lib/python3.7/dist-packages (from qiskit-ibmq-provider==0.15.0->qiskit) (2.8.1)\n",
            "Requirement already satisfied: pandas in /usr/local/lib/python3.7/dist-packages (from qiskit-aqua==0.9.4->qiskit) (1.1.5)\n",
            "Requirement already satisfied: h5py<3.3.0 in /usr/local/lib/python3.7/dist-packages (from qiskit-aqua==0.9.4->qiskit) (3.1.0)\n",
            "Requirement already satisfied: fastdtw<=0.3.4 in /usr/local/lib/python3.7/dist-packages (from qiskit-aqua==0.9.4->qiskit) (0.3.4)\n",
            "Requirement already satisfied: docplex>=2.21.207 in /usr/local/lib/python3.7/dist-packages (from qiskit-aqua==0.9.4->qiskit) (2.21.207)\n",
            "Requirement already satisfied: quandl in /usr/local/lib/python3.7/dist-packages (from qiskit-aqua==0.9.4->qiskit) (3.6.1)\n",
            "Requirement already satisfied: sympy>=1.3 in /usr/local/lib/python3.7/dist-packages (from qiskit-aqua==0.9.4->qiskit) (1.7.1)\n",
            "Requirement already satisfied: scikit-learn>=0.20.0 in /usr/local/lib/python3.7/dist-packages (from qiskit-aqua==0.9.4->qiskit) (0.22.2.post1)\n",
            "Requirement already satisfied: dlx<=1.0.4 in /usr/local/lib/python3.7/dist-packages (from qiskit-aqua==0.9.4->qiskit) (1.0.4)\n",
            "Requirement already satisfied: psutil>=5 in /usr/local/lib/python3.7/dist-packages (from qiskit-aqua==0.9.4->qiskit) (5.4.8)\n",
            "Requirement already satisfied: yfinance<0.1.63 in /usr/local/lib/python3.7/dist-packages (from qiskit-aqua==0.9.4->qiskit) (0.1.62)\n",
            "Requirement already satisfied: symengine>0.7; platform_machine == \"x86_64\" or platform_machine == \"aarch64\" or platform_machine == \"ppc64le\" or platform_machine == \"amd64\" or platform_machine == \"arm64\" in /usr/local/lib/python3.7/dist-packages (from qiskit-terra==0.18.0->qiskit) (0.7.2)\n",
            "Requirement already satisfied: ply>=3.10 in /usr/local/lib/python3.7/dist-packages (from qiskit-terra==0.18.0->qiskit) (3.11)\n",
            "Requirement already satisfied: fastjsonschema>=2.10 in /usr/local/lib/python3.7/dist-packages (from qiskit-terra==0.18.0->qiskit) (2.15.1)\n",
            "Requirement already satisfied: tweedledum<2.0,>=1.1 in /usr/local/lib/python3.7/dist-packages (from qiskit-terra==0.18.0->qiskit) (1.1.0)\n",
            "Requirement already satisfied: python-constraint>=1.4 in /usr/local/lib/python3.7/dist-packages (from qiskit-terra==0.18.0->qiskit) (1.4.0)\n",
            "Requirement already satisfied: jsonschema>=2.6 in /usr/local/lib/python3.7/dist-packages (from qiskit-terra==0.18.0->qiskit) (2.6.0)\n",
            "Requirement already satisfied: dill>=0.3 in /usr/local/lib/python3.7/dist-packages (from qiskit-terra==0.18.0->qiskit) (0.3.4)\n",
            "Requirement already satisfied: pybind11>=2.6 in /usr/local/lib/python3.7/dist-packages (from qiskit-aer==0.8.2->qiskit) (2.7.0)\n",
            "Requirement already satisfied: idna<3,>=2.5 in /usr/local/lib/python3.7/dist-packages (from requests>=2.19->qiskit-ibmq-provider==0.15.0->qiskit) (2.10)\n",
            "Requirement already satisfied: chardet<4,>=3.0.2 in /usr/local/lib/python3.7/dist-packages (from requests>=2.19->qiskit-ibmq-provider==0.15.0->qiskit) (3.0.4)\n",
            "Requirement already satisfied: certifi>=2017.4.17 in /usr/local/lib/python3.7/dist-packages (from requests>=2.19->qiskit-ibmq-provider==0.15.0->qiskit) (2021.5.30)\n",
            "Requirement already satisfied: ntlm-auth>=1.0.2 in /usr/local/lib/python3.7/dist-packages (from requests-ntlm>=1.1.0->qiskit-ibmq-provider==0.15.0->qiskit) (1.5.0)\n",
            "Requirement already satisfied: cryptography>=1.3 in /usr/local/lib/python3.7/dist-packages (from requests-ntlm>=1.1.0->qiskit-ibmq-provider==0.15.0->qiskit) (3.4.7)\n",
            "Requirement already satisfied: six>=1.5 in /usr/local/lib/python3.7/dist-packages (from python-dateutil>=2.8.0->qiskit-ibmq-provider==0.15.0->qiskit) (1.15.0)\n",
            "Requirement already satisfied: pytz>=2017.2 in /usr/local/lib/python3.7/dist-packages (from pandas->qiskit-aqua==0.9.4->qiskit) (2018.9)\n",
            "Requirement already satisfied: cached-property; python_version < \"3.8\" in /usr/local/lib/python3.7/dist-packages (from h5py<3.3.0->qiskit-aqua==0.9.4->qiskit) (1.5.2)\n",
            "Requirement already satisfied: more-itertools in /usr/local/lib/python3.7/dist-packages (from quandl->qiskit-aqua==0.9.4->qiskit) (8.8.0)\n",
            "Requirement already satisfied: inflection>=0.3.1 in /usr/local/lib/python3.7/dist-packages (from quandl->qiskit-aqua==0.9.4->qiskit) (0.5.1)\n",
            "Requirement already satisfied: mpmath>=0.19 in /usr/local/lib/python3.7/dist-packages (from sympy>=1.3->qiskit-aqua==0.9.4->qiskit) (1.2.1)\n",
            "Requirement already satisfied: joblib>=0.11 in /usr/local/lib/python3.7/dist-packages (from scikit-learn>=0.20.0->qiskit-aqua==0.9.4->qiskit) (1.0.1)\n",
            "Requirement already satisfied: multitasking>=0.0.7 in /usr/local/lib/python3.7/dist-packages (from yfinance<0.1.63->qiskit-aqua==0.9.4->qiskit) (0.0.9)\n",
            "Requirement already satisfied: lxml>=4.5.1 in /usr/local/lib/python3.7/dist-packages (from yfinance<0.1.63->qiskit-aqua==0.9.4->qiskit) (4.6.3)\n",
            "Requirement already satisfied: cffi>=1.12 in /usr/local/lib/python3.7/dist-packages (from cryptography>=1.3->requests-ntlm>=1.1.0->qiskit-ibmq-provider==0.15.0->qiskit) (1.14.6)\n",
            "Requirement already satisfied: pycparser in /usr/local/lib/python3.7/dist-packages (from cffi>=1.12->cryptography>=1.3->requests-ntlm>=1.1.0->qiskit-ibmq-provider==0.15.0->qiskit) (2.20)\n"
          ],
          "name": "stdout"
        }
      ]
    },
    {
      "cell_type": "code",
      "metadata": {
        "id": "khMUxaof23ne"
      },
      "source": [
        "import numpy as np\n",
        "import warnings\n",
        "from tqdm.auto import tqdm\n",
        "import qiskit as qk\n",
        "from qiskit.circuit import QuantumCircuit, Parameter\n",
        "from qiskit import Aer, assemble\n",
        "from qiskit.visualization import circuit_drawer, plot_histogram, plot_state_qsphere\n",
        "from qiskit import *\n",
        "import matplotlib.pyplot as plt\n",
        "from matplotlib.pyplot import figure\n",
        "pi = np.pi\n",
        "%matplotlib inline"
      ],
      "execution_count": null,
      "outputs": []
    },
    {
      "cell_type": "markdown",
      "metadata": {
        "id": "Vyt9BYIMVMNB"
      },
      "source": [
        "# Functions"
      ]
    },
    {
      "cell_type": "markdown",
      "metadata": {
        "id": "GJeckk70VZEz"
      },
      "source": [
        "## Measurement Functions"
      ]
    },
    {
      "cell_type": "code",
      "metadata": {
        "id": "RUteFYNn25NY"
      },
      "source": [
        "#some helper functions\n",
        "\n",
        "#statevector, qsphere\n",
        "def execute_circuit_sv(quantum_circuit):\n",
        "  statevector_simulator = Aer.get_backend('statevector_simulator')\n",
        "  result = execute(quantum_circuit, statevector_simulator).result()\n",
        "  statevector_results = result.get_statevector(quantum_circuit)\n",
        "  circuit_diagram = quantum_circuit.draw()\n",
        "  q_sphere = plot_state_qsphere(statevector_results)\n",
        "  return statevector_results, circuit_diagram, q_sphere\n",
        "\n",
        "#counts, histogram\n",
        "def execute_circuit(quantum_circuit,shot):\n",
        "  simulator = Aer.get_backend('qasm_simulator')\n",
        "  result = execute(quantum_circuit, simulator, shots=shot).result()\n",
        "  results = result.get_counts(quantum_circuit)\n",
        "  circuit_diagram = quantum_circuit.draw()\n",
        "  histogram = plot_histogram(results)\n",
        "  return results, circuit_diagram, histogram\n",
        "\n",
        "def execute_QC(quantum_circuit,shot):\n",
        "  simulator = Aer.get_backend('qasm_simulator')\n",
        "  result = execute(quantum_circuit, backend=simulator, shots=shot).result().get_counts()\n",
        "  return result\n",
        "\n",
        "#X-basis\n",
        "def X_measurement(qc, qubit, cbit):\n",
        "    \"\"\"Measure 'qubit' in the X-basis, and store the result in 'cbit'\"\"\"\n",
        "    qc.h(qubit)\n",
        "    qc.measure(qubit, cbit)\n",
        "    return qc\n",
        "\n",
        "#Y-basis\n",
        "def Y_measurement(qc, qubit, cbit):\n",
        "   \"\"\"Measure 'qubit' in the Y-basis, and store the result in 'cbit'\"\"\"\n",
        "   qc.sdg(qubit)\n",
        "   qc.h(qubit)\n",
        "   qc.measure(qubit, cbit)\n",
        "   return qc\n",
        "\n",
        "def ZZ_measurement(qc,qubit1,qubit2,cbit1,cbit2):\n",
        "  qc.measure(qubit1,cbit1)\n",
        "  qc.measure(qubit2,cbit2)\n",
        "  return qc\n",
        "\n",
        "def XX_measurement(qc,qubit1,qubit2,cbit1,cbit2):\n",
        "  qc.h(qubit1)\n",
        "  qc.h(qubit2)\n",
        "  qc.measure(qubit1,cbit1)\n",
        "  qc.measure(qubit2,cbit2)\n",
        "  return qc\n",
        "\n",
        "def YY_measurement(qc,qubit1,qubit2,cbit1,cbit2):\n",
        "  qc.sdg(qubit1)\n",
        "  qc.sdg(qubit2)\n",
        "  qc.h(qubit1)\n",
        "  qc.h(qubit2)\n",
        "  qc.measure(qubit1,cbit1)\n",
        "  qc.measure(qubit2,cbit2)\n",
        "  return qc\n",
        "\n",
        "def Measure(qc, basis, qubit1,qubit2,cbit1,cbit2):\n",
        "  if basis == 'Z':\n",
        "    qc.measure([0,0])\n",
        "  elif basis == 'Y':\n",
        "    Y_measurement(qc,qubit1,cbit1)\n",
        "  elif basis == 'X':\n",
        "    X_measurement(qc,qubit1,cbit1)\n",
        "  elif basis == 'ZZ':\n",
        "    ZZ_measurement(qc, qubit1,qubit2,cbit1,cbit2)\n",
        "  elif basis == 'YY':\n",
        "    YY_measurement(qc, qubit1,qubit2,cbit1,cbit2)\n",
        "  elif basis == 'XX':\n",
        "    XX_measurement(qc, qubit1,qubit2,cbit1,cbit2)\n",
        "  return qc"
      ],
      "execution_count": null,
      "outputs": []
    },
    {
      "cell_type": "markdown",
      "metadata": {
        "id": "WK4vF9YBVjdX"
      },
      "source": [
        "## Gate and Quantum Circuit Functions"
      ]
    },
    {
      "cell_type": "code",
      "metadata": {
        "id": "VQiEm6Hv26nQ"
      },
      "source": [
        "def SWAP(var):\n",
        "  \n",
        "  a = var[0]\n",
        "  b = var[1]\n",
        "  y = var[2]\n",
        "  theta = pi/2 - 2*y \n",
        "  phi = 2*a-pi/2\n",
        "  lamda = pi/2 -2*b\n",
        "  qc = QuantumCircuit(2)\n",
        "  qc.rz(-pi/2,1)\n",
        "  qc.cx(1,0)\n",
        "  qc.rz(theta,0)\n",
        "  qc.ry(phi,1)\n",
        "  qc.cx(0,1)\n",
        "  qc.ry(lamda,1)\n",
        "  qc.cx(1,0)\n",
        "  qc.rz(pi/2,0)\n",
        "  swap = qc.to_gate()\n",
        "\n",
        "  return swap\n",
        "\n",
        "def Unitary(quantum_circuit,y,nqbits):\n",
        "  #rz(-pi/2)\n",
        "  for idx in range(nqbits):\n",
        "    quantum_circuit.rz(-pi/2,idx)\n",
        "\n",
        "  quantum_circuit.barrier()\n",
        "  \n",
        "  #odd\n",
        "  for idx in range(nqbits):\n",
        "    if idx%2 == 0:\n",
        "      continue\n",
        "    else:\n",
        "      if idx == nqbits-1:\n",
        "        break\n",
        "      else:\n",
        "        quantum_circuit.append(SWAP(y), [idx,idx+1])\n",
        "  #even\n",
        "  for idx in range(nqbits):\n",
        "    if idx%2 == 1:\n",
        "      continue\n",
        "    else:\n",
        "      if idx == nqbits:\n",
        "        break\n",
        "      else:\n",
        "        quantum_circuit.append(SWAP(y), [idx,idx+1])\n",
        "  #odd\n",
        "  for idx in range(nqbits):\n",
        "    if idx%2 == 0:\n",
        "      continue\n",
        "    else:\n",
        "      if idx == nqbits-1:\n",
        "        break\n",
        "      else:\n",
        "        quantum_circuit.append(SWAP(y), [idx,idx+1])\n",
        "\n",
        "  quantum_circuit.barrier()\n",
        "  #rz(pi/2)\n",
        "  for idx in range(nqbits):\n",
        "    quantum_circuit.rz(pi/2,idx)\n",
        "  return quantum_circuit\n",
        "\n",
        "def Initial_State(quantum_circuit,IS,nqbits):\n",
        "  if IS == 'odd':\n",
        "    for idx in range(nqbits):\n",
        "      if idx%2 == 0: #skips even numbered qubits\n",
        "        continue\n",
        "      else:\n",
        "        quantum_circuit.x(idx)\n",
        "  elif IS =='even':\n",
        "    for idx in range(nqbits):\n",
        "       if idx%2 == 1: #skips odd numbered qubits\n",
        "        continue\n",
        "    else:\n",
        "      quantum_circuit.x(idx)\n",
        "  return quantum_circuit\n",
        "\n",
        "def Trotter(quantum_circuit, numTstep, nqbits, y):\n",
        "  for i in range(numTstep):\n",
        "      Unitary(quantum_circuit, y, nqbits)\n",
        "  return quantum_circuit\n",
        "\n",
        "def Quntum_Circuit(IS,nqbits,ncbits, y, numTstep):\n",
        "     Qreg = QuantumRegister(nqbits)\n",
        "     Creg = ClassicalRegister(ncbits)\n",
        "     QC = QuantumCircuit(Qreg,Creg)\n",
        "     Initial_State(QC,IS,nqbits)\n",
        "     QC.barrier()\n",
        "     Trotter(QC,numTstep,nqbits,y)\n",
        "     return QC\n",
        "\n",
        "def Results(IS,nqbits,ncbits,numTstep,basis,var,shots):\n",
        "  qc = Quntum_Circuit(IS,nqbits,ncbits,var,numTstep)\n",
        "  prob00 = []\n",
        "  prob01 = []\n",
        "  prob10 = []\n",
        "  prob11 = []\n",
        "  for measure_circuit in basis:\n",
        "    QC = qc + Measure(qc,measure_circuit,0,1,0,1)\n",
        "    counts = execute_QC(QC,shots)\n",
        "    probs = {}\n",
        "    for output in ['00','01', '10', '11']:\n",
        "      if output in counts:\n",
        "        probs[output] = counts[output]/shots\n",
        "      else:\n",
        "        probs[output] = 0\n",
        "    prob00.append(probs['00'])\n",
        "    prob10.append(probs['01'])\n",
        "    prob01.append(probs['10'])\n",
        "    prob11.append(probs['11'])\n",
        "  return prob00, prob01, prob10, prob11"
      ],
      "execution_count": null,
      "outputs": []
    },
    {
      "cell_type": "markdown",
      "metadata": {
        "id": "ec9xruNPVrBY"
      },
      "source": [
        "# Results"
      ]
    },
    {
      "cell_type": "markdown",
      "metadata": {
        "id": "S_SxderW1Fhp"
      },
      "source": [
        "## Static Gamma"
      ]
    },
    {
      "cell_type": "markdown",
      "metadata": {
        "id": "mNnShlc_1WBY"
      },
      "source": [
        "### ZZ Basis"
      ]
    },
    {
      "cell_type": "markdown",
      "metadata": {
        "id": "OckIP2pG1WBd"
      },
      "source": [
        "#### Single Trotter Step"
      ]
    },
    {
      "cell_type": "code",
      "metadata": {
        "colab": {
          "base_uri": "https://localhost:8080/",
          "height": 282
        },
        "id": "hY3cbYAb14LB",
        "outputId": "0f5e42c3-26d2-4963-d050-829054f87f9a"
      },
      "source": [
        "shots= 10000\n",
        "qbit = 6\n",
        "cbit = 2\n",
        "trotter = 1\n",
        "basis = ['ZZ']\n",
        "var = np.array([pi/12,pi/12,-pi/4])\n",
        "S00,S01,S10,S11 = Results('odd',qbit,cbit,trotter,basis,var,shots)\n",
        "plt.hist(S00, label=\"00\", color='g', orientation='horizontal')\n",
        "plt.hist(S01, label=\"01\", color='r',orientation='horizontal')\n",
        "plt.hist(S10, label=\"10\", color='b', orientation='horizontal')\n",
        "plt.hist(S11, label=\"11\", color='k',orientation='horizontal')\n",
        "plt.ylabel('Probability')\n",
        "plt.legend()"
      ],
      "execution_count": null,
      "outputs": [
        {
          "output_type": "execute_result",
          "data": {
            "text/plain": [
              "<matplotlib.legend.Legend at 0x7f27809d2b10>"
            ]
          },
          "metadata": {
            "tags": []
          },
          "execution_count": 64
        },
        {
          "output_type": "display_data",
          "data": {
            "image/png": "[encoded data removed]",
            "text/plain": [
              "<Figure size 432x288 with 1 Axes>"
            ]
          },
          "metadata": {
            "tags": [],
            "needs_background": "light"
          }
        }
      ]
    },
    {
      "cell_type": "code",
      "metadata": {
        "id": "UXNnExh3uy3U"
      },
      "source": [
        ""
      ],
      "execution_count": null,
      "outputs": []
    },
    {
      "cell_type": "markdown",
      "metadata": {
        "id": "vujJ-ijs1YIQ"
      },
      "source": [
        "#### Two Trotter Steps"
      ]
    },
    {
      "cell_type": "code",
      "metadata": {
        "colab": {
          "base_uri": "https://localhost:8080/",
          "height": 282
        },
        "id": "WYejMeUh4OnX",
        "outputId": "2cad6950-526f-487d-dca1-872552256f94"
      },
      "source": [
        "shots= 10000\n",
        "qbit = 6\n",
        "cbit = 2\n",
        "trotter = 2\n",
        "basis = ['ZZ']\n",
        "var = np.array([pi/12,pi/12,-pi/4])\n",
        "S200,S201,S210,S211 = Results('odd',qbit,cbit,trotter,basis,var,shots)\n",
        "plt.hist(S200, label=\"00\", color='g', orientation='horizontal')\n",
        "plt.hist(S201, label=\"01\", color='r',orientation='horizontal')\n",
        "plt.hist(S210, label=\"10\", color='b', orientation='horizontal')\n",
        "plt.hist(S211, label=\"11\", color='k',orientation='horizontal')\n",
        "plt.ylabel('Probability')\n",
        "plt.legend()"
      ],
      "execution_count": null,
      "outputs": [
        {
          "output_type": "execute_result",
          "data": {
            "text/plain": [
              "<matplotlib.legend.Legend at 0x7f27804a8cd0>"
            ]
          },
          "metadata": {
            "tags": []
          },
          "execution_count": 65
        },
        {
          "output_type": "display_data",
          "data": {
            "image/png": "[encoded data removed]",
            "text/plain": [
              "<Figure size 432x288 with 1 Axes>"
            ]
          },
          "metadata": {
            "tags": [],
            "needs_background": "light"
          }
        }
      ]
    },
    {
      "cell_type": "markdown",
      "metadata": {
        "id": "8AWuul_H1iny"
      },
      "source": [
        "#### Three Trotter Step"
      ]
    },
    {
      "cell_type": "code",
      "metadata": {
        "colab": {
          "base_uri": "https://localhost:8080/",
          "height": 282
        },
        "id": "JANz0niS4bV4",
        "outputId": "1de688ef-43db-48f8-829c-b61d9bbb5cd2"
      },
      "source": [
        "shots= 10000\n",
        "qbit = 6\n",
        "cbit = 2\n",
        "trotter = 3\n",
        "basis = ['ZZ']\n",
        "var = np.array([pi/12,pi/12,-pi/4])\n",
        "S300,S301,S310,S311 = Results('odd',qbit,cbit,trotter,basis,var,shots)\n",
        "plt.hist(S300, label=\"00\", color='g', orientation='horizontal')\n",
        "plt.hist(S301, label=\"01\", color='r',orientation='horizontal')\n",
        "plt.hist(S310, label=\"10\", color='b', orientation='horizontal')\n",
        "plt.hist(S311, label=\"11\", color='k',orientation='horizontal')\n",
        "plt.ylabel('Probability')\n",
        "plt.legend()"
      ],
      "execution_count": null,
      "outputs": [
        {
          "output_type": "execute_result",
          "data": {
            "text/plain": [
              "<matplotlib.legend.Legend at 0x7f2780319e50>"
            ]
          },
          "metadata": {
            "tags": []
          },
          "execution_count": 66
        },
        {
          "output_type": "display_data",
          "data": {
            "image/png": "[encoded data removed]",
            "text/plain": [
              "<Figure size 432x288 with 1 Axes>"
            ]
          },
          "metadata": {
            "tags": [],
            "needs_background": "light"
          }
        }
      ]
    },
    {
      "cell_type": "markdown",
      "metadata": {
        "id": "H2yXq9Xp1in2"
      },
      "source": [
        "#### Four Trotter Steps"
      ]
    },
    {
      "cell_type": "code",
      "metadata": {
        "colab": {
          "base_uri": "https://localhost:8080/",
          "height": 282
        },
        "id": "zrRO4vMg4flG",
        "outputId": "47c5b53f-1aa6-42df-98e6-35d11b18f0dd"
      },
      "source": [
        "shots= 10000\n",
        "qbit = 6\n",
        "cbit = 2\n",
        "trotter = 4\n",
        "basis = ['ZZ']\n",
        "var = np.array([pi/12,pi/12,-pi/4])\n",
        "S400,S401,S410,S411 = Results('odd',qbit,cbit,trotter,basis,var,shots)\n",
        "plt.hist(S400, label=\"00\", color='g', orientation='horizontal')\n",
        "plt.hist(S401, label=\"01\", color='r',orientation='horizontal')\n",
        "plt.hist(S410, label=\"10\", color='b', orientation='horizontal')\n",
        "plt.hist(S411, label=\"11\", color='k',orientation='horizontal')\n",
        "plt.ylabel('Probability')\n",
        "plt.legend()"
      ],
      "execution_count": null,
      "outputs": [
        {
          "output_type": "execute_result",
          "data": {
            "text/plain": [
              "<matplotlib.legend.Legend at 0x7f27801cb490>"
            ]
          },
          "metadata": {
            "tags": []
          },
          "execution_count": 67
        },
        {
          "output_type": "display_data",
          "data": {
            "image/png": "[encoded data removed]",
            "text/plain": [
              "<Figure size 432x288 with 1 Axes>"
            ]
          },
          "metadata": {
            "tags": [],
            "needs_background": "light"
          }
        }
      ]
    },
    {
      "cell_type": "markdown",
      "metadata": {
        "id": "GS4IdKY71mgt"
      },
      "source": [
        "#### Five Trotter Step"
      ]
    },
    {
      "cell_type": "code",
      "metadata": {
        "colab": {
          "base_uri": "https://localhost:8080/",
          "height": 282
        },
        "id": "kA8zPcYk4hBL",
        "outputId": "f23cf7e0-c379-443a-f3eb-9ff1b21d069c"
      },
      "source": [
        "shots= 10000\n",
        "qbit = 6\n",
        "cbit = 2\n",
        "trotter = 5\n",
        "basis = ['ZZ']\n",
        "var = np.array([pi/12,pi/12,-pi/4])\n",
        "S500,S501,S510,S511 = Results('odd',qbit,cbit,trotter,basis,var,shots)\n",
        "plt.hist(S500, label=\"00\", color='g', orientation='horizontal')\n",
        "plt.hist(S501, label=\"01\", color='r',orientation='horizontal')\n",
        "plt.hist(S510, label=\"10\", color='b', orientation='horizontal')\n",
        "plt.hist(S511, label=\"11\", color='k',orientation='horizontal')\n",
        "plt.ylabel('Probability')\n",
        "plt.legend()"
      ],
      "execution_count": null,
      "outputs": [
        {
          "output_type": "execute_result",
          "data": {
            "text/plain": [
              "<matplotlib.legend.Legend at 0x7f27801926d0>"
            ]
          },
          "metadata": {
            "tags": []
          },
          "execution_count": 68
        },
        {
          "output_type": "display_data",
          "data": {
            "image/png": "[encoded data removed]",
            "text/plain": [
              "<Figure size 432x288 with 1 Axes>"
            ]
          },
          "metadata": {
            "tags": [],
            "needs_background": "light"
          }
        }
      ]
    },
    {
      "cell_type": "markdown",
      "metadata": {
        "id": "EPbpk6T51mgx"
      },
      "source": [
        "#### Combining Trotter Steps"
      ]
    },
    {
      "cell_type": "code",
      "metadata": {
        "colab": {
          "base_uri": "https://localhost:8080/",
          "height": 655
        },
        "id": "8tI9O6A440xh",
        "outputId": "2217f152-1bda-43c8-8343-ec3e41cfa494"
      },
      "source": [
        "TrotterStep = [1,2,3,4,5]\n",
        "St00 =  np.array([S00,S200,S300,S400,S500])\n",
        "St01 =  np.array([S01,S201,S301,S401,S501])\n",
        "St10 =  np.array([S10,S210,S310,S410,S510])\n",
        "St11 =  np.array([S11,S211,S311,S411,S511])\n",
        "\n",
        "figure(num=None,figsize=(8,6), dpi=120, facecolor='w', edgecolor='k')\n",
        "plt.plot(TrotterStep, St00,'g.--',label=\"|00>\")\n",
        "plt.plot(TrotterStep, St01,'r.--',label=\"|01>\")\n",
        "plt.plot(TrotterStep, St10,'b.--',label=\"|10>\")\n",
        "plt.plot(TrotterStep, St11,'k.--',label=\"|11>\")\n",
        "plt.legend()\n",
        "plt.xlabel('trotter step')\n",
        "plt.ylabel('Probability')"
      ],
      "execution_count": null,
      "outputs": [
        {
          "output_type": "execute_result",
          "data": {
            "text/plain": [
              "Text(0, 0.5, 'Probability')"
            ]
          },
          "metadata": {
            "tags": []
          },
          "execution_count": 69
        },
        {
          "output_type": "display_data",
          "data": {
            "image/png": "[encoded data removed]",
            "text/plain": [
              "<Figure size 960x720 with 1 Axes>"
            ]
          },
          "metadata": {
            "tags": []
          }
        }
      ]
    },
    {
      "cell_type": "markdown",
      "metadata": {
        "id": "Nc9NNxPP1t17"
      },
      "source": [
        "### XX+YY+ZZ Basis"
      ]
    },
    {
      "cell_type": "markdown",
      "metadata": {
        "id": "i2h_JkOA1t1_"
      },
      "source": [
        "#### Single Trotter Step"
      ]
    },
    {
      "cell_type": "code",
      "metadata": {
        "colab": {
          "base_uri": "https://localhost:8080/",
          "height": 282
        },
        "id": "ClJJSWYS6ion",
        "outputId": "d456a5f2-51eb-4e7e-8a5d-cff0db94bd69"
      },
      "source": [
        "shots= 10000\n",
        "qbit = 6\n",
        "cbit = 2\n",
        "trotter = 1\n",
        "basis = ['ZZ','XX','YY']\n",
        "var = np.array([pi/12,pi/12,-pi/4])\n",
        "XYY_ST1 = Results('odd',qbit,cbit,trotter,basis,var,shots)\n",
        "XYZ_S00 = np.sum(XYY_ST1[0])\n",
        "XYZ_S01 = np.sum(XYY_ST1[1])\n",
        "XYZ_S10 = np.sum(XYY_ST1[2])\n",
        "XYZ_S11 = np.sum(XYY_ST1[3])\n",
        "plt.hist(XYZ_S00, label=\"00\", color='g', orientation='horizontal')\n",
        "plt.hist(XYZ_S01, label=\"01\", color='r',orientation='horizontal')\n",
        "plt.hist(XYZ_S10, label=\"10\", color='b', orientation='horizontal')\n",
        "plt.hist(XYZ_S11, label=\"11\", color='k',orientation='horizontal')\n",
        "plt.ylabel('Sum of XX YY ZZ Prob')\n",
        "plt.legend()"
      ],
      "execution_count": null,
      "outputs": [
        {
          "output_type": "execute_result",
          "data": {
            "text/plain": [
              "<matplotlib.legend.Legend at 0x7f2781620a50>"
            ]
          },
          "metadata": {
            "tags": []
          },
          "execution_count": 70
        },
        {
          "output_type": "display_data",
          "data": {
            "image/png": "[encoded data removed]",
            "text/plain": [
              "<Figure size 432x288 with 1 Axes>"
            ]
          },
          "metadata": {
            "tags": [],
            "needs_background": "light"
          }
        }
      ]
    },
    {
      "cell_type": "markdown",
      "metadata": {
        "id": "fbJOw44X1yWz"
      },
      "source": [
        "#### Two Trotter Steps"
      ]
    },
    {
      "cell_type": "code",
      "metadata": {
        "colab": {
          "base_uri": "https://localhost:8080/",
          "height": 282
        },
        "id": "sMJA3tTC7RxA",
        "outputId": "ad7d09e7-ca86-491a-c394-9832f617edda"
      },
      "source": [
        "shots= 10000\n",
        "qbit = 6\n",
        "cbit = 2\n",
        "trotter = 2\n",
        "basis = ['ZZ','XX','YY']\n",
        "var = np.array([pi/12,pi/12,-pi/4])\n",
        "XYY_ST2 = Results('odd',qbit,cbit,trotter,basis,var,shots)\n",
        "XYZ_S200 = np.sum(XYY_ST2[0])\n",
        "XYZ_S201 = np.sum(XYY_ST2[1])\n",
        "XYZ_S210 = np.sum(XYY_ST2[2])\n",
        "XYZ_S211 = np.sum(XYY_ST2[3])\n",
        "plt.hist(XYZ_S200, label=\"00\", color='g', orientation='horizontal')\n",
        "plt.hist(XYZ_S201, label=\"01\", color='r',orientation='horizontal')\n",
        "plt.hist(XYZ_S210, label=\"10\", color='b', orientation='horizontal')\n",
        "plt.hist(XYZ_S211, label=\"11\", color='k',orientation='horizontal')\n",
        "plt.ylabel('Sum of XX YY ZZ Prob')\n",
        "plt.legend()"
      ],
      "execution_count": null,
      "outputs": [
        {
          "output_type": "execute_result",
          "data": {
            "text/plain": [
              "<matplotlib.legend.Legend at 0x7f277ff77f90>"
            ]
          },
          "metadata": {
            "tags": []
          },
          "execution_count": 71
        },
        {
          "output_type": "display_data",
          "data": {
            "image/png": "[encoded data removed]",
            "text/plain": [
              "<Figure size 432x288 with 1 Axes>"
            ]
          },
          "metadata": {
            "tags": [],
            "needs_background": "light"
          }
        }
      ]
    },
    {
      "cell_type": "markdown",
      "metadata": {
        "id": "9T910pKj1yWz"
      },
      "source": [
        "#### Three Trotter Step"
      ]
    },
    {
      "cell_type": "code",
      "metadata": {
        "colab": {
          "base_uri": "https://localhost:8080/",
          "height": 282
        },
        "id": "7sLYa1W47dlV",
        "outputId": "49857db4-3cfb-48f1-d16c-0214a62e3386"
      },
      "source": [
        "shots= 10000\n",
        "qbit = 6\n",
        "cbit = 2\n",
        "trotter = 3\n",
        "basis = ['ZZ','XX','YY']\n",
        "var = np.array([pi/12,pi/12,-pi/4])\n",
        "XYY_ST3 = Results('odd',qbit,cbit,trotter,basis,var,shots)\n",
        "XYZ_S300 = np.sum(XYY_ST3[0])\n",
        "XYZ_S301 = np.sum(XYY_ST3[1])\n",
        "XYZ_S310 = np.sum(XYY_ST3[2])\n",
        "XYZ_S311 = np.sum(XYY_ST3[3])\n",
        "plt.hist(XYZ_S300, label=\"00\", color='g', orientation='horizontal')\n",
        "plt.hist(XYZ_S301, label=\"01\", color='r',orientation='horizontal')\n",
        "plt.hist(XYZ_S310, label=\"10\", color='b', orientation='horizontal')\n",
        "plt.hist(XYZ_S311, label=\"11\", color='k',orientation='horizontal')\n",
        "plt.ylabel('Sum of XX YY ZZ Prob')\n",
        "plt.legend()"
      ],
      "execution_count": null,
      "outputs": [
        {
          "output_type": "execute_result",
          "data": {
            "text/plain": [
              "<matplotlib.legend.Legend at 0x7f277fdd6dd0>"
            ]
          },
          "metadata": {
            "tags": []
          },
          "execution_count": 72
        },
        {
          "output_type": "display_data",
          "data": {
            "image/png": "[encoded data removed]",
            "text/plain": [
              "<Figure size 432x288 with 1 Axes>"
            ]
          },
          "metadata": {
            "tags": [],
            "needs_background": "light"
          }
        }
      ]
    },
    {
      "cell_type": "markdown",
      "metadata": {
        "id": "C66RI0uS1yWz"
      },
      "source": [
        "#### Four Trotter Steps"
      ]
    },
    {
      "cell_type": "code",
      "metadata": {
        "colab": {
          "base_uri": "https://localhost:8080/",
          "height": 282
        },
        "id": "PXuLb61P7lUV",
        "outputId": "6c5e3582-2fc0-4436-d8f9-c90a1d1f934c"
      },
      "source": [
        "shots= 10000\n",
        "qbit = 6\n",
        "cbit = 2\n",
        "trotter = 4\n",
        "basis = ['ZZ','XX','YY']\n",
        "var = np.array([pi/12,pi/12,-pi/4])\n",
        "XYY_ST4 = Results('odd',qbit,cbit,trotter,basis,var,shots)\n",
        "XYZ_S400 = np.sum(XYY_ST4[0])\n",
        "XYZ_S401 = np.sum(XYY_ST4[1])\n",
        "XYZ_S410 = np.sum(XYY_ST4[2])\n",
        "XYZ_S411 = np.sum(XYY_ST4[3])\n",
        "plt.hist(XYZ_S400, label=\"00\", color='g', orientation='horizontal')\n",
        "plt.hist(XYZ_S401, label=\"01\", color='r',orientation='horizontal')\n",
        "plt.hist(XYZ_S410, label=\"10\", color='b', orientation='horizontal')\n",
        "plt.hist(XYZ_S411, label=\"11\", color='k',orientation='horizontal')\n",
        "plt.ylabel('Sum of XX YY ZZ Prob')\n",
        "plt.legend()"
      ],
      "execution_count": null,
      "outputs": [
        {
          "output_type": "execute_result",
          "data": {
            "text/plain": [
              "<matplotlib.legend.Legend at 0x7f277fc846d0>"
            ]
          },
          "metadata": {
            "tags": []
          },
          "execution_count": 73
        },
        {
          "output_type": "display_data",
          "data": {
            "image/png": "[encoded data removed]",
            "text/plain": [
              "<Figure size 432x288 with 1 Axes>"
            ]
          },
          "metadata": {
            "tags": [],
            "needs_background": "light"
          }
        }
      ]
    },
    {
      "cell_type": "markdown",
      "metadata": {
        "id": "ejdxRyGN1yWz"
      },
      "source": [
        "#### Five Trotter Step"
      ]
    },
    {
      "cell_type": "code",
      "metadata": {
        "colab": {
          "base_uri": "https://localhost:8080/",
          "height": 285
        },
        "id": "HKZNtZxv7qm9",
        "outputId": "33663d62-ca24-4088-ee68-8095e4a876df"
      },
      "source": [
        "shots= 10000\n",
        "qbit = 6\n",
        "cbit = 2\n",
        "trotter = 5\n",
        "basis = ['ZZ','XX','YY']\n",
        "var = np.array([pi/12,pi/12,-pi/4])\n",
        "XYY_ST5 = Results('odd',qbit,cbit,trotter,basis,var,shots)\n",
        "XYZ_S500 = np.sum(XYY_ST5[0])\n",
        "XYZ_S501 = np.sum(XYY_ST5[1])\n",
        "XYZ_S510 = np.sum(XYY_ST5[2])\n",
        "XYZ_S511 = np.sum(XYY_ST5[3])\n",
        "plt.hist(XYZ_S500, label=\"00\", color='g', orientation='horizontal')\n",
        "plt.hist(XYZ_S501, label=\"01\", color='r',orientation='horizontal')\n",
        "plt.hist(XYZ_S510, label=\"10\", color='b', orientation='horizontal')\n",
        "plt.hist(XYZ_S511, label=\"11\", color='k',orientation='horizontal')\n",
        "plt.ylabel('Sum of XX YY ZZ Prob')\n",
        "plt.legend()"
      ],
      "execution_count": null,
      "outputs": [
        {
          "output_type": "execute_result",
          "data": {
            "text/plain": [
              "<matplotlib.legend.Legend at 0x7f2780017e90>"
            ]
          },
          "metadata": {
            "tags": []
          },
          "execution_count": 74
        },
        {
          "output_type": "display_data",
          "data": {
            "image/png": "[encoded data removed]",
            "text/plain": [
              "<Figure size 432x288 with 1 Axes>"
            ]
          },
          "metadata": {
            "tags": [],
            "needs_background": "light"
          }
        }
      ]
    },
    {
      "cell_type": "markdown",
      "metadata": {
        "id": "mpGCevvT1yWz"
      },
      "source": [
        "#### Combining Trotter Steps"
      ]
    },
    {
      "cell_type": "code",
      "metadata": {
        "colab": {
          "base_uri": "https://localhost:8080/",
          "height": 655
        },
        "id": "XJKUCVsc7w28",
        "outputId": "f2ba4c54-4289-408a-e448-6eb48dc3c216"
      },
      "source": [
        "TrotterStep = [1,2,3,4,5]\n",
        "XYZ_St00 =  np.array([XYZ_S00,XYZ_S200,XYZ_S300,XYZ_S400,XYZ_S500])\n",
        "XYZ_St01 =  np.array([XYZ_S01,XYZ_S201,XYZ_S301,XYZ_S401,XYZ_S501])\n",
        "XYZ_St10 =  np.array([XYZ_S10,XYZ_S210,XYZ_S310,XYZ_S410,XYZ_S510])\n",
        "XYZ_St11 =  np.array([XYZ_S11,XYZ_S211,XYZ_S311,XYZ_S411,XYZ_S511])\n",
        "\n",
        "figure(num=None,figsize=(8,6), dpi=120, facecolor='w', edgecolor='k')\n",
        "plt.plot(TrotterStep, XYZ_St00,'g.--',label=\"|00>\")\n",
        "plt.plot(TrotterStep, XYZ_St01,'r.--',label=\"|01>\")\n",
        "plt.plot(TrotterStep, XYZ_St10,'b.--',label=\"|10>\")\n",
        "plt.plot(TrotterStep, XYZ_St11,'k.--',label=\"|11>\")\n",
        "plt.legend()\n",
        "plt.xlabel('trotter step')\n",
        "plt.ylabel('Sum of XX YY ZZ Prob')"
      ],
      "execution_count": null,
      "outputs": [
        {
          "output_type": "execute_result",
          "data": {
            "text/plain": [
              "Text(0, 0.5, 'Sum of XX YY ZZ Prob')"
            ]
          },
          "metadata": {
            "tags": []
          },
          "execution_count": 75
        },
        {
          "output_type": "display_data",
          "data": {
            "image/png": "[encoded data removed]",
            "text/plain": [
              "<Figure size 960x720 with 1 Axes>"
            ]
          },
          "metadata": {
            "tags": []
          }
        }
      ]
    },
    {
      "cell_type": "markdown",
      "metadata": {
        "id": "1W--s9eM0kJW"
      },
      "source": [
        "## Varying Gamma"
      ]
    },
    {
      "cell_type": "markdown",
      "metadata": {
        "id": "cdwYnhN5Vutd"
      },
      "source": [
        "### ZZ Basis"
      ]
    },
    {
      "cell_type": "markdown",
      "metadata": {
        "id": "XuWto49YV9Vt"
      },
      "source": [
        "#### Single Trotter Step"
      ]
    },
    {
      "cell_type": "code",
      "metadata": {
        "colab": {
          "base_uri": "https://localhost:8080/",
          "height": 66,
          "referenced_widgets": [
            "67c6f861093c4f9790f2473be233e5f9",
            "02b0d3e9bb9d4d60b681a51dfe313528",
            "e40a17a3703645e4a39174be31378970",
            "a5a2963204204b60afb77151b639ae3a",
            "d73743cf2dd64868a2673fab62ddb1ee",
            "b220881aef234fcaa054d2f496206acc",
            "876b3ed529a845d49e8e01c1b4cccbae",
            "f03e531079574de4a17b623b67157682"
          ]
        },
        "id": "QUPVJ1M6OSJy",
        "outputId": "bf127b47-d4de-4c03-b12c-b7cee6afc651"
      },
      "source": [
        "shots= 10000\n",
        "qbit = 6\n",
        "cbit = 2\n",
        "trotter = 1\n",
        "gamma = np.arange(-2*pi,2*pi,pi/4)\n",
        "basis = ['ZZ']\n",
        "state_00 = []\n",
        "state_01 = []\n",
        "state_10 = []\n",
        "state_11 = []\n",
        "for i in tqdm(range(len(gamma))):\n",
        "  var = np.array([pi/12,pi/12,gamma[i]])\n",
        "  State = Results('odd',qbit,cbit,trotter,basis,var,shots)\n",
        "  state_00.append(State[0])\n",
        "  state_01.append(State[1])\n",
        "  state_10.append(State[2])\n",
        "  state_11.append(State[3])"
      ],
      "execution_count": null,
      "outputs": [
        {
          "output_type": "display_data",
          "data": {
            "application/vnd.jupyter.widget-view+json": {
              "model_id": "67c6f861093c4f9790f2473be233e5f9",
              "version_minor": 0,
              "version_major": 2
            },
            "text/plain": [
              "HBox(children=(FloatProgress(value=0.0, max=16.0), HTML(value='')))"
            ]
          },
          "metadata": {
            "tags": []
          }
        },
        {
          "output_type": "stream",
          "text": [
            "\n"
          ],
          "name": "stdout"
        }
      ]
    },
    {
      "cell_type": "code",
      "metadata": {
        "colab": {
          "base_uri": "https://localhost:8080/",
          "height": 296
        },
        "id": "GwFPVFYPPO2q",
        "outputId": "397d3a8b-57ef-4db1-cbd6-bf862a0883c0"
      },
      "source": [
        "plt.plot(gamma,state_00,color='g',label='|00>')\n",
        "plt.plot(gamma,state_01, color='r',label='|01>')\n",
        "plt.plot(gamma,state_10,color='b',label='|10>')\n",
        "plt.plot(gamma,state_11,color='k',label='|11>')\n",
        "plt.legend()\n",
        "plt.xlabel('gamma')\n",
        "plt.ylabel('probability')"
      ],
      "execution_count": null,
      "outputs": [
        {
          "output_type": "execute_result",
          "data": {
            "text/plain": [
              "Text(0, 0.5, 'probability')"
            ]
          },
          "metadata": {
            "tags": []
          },
          "execution_count": 77
        },
        {
          "output_type": "display_data",
          "data": {
            "image/png": "[encoded data removed]",
            "text/plain": [
              "<Figure size 432x288 with 1 Axes>"
            ]
          },
          "metadata": {
            "tags": [],
            "needs_background": "light"
          }
        }
      ]
    },
    {
      "cell_type": "markdown",
      "metadata": {
        "id": "GPD0H9tOV2TN"
      },
      "source": [
        "#### Two Trotter Steps"
      ]
    },
    {
      "cell_type": "code",
      "metadata": {
        "colab": {
          "base_uri": "https://localhost:8080/",
          "height": 66,
          "referenced_widgets": [
            "65e7000ebf3040859ea096fa9e27b8ee",
            "acab8adb9ec04e02a80e5d362be7ea17",
            "120a3784793b415da9df7afad165735a",
            "102df5a35dea42f7a7e87d07d348d653",
            "9a2568e62abb4947ad1d2eb7bc447211",
            "b58bdf29ffd84faa90f6a236eba58547",
            "81b1125d01e9482fba1c7a69f4988de6",
            "e474fe3dcd9f4c34a2771dda1dc20bab"
          ]
        },
        "id": "VDnO5DXVPnWs",
        "outputId": "9683141f-9db5-4642-d6ea-fed7db80ad4f"
      },
      "source": [
        "shots= 10000\n",
        "qbit = 6\n",
        "cbit = 2\n",
        "trotter = 2\n",
        "gamma = np.arange(-2*pi,2*pi,pi/4)\n",
        "basis = ['ZZ']\n",
        "state2_00 = []\n",
        "state2_01 = []\n",
        "state2_10 = []\n",
        "state2_11 = []\n",
        "for i in tqdm(range(len(gamma))):\n",
        "  var = np.array([pi/12,pi/12,gamma[i]])\n",
        "  State = Results('odd',qbit,cbit,trotter,basis,var,shots)\n",
        "  state2_00.append(State[0])\n",
        "  state2_01.append(State[1])\n",
        "  state2_10.append(State[2])\n",
        "  state2_11.append(State[3])"
      ],
      "execution_count": null,
      "outputs": [
        {
          "output_type": "display_data",
          "data": {
            "application/vnd.jupyter.widget-view+json": {
              "model_id": "65e7000ebf3040859ea096fa9e27b8ee",
              "version_minor": 0,
              "version_major": 2
            },
            "text/plain": [
              "HBox(children=(FloatProgress(value=0.0, max=16.0), HTML(value='')))"
            ]
          },
          "metadata": {
            "tags": []
          }
        },
        {
          "output_type": "stream",
          "text": [
            "\n"
          ],
          "name": "stdout"
        }
      ]
    },
    {
      "cell_type": "code",
      "metadata": {
        "colab": {
          "base_uri": "https://localhost:8080/",
          "height": 296
        },
        "id": "jKCoz1qMWMl_",
        "outputId": "e33bfa13-b1a7-4f81-936f-56b965e1ba99"
      },
      "source": [
        "plt.plot(gamma,state2_00,color='g',label='|00>')\n",
        "plt.plot(gamma,state2_01, color='r',label='|01>')\n",
        "plt.plot(gamma,state2_10,color='b',label='|10>')\n",
        "plt.plot(gamma,state2_11,color='k',label='|11>')\n",
        "plt.legend()\n",
        "plt.xlabel('gamma')\n",
        "plt.ylabel('probability')"
      ],
      "execution_count": null,
      "outputs": [
        {
          "output_type": "execute_result",
          "data": {
            "text/plain": [
              "Text(0, 0.5, 'probability')"
            ]
          },
          "metadata": {
            "tags": []
          },
          "execution_count": 79
        },
        {
          "output_type": "display_data",
          "data": {
            "image/png": "[encoded data removed]",
            "text/plain": [
              "<Figure size 432x288 with 1 Axes>"
            ]
          },
          "metadata": {
            "tags": [],
            "needs_background": "light"
          }
        }
      ]
    },
    {
      "cell_type": "markdown",
      "metadata": {
        "id": "XLr9taFQWVHX"
      },
      "source": [
        "#### Three Trotter Steps"
      ]
    },
    {
      "cell_type": "code",
      "metadata": {
        "colab": {
          "base_uri": "https://localhost:8080/",
          "height": 66,
          "referenced_widgets": [
            "62308e2dfe234ec2a07c79097bb526d8",
            "d45ec21a0f8a485abee979e7e0cc898f",
            "b3001d896cb746d8b52e426e006497d3",
            "ed71ab19ef4247b798ead780c0298ed0",
            "33e123b77b9d44bda590303e5472652c",
            "e0ed76e9a8994acab158d2d237d1e089",
            "e2e0ef80ae5243dc8229b69248e1287d",
            "dd8c686fb179424c8417961acce95afc"
          ]
        },
        "id": "6B5-7IQfWT2Z",
        "outputId": "1e0709a0-20c8-427f-d379-19e99fb7ef9f"
      },
      "source": [
        "shots= 10000\n",
        "qbit = 6\n",
        "cbit = 2\n",
        "trotter = 3\n",
        "gamma = np.arange(-2*pi,2*pi,pi/4)\n",
        "basis = ['ZZ']\n",
        "state3_00 = []\n",
        "state3_01 = []\n",
        "state3_10 = []\n",
        "state3_11 = []\n",
        "for i in tqdm(range(len(gamma))):\n",
        "  var = np.array([pi/12,pi/12,gamma[i]])\n",
        "  State = Results('odd',qbit,cbit,trotter,basis,var,shots)\n",
        "  state3_00.append(State[0])\n",
        "  state3_01.append(State[1])\n",
        "  state3_10.append(State[2])\n",
        "  state3_11.append(State[3])"
      ],
      "execution_count": null,
      "outputs": [
        {
          "output_type": "display_data",
          "data": {
            "application/vnd.jupyter.widget-view+json": {
              "model_id": "62308e2dfe234ec2a07c79097bb526d8",
              "version_minor": 0,
              "version_major": 2
            },
            "text/plain": [
              "HBox(children=(FloatProgress(value=0.0, max=16.0), HTML(value='')))"
            ]
          },
          "metadata": {
            "tags": []
          }
        },
        {
          "output_type": "stream",
          "text": [
            "\n"
          ],
          "name": "stdout"
        }
      ]
    },
    {
      "cell_type": "code",
      "metadata": {
        "colab": {
          "base_uri": "https://localhost:8080/",
          "height": 296
        },
        "id": "GuyGz9xmXKun",
        "outputId": "a2057520-4a4b-40db-edc6-dc7bf341cdaa"
      },
      "source": [
        "plt.plot(gamma,state3_00,color='g',label='|00>')\n",
        "plt.plot(gamma,state3_01, color='r',label='|01>')\n",
        "plt.plot(gamma,state3_10,color='b',label='|10>')\n",
        "plt.plot(gamma,state3_11,color='k',label='|11>')\n",
        "plt.legend()\n",
        "plt.xlabel('gamma')\n",
        "plt.ylabel('probability')"
      ],
      "execution_count": null,
      "outputs": [
        {
          "output_type": "execute_result",
          "data": {
            "text/plain": [
              "Text(0, 0.5, 'probability')"
            ]
          },
          "metadata": {
            "tags": []
          },
          "execution_count": 81
        },
        {
          "output_type": "display_data",
          "data": {
            "image/png": "[encoded data removed]",
            "text/plain": [
              "<Figure size 432x288 with 1 Axes>"
            ]
          },
          "metadata": {
            "tags": [],
            "needs_background": "light"
          }
        }
      ]
    },
    {
      "cell_type": "markdown",
      "metadata": {
        "id": "Ij4Hpt9aWarf"
      },
      "source": [
        "#### Four Trotter Steps"
      ]
    },
    {
      "cell_type": "code",
      "metadata": {
        "colab": {
          "base_uri": "https://localhost:8080/",
          "height": 66,
          "referenced_widgets": [
            "fdba6074a90b4ab881816a5449ee9f29",
            "5ecfb924f8dc4b169c7bcc20b39b4e4c",
            "10ef4fa607b543eca013b6c2418172b6",
            "f3ad444730cb4707b7ed45ddd0d73095",
            "d9d398b407324156a5670f32ff8c6250",
            "1d5b429dbfe24dc9bbb9485f64e9b76b",
            "f41d8fdf4fe14780abda780a63ada670",
            "aeb1e045e3d444d68c3264f809be1b9a"
          ]
        },
        "id": "2VaZD8f-XYdO",
        "outputId": "462a4260-ee48-4516-bd94-32e0dc729089"
      },
      "source": [
        "shots= 10000\n",
        "qbit = 6\n",
        "cbit = 2\n",
        "trotter = 4\n",
        "gamma = np.arange(-2*pi,2*pi,pi/4)\n",
        "basis = ['ZZ']\n",
        "state4_00 = []\n",
        "state4_01 = []\n",
        "state4_10 = []\n",
        "state4_11 = []\n",
        "for i in tqdm(range(len(gamma))):\n",
        "  var = np.array([pi/12,pi/12,gamma[i]])\n",
        "  State = Results('odd',qbit,cbit,trotter,basis,var,shots)\n",
        "  state4_00.append(State[0])\n",
        "  state4_01.append(State[1])\n",
        "  state4_10.append(State[2])\n",
        "  state4_11.append(State[3])"
      ],
      "execution_count": null,
      "outputs": [
        {
          "output_type": "display_data",
          "data": {
            "application/vnd.jupyter.widget-view+json": {
              "model_id": "fdba6074a90b4ab881816a5449ee9f29",
              "version_minor": 0,
              "version_major": 2
            },
            "text/plain": [
              "HBox(children=(FloatProgress(value=0.0, max=16.0), HTML(value='')))"
            ]
          },
          "metadata": {
            "tags": []
          }
        },
        {
          "output_type": "stream",
          "text": [
            "\n"
          ],
          "name": "stdout"
        }
      ]
    },
    {
      "cell_type": "code",
      "metadata": {
        "colab": {
          "base_uri": "https://localhost:8080/",
          "height": 296
        },
        "id": "Tj6LwszpXZGh",
        "outputId": "4213b9ca-1181-46df-8ee1-4b49d97d8f26"
      },
      "source": [
        "plt.plot(gamma,state4_00,color='g',label='|00>')\n",
        "plt.plot(gamma,state4_01, color='r',label='|01>')\n",
        "plt.plot(gamma,state4_10,color='b',label='|10>')\n",
        "plt.plot(gamma,state4_11,color='k',label='|11>')\n",
        "plt.legend()\n",
        "plt.xlabel('gamma')\n",
        "plt.ylabel('probability')"
      ],
      "execution_count": null,
      "outputs": [
        {
          "output_type": "execute_result",
          "data": {
            "text/plain": [
              "Text(0, 0.5, 'probability')"
            ]
          },
          "metadata": {
            "tags": []
          },
          "execution_count": 83
        },
        {
          "output_type": "display_data",
          "data": {
            "image/png": "[encoded data removed]",
            "text/plain": [
              "<Figure size 432x288 with 1 Axes>"
            ]
          },
          "metadata": {
            "tags": [],
            "needs_background": "light"
          }
        }
      ]
    },
    {
      "cell_type": "markdown",
      "metadata": {
        "id": "KoQdUF_QWe3B"
      },
      "source": [
        "#### Five Trotter Steps"
      ]
    },
    {
      "cell_type": "code",
      "metadata": {
        "colab": {
          "base_uri": "https://localhost:8080/",
          "height": 66,
          "referenced_widgets": [
            "99a8e51e7cff41649643eac0c7f96f9b",
            "0d5fd76da9ab49f8b72bc4d1ff8cb80f",
            "e391655f0dfe4ed48cc0b9404c059a83",
            "0b30927d234b4a9c82d84c9720807301",
            "dcf3ec305aea42e096dfef7b56531a26",
            "b66a54f317a246b790d38f806dfc581a",
            "d6b22c870ef446edb706d16f442d5b9a",
            "16971fc1dc184ff6a1214f8175cd7080"
          ]
        },
        "id": "O3C4DIPpXfQI",
        "outputId": "9ee086db-3cb1-4342-c4f1-fabba21b3bc5"
      },
      "source": [
        "shots= 10000\n",
        "qbit = 6\n",
        "cbit = 2\n",
        "trotter = 5\n",
        "gamma = np.arange(-2*pi,2*pi,pi/4)\n",
        "basis = ['ZZ']\n",
        "state5_00 = []\n",
        "state5_01 = []\n",
        "state5_10 = []\n",
        "state5_11 = []\n",
        "for i in tqdm(range(len(gamma))):\n",
        "  var = np.array([pi/12,pi/12,gamma[i]])\n",
        "  State = Results('odd',qbit,cbit,trotter,basis,var,shots)\n",
        "  state5_00.append(State[0])\n",
        "  state5_01.append(State[1])\n",
        "  state5_10.append(State[2])\n",
        "  state5_11.append(State[3])"
      ],
      "execution_count": null,
      "outputs": [
        {
          "output_type": "display_data",
          "data": {
            "application/vnd.jupyter.widget-view+json": {
              "model_id": "99a8e51e7cff41649643eac0c7f96f9b",
              "version_minor": 0,
              "version_major": 2
            },
            "text/plain": [
              "HBox(children=(FloatProgress(value=0.0, max=16.0), HTML(value='')))"
            ]
          },
          "metadata": {
            "tags": []
          }
        },
        {
          "output_type": "stream",
          "text": [
            "\n"
          ],
          "name": "stdout"
        }
      ]
    },
    {
      "cell_type": "code",
      "metadata": {
        "colab": {
          "base_uri": "https://localhost:8080/",
          "height": 296
        },
        "id": "zdfuYUYlXgD8",
        "outputId": "3d29e2e3-510c-41cd-b29b-19ddf1a8ca8d"
      },
      "source": [
        "plt.plot(gamma,state5_00,color='g',label='|00>')\n",
        "plt.plot(gamma,state5_01, color='r',label='|01>')\n",
        "plt.plot(gamma,state5_10,color='b',label='|10>')\n",
        "plt.plot(gamma,state5_11,color='k',label='|11>')\n",
        "plt.legend()\n",
        "plt.xlabel('gamma')\n",
        "plt.ylabel('probability')"
      ],
      "execution_count": null,
      "outputs": [
        {
          "output_type": "execute_result",
          "data": {
            "text/plain": [
              "Text(0, 0.5, 'probability')"
            ]
          },
          "metadata": {
            "tags": []
          },
          "execution_count": 85
        },
        {
          "output_type": "display_data",
          "data": {
            "image/png": "[encoded data removed]",
            "text/plain": [
              "<Figure size 432x288 with 1 Axes>"
            ]
          },
          "metadata": {
            "tags": [],
            "needs_background": "light"
          }
        }
      ]
    },
    {
      "cell_type": "markdown",
      "metadata": {
        "id": "PV2IFC1RWhwy"
      },
      "source": [
        "#### Combining Trotter Steps"
      ]
    },
    {
      "cell_type": "code",
      "metadata": {
        "id": "zya9lz03WmJ0"
      },
      "source": [
        "trotterstep = np.array([1,2,3,4,5])\n",
        "trot00 = np.array([np.mean(state_00),np.mean(state2_00),np.mean(state3_00),np.mean(state4_00),np.mean(state5_00)])\n",
        "trot01 = np.array([np.mean(state_01),np.mean(state2_01),np.mean(state3_01),np.mean(state4_01),np.mean(state5_01)])\n",
        "trot10 = np.array([np.mean(state_10),np.mean(state2_10),np.mean(state3_10),np.mean(state4_10),np.mean(state5_10)])\n",
        "trot11 = np.array([np.mean(state_11),np.mean(state2_11),np.mean(state3_11),np.mean(state4_11),np.mean(state5_11)])\n",
        "trot00_std = np.array([np.std(state_00),np.std(state2_00),np.std(state3_00),np.std(state4_00),np.std(state5_00)])\n",
        "trot01_std = np.array([np.std(state_01),np.std(state2_01),np.std(state3_01),np.std(state4_01),np.std(state5_01)])\n",
        "trot10_std = np.array([np.std(state_10),np.std(state2_10),np.std(state3_10),np.std(state4_10),np.std(state5_10)])\n",
        "trot11_std = np.array([np.std(state_11),np.std(state_11),np.std(state3_11),np.std(state4_11),np.std(state5_11)])"
      ],
      "execution_count": null,
      "outputs": []
    },
    {
      "cell_type": "code",
      "metadata": {
        "colab": {
          "base_uri": "https://localhost:8080/",
          "height": 659
        },
        "id": "Uf0N9nlWX29e",
        "outputId": "d55aedb9-21cf-4b68-92c8-c46aba22e055"
      },
      "source": [
        "figure(num=None,figsize=(8,6), dpi=120, facecolor='w', edgecolor='k')\n",
        "plt.plot(trotterstep,trot00,'b.--',linewidth=0.5,label='|00>')\n",
        "plt.plot(trotterstep,trot01,'g.--',linewidth=0.5,label='|01>')\n",
        "plt.plot(trotterstep,trot10,'r.--',linewidth=0.5,label='|10>')\n",
        "plt.plot(trotterstep,trot11,'k.--',linewidth=0.5,label='|11>')\n",
        "plt.legend()\n",
        "plt.xlabel('Trotter Step')\n",
        "plt.ylabel('probability')"
      ],
      "execution_count": null,
      "outputs": [
        {
          "output_type": "execute_result",
          "data": {
            "text/plain": [
              "Text(0, 0.5, 'probability')"
            ]
          },
          "metadata": {
            "tags": []
          },
          "execution_count": 87
        },
        {
          "output_type": "display_data",
          "data": {
            "image/png": "[encoded data removed]",
            "text/plain": [
              "<Figure size 960x720 with 1 Axes>"
            ]
          },
          "metadata": {
            "tags": []
          }
        }
      ]
    },
    {
      "cell_type": "markdown",
      "metadata": {
        "id": "00KOmtepWm81"
      },
      "source": [
        "### XX+YY+ZZ Basis"
      ]
    },
    {
      "cell_type": "markdown",
      "metadata": {
        "id": "cJF5tL__W9jb"
      },
      "source": [
        "#### Single Trotter Step"
      ]
    },
    {
      "cell_type": "code",
      "metadata": {
        "colab": {
          "base_uri": "https://localhost:8080/",
          "height": 66,
          "referenced_widgets": [
            "b97c558b1dc6450b8070a4c496a7a5ae",
            "a424bb7b8f5c4d808168a3c8c50e5a90",
            "2205e7b1bc6646008c6c7fd33cb5ca03",
            "0d2ff138dc69460bb5f75899ca881c47",
            "bc8edc4bcb0f43c4a99c0c1e677f61cb",
            "89b0e87f6cd1416c8621a2bfaed21c4c",
            "8e07aecd8e35494b8b7a603ff5282e28",
            "8f47351173174b70bd9db92b712ca552"
          ]
        },
        "id": "g-BktqgkX56U",
        "outputId": "efbad4ed-8754-46f4-f5fe-798bdadfb502"
      },
      "source": [
        "shots= 10000\n",
        "qbit = 6\n",
        "cbit = 2\n",
        "trotter = 1\n",
        "gamma = np.arange(-2*pi,2*pi,pi/4)\n",
        "basis = ['ZZ','XX','YY']\n",
        "XYZ_state1_00 = []\n",
        "XYZ_state1_01 = []\n",
        "XYZ_state1_10 = []\n",
        "XYZ_state1_11 = []\n",
        "for i in tqdm(range(len(gamma))):\n",
        "  var = np.array([pi/12,pi/12,gamma[i]])\n",
        "  State = Results('odd',qbit,cbit,trotter,basis,var,shots)\n",
        "  XYZ_state1_00.append(np.sum(State[0]))\n",
        "  XYZ_state1_01.append(np.sum(State[1]))\n",
        "  XYZ_state1_10.append(np.sum(State[2]))\n",
        "  XYZ_state1_11.append(np.sum(State[3]))"
      ],
      "execution_count": null,
      "outputs": [
        {
          "output_type": "display_data",
          "data": {
            "application/vnd.jupyter.widget-view+json": {
              "model_id": "b97c558b1dc6450b8070a4c496a7a5ae",
              "version_minor": 0,
              "version_major": 2
            },
            "text/plain": [
              "HBox(children=(FloatProgress(value=0.0, max=16.0), HTML(value='')))"
            ]
          },
          "metadata": {
            "tags": []
          }
        },
        {
          "output_type": "stream",
          "text": [
            "\n"
          ],
          "name": "stdout"
        }
      ]
    },
    {
      "cell_type": "code",
      "metadata": {
        "colab": {
          "base_uri": "https://localhost:8080/",
          "height": 296
        },
        "id": "LDu4froYYRYC",
        "outputId": "5cd4de99-204f-428a-e7f8-0b1c4d59b782"
      },
      "source": [
        "plt.plot(gamma,XYZ_state1_00,color='g',label='|00>')\n",
        "plt.plot(gamma,XYZ_state1_01, color='r',label='|01>')\n",
        "plt.plot(gamma,XYZ_state1_10,color='b',label='|10>')\n",
        "plt.plot(gamma,XYZ_state1_11,color='k',label='|11>')\n",
        "plt.legend()\n",
        "plt.xlabel('gamma')\n",
        "plt.ylabel('Sum of XX YY ZZ Prob')"
      ],
      "execution_count": null,
      "outputs": [
        {
          "output_type": "execute_result",
          "data": {
            "text/plain": [
              "Text(0, 0.5, 'Sum of XX YY ZZ Prob')"
            ]
          },
          "metadata": {
            "tags": []
          },
          "execution_count": 90
        },
        {
          "output_type": "display_data",
          "data": {
            "image/png": "[encoded data removed]",
            "text/plain": [
              "<Figure size 432x288 with 1 Axes>"
            ]
          },
          "metadata": {
            "tags": [],
            "needs_background": "light"
          }
        }
      ]
    },
    {
      "cell_type": "markdown",
      "metadata": {
        "id": "SQi0z5z_W68k"
      },
      "source": [
        "#### Two Trotter Steps"
      ]
    },
    {
      "cell_type": "code",
      "metadata": {
        "colab": {
          "base_uri": "https://localhost:8080/",
          "height": 66,
          "referenced_widgets": [
            "74aa341ed33647adbd0c3601766a569f",
            "08759a79c8f9439985d6a4cd462b846e",
            "b513f6df10c846cdb48db1b122bef7fe",
            "04e107f1bfcf4b528151280bf813a2cb",
            "aedae09c115c4b2692c724a93b3fa5c2",
            "45774fda99e14409b55eb14b6f8c6535",
            "bd168b6ce1c642bda36d8819bf202168",
            "3ca08272ca424dac9f306c754cec46f7"
          ]
        },
        "id": "btcdgD95YZRK",
        "outputId": "b3490a28-3b55-4240-9880-d1f8a816ebcf"
      },
      "source": [
        "shots= 10000\n",
        "qbit = 6\n",
        "cbit = 2\n",
        "trotter = 2\n",
        "gamma = np.arange(-2*pi,2*pi,pi/4)\n",
        "basis = ['ZZ','XX','YY']\n",
        "XYZ_state2_00 = []\n",
        "XYZ_state2_01 = []\n",
        "XYZ_state2_10 = []\n",
        "XYZ_state2_11 = []\n",
        "for i in tqdm(range(len(gamma))):\n",
        "  var = np.array([pi/12,pi/12,gamma[i]])\n",
        "  State = Results('odd',qbit,cbit,trotter,basis,var,shots)\n",
        "  XYZ_state2_00.append(np.sum(State[0]))\n",
        "  XYZ_state2_01.append(np.sum(State[1]))\n",
        "  XYZ_state2_10.append(np.sum(State[2]))\n",
        "  XYZ_state2_11.append(np.sum(State[3]))"
      ],
      "execution_count": null,
      "outputs": [
        {
          "output_type": "display_data",
          "data": {
            "application/vnd.jupyter.widget-view+json": {
              "model_id": "74aa341ed33647adbd0c3601766a569f",
              "version_minor": 0,
              "version_major": 2
            },
            "text/plain": [
              "HBox(children=(FloatProgress(value=0.0, max=16.0), HTML(value='')))"
            ]
          },
          "metadata": {
            "tags": []
          }
        },
        {
          "output_type": "stream",
          "text": [
            "\n"
          ],
          "name": "stdout"
        }
      ]
    },
    {
      "cell_type": "code",
      "metadata": {
        "colab": {
          "base_uri": "https://localhost:8080/",
          "height": 296
        },
        "id": "LZPthtZxYay8",
        "outputId": "011115ca-6254-444d-9133-113b13ec7c84"
      },
      "source": [
        "plt.plot(gamma,XYZ_state2_00,color='g',label='|00>')\n",
        "plt.plot(gamma,XYZ_state2_01, color='r',label='|01>')\n",
        "plt.plot(gamma,XYZ_state2_10,color='b',label='|10>')\n",
        "plt.plot(gamma,XYZ_state2_11,color='k',label='|11>')\n",
        "plt.legend()\n",
        "plt.xlabel('gamma')\n",
        "plt.ylabel('Sum of XX YY ZZ Prob')"
      ],
      "execution_count": null,
      "outputs": [
        {
          "output_type": "execute_result",
          "data": {
            "text/plain": [
              "Text(0, 0.5, 'Sum of XX YY ZZ Prob')"
            ]
          },
          "metadata": {
            "tags": []
          },
          "execution_count": 92
        },
        {
          "output_type": "display_data",
          "data": {
            "image/png": "[encoded data removed]",
            "text/plain": [
              "<Figure size 432x288 with 1 Axes>"
            ]
          },
          "metadata": {
            "tags": [],
            "needs_background": "light"
          }
        }
      ]
    },
    {
      "cell_type": "markdown",
      "metadata": {
        "id": "YWcGGB0YW4Fw"
      },
      "source": [
        "#### Three Trotter Steps"
      ]
    },
    {
      "cell_type": "code",
      "metadata": {
        "colab": {
          "base_uri": "https://localhost:8080/",
          "height": 66,
          "referenced_widgets": [
            "188193f689734d20a3591dddd41cd24a",
            "490e8a36297543969771bfff3f7f4653",
            "01497303cc444c449e801c67cff3ca2e",
            "a1318d93c8ca46309942a45050a23e20",
            "5f2bea310f6e466b89d0dd3fb8426b3f",
            "6c0db5bc86d94833862c53616e284210",
            "ff609ff9e5fc44188570b4f9a09ddd61",
            "157491fa2dc04c3298cf483c0bd3d873"
          ]
        },
        "id": "OG9-pJ4_Yixg",
        "outputId": "457ca260-6735-45a9-ec0f-8a33fc974eef"
      },
      "source": [
        "shots= 10000\n",
        "qbit = 6\n",
        "cbit = 2\n",
        "trotter = 3\n",
        "gamma = np.arange(-2*pi,2*pi,pi/4)\n",
        "basis = ['ZZ','XX','YY']\n",
        "XYZ_state3_00 = []\n",
        "XYZ_state3_01 = []\n",
        "XYZ_state3_10 = []\n",
        "XYZ_state3_11 = []\n",
        "for i in tqdm(range(len(gamma))):\n",
        "  var = np.array([pi/12,pi/12,gamma[i]])\n",
        "  State = Results('odd',qbit,cbit,trotter,basis,var,shots)\n",
        "  XYZ_state3_00.append(np.sum(State[0]))\n",
        "  XYZ_state3_01.append(np.sum(State[1]))\n",
        "  XYZ_state3_10.append(np.sum(State[2]))\n",
        "  XYZ_state3_11.append(np.sum(State[3]))"
      ],
      "execution_count": null,
      "outputs": [
        {
          "output_type": "display_data",
          "data": {
            "application/vnd.jupyter.widget-view+json": {
              "model_id": "188193f689734d20a3591dddd41cd24a",
              "version_minor": 0,
              "version_major": 2
            },
            "text/plain": [
              "HBox(children=(FloatProgress(value=0.0, max=16.0), HTML(value='')))"
            ]
          },
          "metadata": {
            "tags": []
          }
        },
        {
          "output_type": "stream",
          "text": [
            "\n"
          ],
          "name": "stdout"
        }
      ]
    },
    {
      "cell_type": "code",
      "metadata": {
        "colab": {
          "base_uri": "https://localhost:8080/",
          "height": 296
        },
        "id": "iXuez_YjYjti",
        "outputId": "e33b4b52-e603-42f0-e10d-0e0652ff02d1"
      },
      "source": [
        "plt.plot(gamma,XYZ_state3_00,color='g',label='|00>')\n",
        "plt.plot(gamma,XYZ_state3_01, color='r',label='|01>')\n",
        "plt.plot(gamma,XYZ_state3_10,color='b',label='|10>')\n",
        "plt.plot(gamma,XYZ_state3_11,color='k',label='|11>')\n",
        "plt.legend()\n",
        "plt.xlabel('gamma')\n",
        "plt.ylabel('Sum of XX YY ZZ Prob')"
      ],
      "execution_count": null,
      "outputs": [
        {
          "output_type": "execute_result",
          "data": {
            "text/plain": [
              "Text(0, 0.5, 'Sum of XX YY ZZ Prob')"
            ]
          },
          "metadata": {
            "tags": []
          },
          "execution_count": 94
        },
        {
          "output_type": "display_data",
          "data": {
            "image/png": "[encoded data removed]",
            "text/plain": [
              "<Figure size 432x288 with 1 Axes>"
            ]
          },
          "metadata": {
            "tags": [],
            "needs_background": "light"
          }
        }
      ]
    },
    {
      "cell_type": "markdown",
      "metadata": {
        "id": "prcJAP78WyCK"
      },
      "source": [
        "#### Four Trotter Steps"
      ]
    },
    {
      "cell_type": "code",
      "metadata": {
        "colab": {
          "base_uri": "https://localhost:8080/",
          "height": 66,
          "referenced_widgets": [
            "29429eb1c5e8487d867379eb9f1c4be3",
            "8c35f6ff630e4a77bbdc465b7040390f",
            "73950a4a83874244b9da2a2c1441eb08",
            "5aea7a53db954109bad45c3aa14ea0d3",
            "29f9b533fe3d4707bd34bd05854dc852",
            "fa8485cd5f924ea9a632de8174c67bb8",
            "98d599f447534db28ef27d615e91f7fb",
            "1cae1bb37852418b86b6a35b904b62d2"
          ]
        },
        "id": "zibtuXTCYtO4",
        "outputId": "6689b12b-65b1-49e9-dc4f-27cb709e9061"
      },
      "source": [
        "shots= 10000\n",
        "qbit = 6\n",
        "cbit = 2\n",
        "trotter = 4\n",
        "gamma = np.arange(-2*pi,2*pi,pi/4)\n",
        "basis = ['ZZ','XX','YY']\n",
        "XYZ_state4_00 = []\n",
        "XYZ_state4_01 = []\n",
        "XYZ_state4_10 = []\n",
        "XYZ_state4_11 = []\n",
        "for i in tqdm(range(len(gamma))):\n",
        "  var = np.array([pi/12,pi/12,gamma[i]])\n",
        "  State = Results('odd',qbit,cbit,trotter,basis,var,shots)\n",
        "  XYZ_state4_00.append(np.sum(State[0]))\n",
        "  XYZ_state4_01.append(np.sum(State[1]))\n",
        "  XYZ_state4_10.append(np.sum(State[2]))\n",
        "  XYZ_state4_11.append(np.sum(State[3]))"
      ],
      "execution_count": null,
      "outputs": [
        {
          "output_type": "display_data",
          "data": {
            "application/vnd.jupyter.widget-view+json": {
              "model_id": "29429eb1c5e8487d867379eb9f1c4be3",
              "version_minor": 0,
              "version_major": 2
            },
            "text/plain": [
              "HBox(children=(FloatProgress(value=0.0, max=16.0), HTML(value='')))"
            ]
          },
          "metadata": {
            "tags": []
          }
        },
        {
          "output_type": "stream",
          "text": [
            "\n"
          ],
          "name": "stdout"
        }
      ]
    },
    {
      "cell_type": "code",
      "metadata": {
        "colab": {
          "base_uri": "https://localhost:8080/",
          "height": 296
        },
        "id": "HFRYy9lzYuJb",
        "outputId": "73187aef-c446-4b8f-996b-b9dfabbe68b9"
      },
      "source": [
        "plt.plot(gamma,XYZ_state4_00,color='g',label='|00>')\n",
        "plt.plot(gamma,XYZ_state4_01, color='r',label='|01>')\n",
        "plt.plot(gamma,XYZ_state4_10,color='b',label='|10>')\n",
        "plt.plot(gamma,XYZ_state4_11,color='k',label='|11>')\n",
        "plt.legend()\n",
        "plt.xlabel('gamma')\n",
        "plt.ylabel('Sum of XX YY ZZ Prob')"
      ],
      "execution_count": null,
      "outputs": [
        {
          "output_type": "execute_result",
          "data": {
            "text/plain": [
              "Text(0, 0.5, 'Sum of XX YY ZZ Prob')"
            ]
          },
          "metadata": {
            "tags": []
          },
          "execution_count": 96
        },
        {
          "output_type": "display_data",
          "data": {
            "image/png": "[encoded data removed]",
            "text/plain": [
              "<Figure size 432x288 with 1 Axes>"
            ]
          },
          "metadata": {
            "tags": [],
            "needs_background": "light"
          }
        }
      ]
    },
    {
      "cell_type": "markdown",
      "metadata": {
        "id": "jSV12Y8TWyCL"
      },
      "source": [
        "#### Five Trotter Steps"
      ]
    },
    {
      "cell_type": "code",
      "metadata": {
        "colab": {
          "base_uri": "https://localhost:8080/",
          "height": 66,
          "referenced_widgets": [
            "9b42d96b5a984ad1b3ce9f3086bef6e2",
            "d2d7ca7e71034669987b28c81d8c45f1",
            "8374534029304e8b8f9a8d72e1668f99",
            "02ef7eaa4285428fbb6710f39217b193",
            "e4e193c1cd594e3180a25376d0612a79",
            "07be4b71981e4685b6611433b33c3fc1",
            "3bbdee85d60544809c6df78dc62288e7",
            "3cc40a4ee78d468d9e323d9b9963119c"
          ]
        },
        "id": "J_-mknhPYz6v",
        "outputId": "958baf3d-4915-4f13-d732-f4a420de9f7f"
      },
      "source": [
        "shots= 10000\n",
        "qbit = 6\n",
        "cbit = 2\n",
        "trotter = 5\n",
        "gamma = np.arange(-2*pi,2*pi,pi/4)\n",
        "basis = ['ZZ','XX','YY']\n",
        "XYZ_state5_00 = []\n",
        "XYZ_state5_01 = []\n",
        "XYZ_state5_10 = []\n",
        "XYZ_state5_11 = []\n",
        "for i in tqdm(range(len(gamma))):\n",
        "  var = np.array([pi/12,pi/12,gamma[i]])\n",
        "  State = Results('odd',qbit,cbit,trotter,basis,var,shots)\n",
        "  XYZ_state5_00.append(np.sum(State[0]))\n",
        "  XYZ_state5_01.append(np.sum(State[1]))\n",
        "  XYZ_state5_10.append(np.sum(State[2]))\n",
        "  XYZ_state5_11.append(np.sum(State[3]))"
      ],
      "execution_count": null,
      "outputs": [
        {
          "output_type": "display_data",
          "data": {
            "application/vnd.jupyter.widget-view+json": {
              "model_id": "9b42d96b5a984ad1b3ce9f3086bef6e2",
              "version_minor": 0,
              "version_major": 2
            },
            "text/plain": [
              "HBox(children=(FloatProgress(value=0.0, max=16.0), HTML(value='')))"
            ]
          },
          "metadata": {
            "tags": []
          }
        },
        {
          "output_type": "stream",
          "text": [
            "\n"
          ],
          "name": "stdout"
        }
      ]
    },
    {
      "cell_type": "code",
      "metadata": {
        "colab": {
          "base_uri": "https://localhost:8080/",
          "height": 298
        },
        "id": "8MXKuHpgY1CO",
        "outputId": "ea6f37e0-68dc-4345-8cf4-7e5543f074b1"
      },
      "source": [
        "plt.plot(gamma,XYZ_state5_00,color='g',label='|00>')\n",
        "plt.plot(gamma,XYZ_state5_01, color='r',label='|01>')\n",
        "plt.plot(gamma,XYZ_state5_10,color='b',label='|10>')\n",
        "plt.plot(gamma,XYZ_state5_11,color='k',label='|11>')\n",
        "plt.legend()\n",
        "plt.xlabel('gamma')\n",
        "plt.ylabel('Sum of XX YY ZZ Prob')"
      ],
      "execution_count": null,
      "outputs": [
        {
          "output_type": "execute_result",
          "data": {
            "text/plain": [
              "Text(0, 0.5, 'Sum of XX YY ZZ Prob')"
            ]
          },
          "metadata": {
            "tags": []
          },
          "execution_count": 98
        },
        {
          "output_type": "display_data",
          "data": {
            "image/png": "[encoded data removed]",
            "text/plain": [
              "<Figure size 432x288 with 1 Axes>"
            ]
          },
          "metadata": {
            "tags": [],
            "needs_background": "light"
          }
        }
      ]
    },
    {
      "cell_type": "markdown",
      "metadata": {
        "id": "r-gi1m_8WyCL"
      },
      "source": [
        "#### Combining Trotter Steps"
      ]
    },
    {
      "cell_type": "code",
      "metadata": {
        "id": "4Xe0BR42Y7yK"
      },
      "source": [
        "XYZ_trotterstep = np.array([1,2,3,4,5])\n",
        "XYZ_trot00 = np.array([np.mean(XYZ_state1_00),np.mean(XYZ_state2_00),np.mean(XYZ_state3_00),np.mean(XYZ_state4_00),np.mean(XYZ_state5_00)])\n",
        "XYZ_trot01 = np.array([np.mean(XYZ_state1_01),np.mean(XYZ_state2_01),np.mean(XYZ_state3_01),np.mean(XYZ_state4_01),np.mean(XYZ_state5_01)])\n",
        "XYZ_trot10 = np.array([np.mean(XYZ_state1_10),np.mean(XYZ_state2_10),np.mean(XYZ_state3_10),np.mean(XYZ_state4_10),np.mean(XYZ_state5_10)])\n",
        "XYZ_trot11 = np.array([np.mean(XYZ_state1_11),np.mean(XYZ_state2_11),np.mean(XYZ_state3_11),np.mean(XYZ_state4_11),np.mean(XYZ_state5_11)])\n",
        "XYZ_trot00_std = np.array([np.std(XYZ_state1_00),np.std(XYZ_state2_00),np.std(XYZ_state3_00),np.std(XYZ_state4_00),np.std(XYZ_state5_00)])\n",
        "XYZ_trot01_std = np.array([np.std(XYZ_state1_01),np.std(XYZ_state2_01),np.std(XYZ_state3_01),np.std(XYZ_state4_01),np.std(XYZ_state5_01)])\n",
        "XYZ_trot10_std = np.array([np.std(XYZ_state1_10),np.std(XYZ_state2_10),np.std(XYZ_state3_10),np.std(XYZ_state4_10),np.std(XYZ_state5_10)])\n",
        "XYZ_trot11_std = np.array([np.std(XYZ_state1_11),np.std(XYZ_state2_11),np.std(XYZ_state3_11),np.std(XYZ_state4_11),np.std(XYZ_state5_11)])"
      ],
      "execution_count": null,
      "outputs": []
    },
    {
      "cell_type": "code",
      "metadata": {
        "colab": {
          "base_uri": "https://localhost:8080/",
          "height": 661
        },
        "id": "hjSS7FjzY8_S",
        "outputId": "5885a928-18bd-46f0-f9f0-c2df035cf26d"
      },
      "source": [
        "figure(num=None,figsize=(8,6), dpi=120, facecolor='w', edgecolor='k')\n",
        "plt.plot(XYZ_trotterstep,XYZ_trot00,'b.--',linewidth=0.5,label='|00>')\n",
        "plt.plot(XYZ_trotterstep,XYZ_trot01,'g.--',linewidth=0.5,label='|01>')\n",
        "plt.plot(XYZ_trotterstep,XYZ_trot10,'r.--',linewidth=0.5,label='|10>')\n",
        "plt.plot(XYZ_trotterstep,XYZ_trot11,'k.--',linewidth=0.5,label='|11>')\n",
        "plt.legend()\n",
        "plt.xlabel('Trotter Step')\n",
        "plt.ylabel('Sum of XX YY ZZ Prob')"
      ],
      "execution_count": null,
      "outputs": [
        {
          "output_type": "execute_result",
          "data": {
            "text/plain": [
              "Text(0, 0.5, 'Sum of XX YY ZZ Prob')"
            ]
          },
          "metadata": {
            "tags": []
          },
          "execution_count": 100
        },
        {
          "output_type": "display_data",
          "data": {
            "image/png": "[encoded data removed]",
            "text/plain": [
              "<Figure size 960x720 with 1 Axes>"
            ]
          },
          "metadata": {
            "tags": []
          }
        }
      ]
    },
    {
      "cell_type": "code",
      "metadata": {
        "id": "YLp5WpldvhcQ"
      },
      "source": [
        ""
      ],
      "execution_count": null,
      "outputs": []
    }
  ]
}